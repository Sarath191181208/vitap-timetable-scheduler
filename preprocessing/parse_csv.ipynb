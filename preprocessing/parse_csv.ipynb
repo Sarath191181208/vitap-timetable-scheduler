{
 "cells": [
  {
   "cell_type": "code",
   "execution_count": 4,
   "metadata": {},
   "outputs": [
    {
     "name": "stdout",
     "output_type": "stream",
     "text": [
      "Collecting jpype1\n",
      "  Downloading JPype1-1.5.0-cp312-cp312-manylinux_2_17_x86_64.manylinux2014_x86_64.whl.metadata (4.9 kB)\n",
      "Requirement already satisfied: packaging in ./.venv/lib/python3.12/site-packages (from jpype1) (24.0)\n",
      "Downloading JPype1-1.5.0-cp312-cp312-manylinux_2_17_x86_64.manylinux2014_x86_64.whl (488 kB)\n",
      "\u001b[2K   \u001b[38;2;114;156;31m━━━━━━━━━━━━━━━━━━━━━━━━━━━━━━━━━━━━━━━━\u001b[0m \u001b[32m488.9/488.9 kB\u001b[0m \u001b[31m2.1 MB/s\u001b[0m eta \u001b[36m0:00:00\u001b[0m[36m0:00:01\u001b[0m[36m0:00:01\u001b[0m\n",
      "\u001b[?25hInstalling collected packages: jpype1\n",
      "Successfully installed jpype1-1.5.0\n",
      "Note: you may need to restart the kernel to use updated packages.\n"
     ]
    }
   ],
   "source": [
    "%pip install jpype1"
   ]
  },
  {
   "cell_type": "code",
   "execution_count": 26,
   "metadata": {},
   "outputs": [],
   "source": [
    "import numpy as np \n",
    "import pandas as pd\n",
    "from pathlib import Path \n",
    "import os \n",
    "\n",
    "data_dir = csv_path = Path(os.getcwd()) / 'data' \n",
    "is_lab = False\n",
    "pdf_path = data_dir/ 'ANNEXURE - II(B) THEORY SLOTS.pdf'"
   ]
  },
  {
   "cell_type": "code",
   "execution_count": 30,
   "metadata": {},
   "outputs": [],
   "source": [
    "from tabula import io\n",
    "is_lab: bool = False\n",
    "dfs = io.read_pdf(pdf_path.resolve(), pages=[i+1 for i in range(3)], multiple_tables=False, guess=False, encoding='cp1252')"
   ]
  },
  {
   "cell_type": "code",
   "execution_count": 31,
   "metadata": {},
   "outputs": [
    {
     "data": {
      "text/plain": [
       "1"
      ]
     },
     "execution_count": 31,
     "metadata": {},
     "output_type": "execute_result"
    }
   ],
   "source": [
    "len(dfs)"
   ]
  },
  {
   "cell_type": "code",
   "execution_count": 32,
   "metadata": {},
   "outputs": [],
   "source": [
    "df = dfs[0]"
   ]
  },
  {
   "cell_type": "code",
   "execution_count": 23,
   "metadata": {},
   "outputs": [
    {
     "data": {
      "text/html": [
       "<div>\n",
       "<style scoped>\n",
       "    .dataframe tbody tr th:only-of-type {\n",
       "        vertical-align: middle;\n",
       "    }\n",
       "\n",
       "    .dataframe tbody tr th {\n",
       "        vertical-align: top;\n",
       "    }\n",
       "\n",
       "    .dataframe thead th {\n",
       "        text-align: right;\n",
       "    }\n",
       "</style>\n",
       "<table border=\"1\" class=\"dataframe\">\n",
       "  <thead>\n",
       "    <tr style=\"text-align: right;\">\n",
       "      <th></th>\n",
       "      <th>COURSE CODE</th>\n",
       "      <th>COURSE TITLE</th>\n",
       "      <th>SLOT</th>\n",
       "    </tr>\n",
       "  </thead>\n",
       "  <tbody>\n",
       "    <tr>\n",
       "      <th>0</th>\n",
       "      <td>CHY1001</td>\n",
       "      <td>Environmental Studies</td>\n",
       "      <td>A+TA</td>\n",
       "    </tr>\n",
       "  </tbody>\n",
       "</table>\n",
       "</div>"
      ],
      "text/plain": [
       "  COURSE CODE           COURSE TITLE  SLOT\n",
       "0     CHY1001  Environmental Studies  A+TA"
      ]
     },
     "execution_count": 23,
     "metadata": {},
     "output_type": "execute_result"
    }
   ],
   "source": [
    "# get the col where code is chy1001\n",
    "df[df['COURSE CODE'] == 'CHY1001']"
   ]
  },
  {
   "cell_type": "code",
   "execution_count": 10,
   "metadata": {},
   "outputs": [
    {
     "data": {
      "text/plain": [
       "(648, 3)"
      ]
     },
     "execution_count": 10,
     "metadata": {},
     "output_type": "execute_result"
    }
   ],
   "source": [
    "df.shape"
   ]
  },
  {
   "cell_type": "code",
   "execution_count": 19,
   "metadata": {},
   "outputs": [
    {
     "data": {
      "text/plain": [
       "COURSE CODE     0\n",
       "COURSE TITLE    0\n",
       "SLOT            0\n",
       "dtype: int64"
      ]
     },
     "execution_count": 19,
     "metadata": {},
     "output_type": "execute_result"
    }
   ],
   "source": [
    "df.isna().sum()"
   ]
  },
  {
   "cell_type": "code",
   "execution_count": 7,
   "metadata": {},
   "outputs": [],
   "source": [
    "# drop all the isna \n",
    "df = df.dropna()"
   ]
  },
  {
   "cell_type": "code",
   "execution_count": 33,
   "metadata": {},
   "outputs": [
    {
     "data": {
      "text/plain": [
       "COURSE CODE             TEC3001\n",
       "COURSE TITLE    Design Thinking\n",
       "SLOT                   C+TC+TCC\n",
       "Name: 118, dtype: object"
      ]
     },
     "execution_count": 33,
     "metadata": {},
     "output_type": "execute_result"
    }
   ],
   "source": [
    "# give me the last element\n",
    "df.iloc[-1, :]# give me the last element\n",
    "df.iloc[-1, :]"
   ]
  },
  {
   "cell_type": "code",
   "execution_count": 34,
   "metadata": {},
   "outputs": [],
   "source": [
    "# remove all the white space characters inside df\n",
    "df = df.replace(r'\\s+', ' ', regex=True)"
   ]
  },
  {
   "cell_type": "code",
   "execution_count": 38,
   "metadata": {},
   "outputs": [
    {
     "data": {
      "text/html": [
       "<div>\n",
       "<style scoped>\n",
       "    .dataframe tbody tr th:only-of-type {\n",
       "        vertical-align: middle;\n",
       "    }\n",
       "\n",
       "    .dataframe tbody tr th {\n",
       "        vertical-align: top;\n",
       "    }\n",
       "\n",
       "    .dataframe thead th {\n",
       "        text-align: right;\n",
       "    }\n",
       "</style>\n",
       "<table border=\"1\" class=\"dataframe\">\n",
       "  <thead>\n",
       "    <tr style=\"text-align: right;\">\n",
       "      <th></th>\n",
       "      <th>COURSE CODE</th>\n",
       "      <th>COURSE TITLE</th>\n",
       "      <th>SLOT</th>\n",
       "    </tr>\n",
       "  </thead>\n",
       "  <tbody>\n",
       "    <tr>\n",
       "      <th>0</th>\n",
       "      <td>CHY1001</td>\n",
       "      <td>Environmental Studies</td>\n",
       "      <td>A+TA</td>\n",
       "    </tr>\n",
       "    <tr>\n",
       "      <th>1</th>\n",
       "      <td>CHY1004</td>\n",
       "      <td>Engineering Chemistry</td>\n",
       "      <td>C+TC</td>\n",
       "    </tr>\n",
       "    <tr>\n",
       "      <th>2</th>\n",
       "      <td>CHY1005</td>\n",
       "      <td>Industrial Chemistry for Engineers</td>\n",
       "      <td>A+TA+TAA</td>\n",
       "    </tr>\n",
       "    <tr>\n",
       "      <th>3</th>\n",
       "      <td>CHY1006</td>\n",
       "      <td>Corrosion Science and Engineering</td>\n",
       "      <td>C+TC+TCC</td>\n",
       "    </tr>\n",
       "    <tr>\n",
       "      <th>4</th>\n",
       "      <td>CHY2001</td>\n",
       "      <td>Chemical and Biosensors</td>\n",
       "      <td>A+TA+TAA</td>\n",
       "    </tr>\n",
       "  </tbody>\n",
       "</table>\n",
       "</div>"
      ],
      "text/plain": [
       "  COURSE CODE                        COURSE TITLE      SLOT\n",
       "0     CHY1001               Environmental Studies      A+TA\n",
       "1     CHY1004               Engineering Chemistry      C+TC\n",
       "2     CHY1005  Industrial Chemistry for Engineers  A+TA+TAA\n",
       "3     CHY1006   Corrosion Science and Engineering  C+TC+TCC\n",
       "4     CHY2001             Chemical and Biosensors  A+TA+TAA"
      ]
     },
     "execution_count": 38,
     "metadata": {},
     "output_type": "execute_result"
    }
   ],
   "source": [
    "df.head()# merge all the rows that have COURSE CODE AND SLOT AND COURSE TITLE as SAME\n",
    "# append all the SLOT values to the SLOT column SLOT col is a list \n",
    "_df = df.groupby([\"COURSE CODE\", \"TITLE\"])\\\n",
    "        .agg({\"SLOT\": lambda x: list(x)})\\\n",
    "        .reset_index()"
   ]
  },
  {
   "cell_type": "code",
   "execution_count": 49,
   "metadata": {},
   "outputs": [],
   "source": [
    "def remove_white_spaces(df):\n",
    "    # remove all the white space characters inside df\n",
    "    df = df.replace(r'\\s+', ' ', regex=True)\n",
    "    return df \n",
    "    \n",
    "def merge_slots(df):\n",
    "    # merge all the rows that have COURSE CODE AND SLOT AND COURSE TITLE as SAME\n",
    "    # append all the SLOT values to the SLOT column SLOT col is a list \n",
    "    _df = df.groupby([\"COURSE CODE\", \"COURSE TITLE\"])\\\n",
    "        .agg({\"SLOT\": lambda x: list(x)})\\\n",
    "        .reset_index()\n",
    "    return _df\n",
    "    \n",
    "def filter_course_slots(df):\n",
    "    # convert the course-slots into a set to remove duplicates and remove nan and the empty slots\n",
    "    df[\"SLOT\"] = df[\"SLOT\"].apply(lambda x: set(x) - {np.nan, \" \"})\n",
    "    return df \n",
    "\n",
    "def merge_course_code_and_title(df, is_lab):\n",
    "    _df = df\n",
    "    # merge course-code and course-title into a single column called course \n",
    "    _df[\"course\"] = _df[\"COURSE CODE\"] + \"-\" + _df[\"COURSE TITLE\"] + (\"( LAB )\" if is_lab else \"\") \n",
    "    # drop the course-code and course-title columns\n",
    "    _df.drop(columns=[\"COURSE CODE\", \"COURSE TITLE\"], inplace=True)\n",
    "    return df \n",
    "\n",
    "def to_json(df):\n",
    "    _df = df\n",
    "    # convert slot from set to list\n",
    "    _df[\"SLOT\"] = _df[\"SLOT\"].apply(lambda x: list(x))\n",
    "    return _df.set_index(\"course\").to_dict()[\"SLOT\"]\n",
    "\n",
    "def save_json(df_dict, name):\n",
    "    import json\n",
    "    with open(name, \"w\") as f:\n",
    "        json.dump(df_dict, f, indent=4)"
   ]
  },
  {
   "cell_type": "code",
   "execution_count": null,
   "metadata": {},
   "outputs": [],
   "source": [
    "is_lab = False\n",
    "fns = [\n",
    "    merge_slots, \n",
    "    filter_course_slots,\n",
    "    lambda df : merge_course_code_and_title(df, is_lab),\n",
    "    to_json,\n",
    "    lambda df : save_json(df, \"theory.json\")\n",
    "]\n",
    "\n",
    "_df = df.copy()\n",
    "for fn in fns:\n",
    "    _df = fn(_df)"
   ]
  },
  {
   "cell_type": "code",
   "execution_count": 56,
   "metadata": {},
   "outputs": [],
   "source": [
    "# read the ANNEXURE-II_A_-Theory-Slots.csv \n",
    "lab_path = data_dir / 'ANNEXURE - II(A) LAB SLOTS.pdf'\n",
    "dfs = io.read_pdf(lab_path.resolve(), pages=[i+1 for i in range(2)], multiple_tables=False, guess=False, encoding='cp1252')"
   ]
  },
  {
   "cell_type": "code",
   "execution_count": 57,
   "metadata": {},
   "outputs": [
    {
     "data": {
      "text/html": [
       "<div>\n",
       "<style scoped>\n",
       "    .dataframe tbody tr th:only-of-type {\n",
       "        vertical-align: middle;\n",
       "    }\n",
       "\n",
       "    .dataframe tbody tr th {\n",
       "        vertical-align: top;\n",
       "    }\n",
       "\n",
       "    .dataframe thead th {\n",
       "        text-align: right;\n",
       "    }\n",
       "</style>\n",
       "<table border=\"1\" class=\"dataframe\">\n",
       "  <thead>\n",
       "    <tr style=\"text-align: right;\">\n",
       "      <th></th>\n",
       "      <th>COURSE CODE</th>\n",
       "      <th>COURSE TITLE</th>\n",
       "      <th>SLOT</th>\n",
       "    </tr>\n",
       "  </thead>\n",
       "  <tbody>\n",
       "    <tr>\n",
       "      <th>0</th>\n",
       "      <td>CHY1004</td>\n",
       "      <td>Engineering Chemistry</td>\n",
       "      <td>L35+L36+L47+L48</td>\n",
       "    </tr>\n",
       "    <tr>\n",
       "      <th>1</th>\n",
       "      <td>CSE1007</td>\n",
       "      <td>Introduction to Cryptography</td>\n",
       "      <td>L31+L32+L43+L44</td>\n",
       "    </tr>\n",
       "    <tr>\n",
       "      <th>2</th>\n",
       "      <td>CSE1012</td>\n",
       "      <td>Problem Solving using Python</td>\n",
       "      <td>L27+L28+L39+L40</td>\n",
       "    </tr>\n",
       "    <tr>\n",
       "      <th>3</th>\n",
       "      <td>CSE1012</td>\n",
       "      <td>Problem Solving using Python</td>\n",
       "      <td>L31+L32+L43+L44</td>\n",
       "    </tr>\n",
       "    <tr>\n",
       "      <th>4</th>\n",
       "      <td>CSE2001</td>\n",
       "      <td>Data Structures and Algorithms</td>\n",
       "      <td>L35+L36+L47+L48</td>\n",
       "    </tr>\n",
       "  </tbody>\n",
       "</table>\n",
       "</div>"
      ],
      "text/plain": [
       "  COURSE CODE                    COURSE TITLE             SLOT\n",
       "0     CHY1004           Engineering Chemistry  L35+L36+L47+L48\n",
       "1     CSE1007    Introduction to Cryptography  L31+L32+L43+L44\n",
       "2     CSE1012    Problem Solving using Python  L27+L28+L39+L40\n",
       "3     CSE1012    Problem Solving using Python  L31+L32+L43+L44\n",
       "4     CSE2001  Data Structures and Algorithms  L35+L36+L47+L48"
      ]
     },
     "execution_count": 57,
     "metadata": {},
     "output_type": "execute_result"
    }
   ],
   "source": [
    "df = dfs[0]\n",
    "df.head()"
   ]
  },
  {
   "cell_type": "code",
   "execution_count": 59,
   "metadata": {},
   "outputs": [],
   "source": [
    "is_lab = True\n",
    "fns = [\n",
    "    remove_white_spaces,\n",
    "    merge_slots, \n",
    "    filter_course_slots,\n",
    "    lambda df : merge_course_code_and_title(df, is_lab),\n",
    "    to_json,\n",
    "    lambda df : save_json(df, \"lab.json\")\n",
    "]\n",
    "\n",
    "_df = df.copy()\n",
    "for fn in fns:\n",
    "    _df = fn(_df)"
   ]
  },
  {
   "cell_type": "code",
   "execution_count": 58,
   "metadata": {},
   "outputs": [
    {
     "data": {
      "text/plain": [
       "COURSE CODE                                        SWE4003\n",
       "COURSE TITLE    Concepts of Mobile Application Development\n",
       "SLOT                                       L31+L32+L43+L44\n",
       "Name: 55, dtype: object"
      ]
     },
     "execution_count": 58,
     "metadata": {},
     "output_type": "execute_result"
    }
   ],
   "source": [
    "# give me the last element\n",
    "df.iloc[-1, :]"
   ]
  },
  {
   "cell_type": "code",
   "execution_count": null,
   "metadata": {},
   "outputs": [
    {
     "data": {
      "text/html": [
       "<div>\n",
       "<style scoped>\n",
       "    .dataframe tbody tr th:only-of-type {\n",
       "        vertical-align: middle;\n",
       "    }\n",
       "\n",
       "    .dataframe tbody tr th {\n",
       "        vertical-align: top;\n",
       "    }\n",
       "\n",
       "    .dataframe thead th {\n",
       "        text-align: right;\n",
       "    }\n",
       "</style>\n",
       "<table border=\"1\" class=\"dataframe\">\n",
       "  <thead>\n",
       "    <tr style=\"text-align: right;\">\n",
       "      <th></th>\n",
       "      <th>COURSE CODE</th>\n",
       "      <th>TITLE</th>\n",
       "      <th>SLOT</th>\n",
       "    </tr>\n",
       "  </thead>\n",
       "  <tbody>\n",
       "    <tr>\n",
       "      <th>0</th>\n",
       "      <td>STS3006</td>\n",
       "      <td>Basic Competitive Coding - I</td>\n",
       "      <td>G1+TG1</td>\n",
       "    </tr>\n",
       "    <tr>\n",
       "      <th>1</th>\n",
       "      <td>CHY1001</td>\n",
       "      <td>Environmental Studies</td>\n",
       "      <td>E1</td>\n",
       "    </tr>\n",
       "    <tr>\n",
       "      <th>2</th>\n",
       "      <td>CHY1005</td>\n",
       "      <td>Industrial Chemistry for Engineers</td>\n",
       "      <td>C1+TC1</td>\n",
       "    </tr>\n",
       "    <tr>\n",
       "      <th>3</th>\n",
       "      <td>CHY1005</td>\n",
       "      <td>Industrial Chemistry for Engineers</td>\n",
       "      <td>G2+TG2</td>\n",
       "    </tr>\n",
       "    <tr>\n",
       "      <th>4</th>\n",
       "      <td>CHY1005</td>\n",
       "      <td>Industrial Chemistry for Engineers</td>\n",
       "      <td>G1+TG1</td>\n",
       "    </tr>\n",
       "  </tbody>\n",
       "</table>\n",
       "</div>"
      ],
      "text/plain": [
       "  COURSE CODE                               TITLE    SLOT\n",
       "0     STS3006        Basic Competitive Coding - I  G1+TG1\n",
       "1     CHY1001               Environmental Studies      E1\n",
       "2     CHY1005  Industrial Chemistry for Engineers  C1+TC1\n",
       "3     CHY1005  Industrial Chemistry for Engineers  G2+TG2\n",
       "4     CHY1005  Industrial Chemistry for Engineers  G1+TG1"
      ]
     },
     "execution_count": 59,
     "metadata": {},
     "output_type": "execute_result"
    }
   ],
   "source": [
    "df.head()"
   ]
  },
  {
   "cell_type": "code",
   "execution_count": 33,
   "metadata": {},
   "outputs": [],
   "source": [
    "csv_path = data_dir / 'ANNEXURE-II(B) Lab Slots.csv'\n",
    "df = pd.read_csv(csv_path.resolve())"
   ]
  },
  {
   "cell_type": "code",
   "execution_count": 36,
   "metadata": {},
   "outputs": [
    {
     "data": {
      "text/html": [
       "<div>\n",
       "<style scoped>\n",
       "    .dataframe tbody tr th:only-of-type {\n",
       "        vertical-align: middle;\n",
       "    }\n",
       "\n",
       "    .dataframe tbody tr th {\n",
       "        vertical-align: top;\n",
       "    }\n",
       "\n",
       "    .dataframe thead th {\n",
       "        text-align: right;\n",
       "    }\n",
       "</style>\n",
       "<table border=\"1\" class=\"dataframe\">\n",
       "  <thead>\n",
       "    <tr style=\"text-align: right;\">\n",
       "      <th></th>\n",
       "      <th>COURSE CODE</th>\n",
       "      <th>COURSE TITLE</th>\n",
       "      <th>SLOT</th>\n",
       "    </tr>\n",
       "  </thead>\n",
       "  <tbody>\n",
       "  </tbody>\n",
       "</table>\n",
       "</div>"
      ],
      "text/plain": [
       "Empty DataFrame\n",
       "Columns: [COURSE CODE, COURSE TITLE, SLOT]\n",
       "Index: []"
      ]
     },
     "execution_count": 36,
     "metadata": {},
     "output_type": "execute_result"
    }
   ],
   "source": [
    "# print all the courses whose course code aren't in the format of [A-Z]{3}[0-9]{3}\n",
    "df[~df[\"course code\".upper()].str.match(r\"^[A-Z]{3}[0-9]{4}$\")]"
   ]
  },
  {
   "cell_type": "code",
   "execution_count": 35,
   "metadata": {},
   "outputs": [],
   "source": [
    "# merge all the rows that have COURSE CODE AND SLOT AND COURSE TITLE as SAME\n",
    "# append all the SLOT values to the SLOT column SLOT col is a list \n",
    "_df = df.groupby([\"COURSE CODE\", \"TITLE\"])\\\n",
    "        .agg({\"SLOT\": lambda x: list(x)})\\\n",
    "        .reset_index()"
   ]
  },
  {
   "cell_type": "code",
   "execution_count": 36,
   "metadata": {},
   "outputs": [
    {
     "data": {
      "text/html": [
       "<div>\n",
       "<style scoped>\n",
       "    .dataframe tbody tr th:only-of-type {\n",
       "        vertical-align: middle;\n",
       "    }\n",
       "\n",
       "    .dataframe tbody tr th {\n",
       "        vertical-align: top;\n",
       "    }\n",
       "\n",
       "    .dataframe thead th {\n",
       "        text-align: right;\n",
       "    }\n",
       "</style>\n",
       "<table border=\"1\" class=\"dataframe\">\n",
       "  <thead>\n",
       "    <tr style=\"text-align: right;\">\n",
       "      <th></th>\n",
       "      <th>COURSE CODE</th>\n",
       "      <th>TITLE</th>\n",
       "      <th>SLOT</th>\n",
       "    </tr>\n",
       "  </thead>\n",
       "  <tbody>\n",
       "    <tr>\n",
       "      <th>0</th>\n",
       "      <td>CSE1005</td>\n",
       "      <td>Software Engineering</td>\n",
       "      <td>[L1+L2, L3+L4, L5+L6, L7+L8, L9+L10, L11+L12, ...</td>\n",
       "    </tr>\n",
       "    <tr>\n",
       "      <th>1</th>\n",
       "      <td>CSE1006</td>\n",
       "      <td>Foundations for Data Analytics</td>\n",
       "      <td>[L1+L2, L5+L6, L27+L28, L31+L32, L47+L48, L57+...</td>\n",
       "    </tr>\n",
       "    <tr>\n",
       "      <th>2</th>\n",
       "      <td>CSE1007</td>\n",
       "      <td>Introduction to Cryptography</td>\n",
       "      <td>[L37+L38, L7+L8, L51+L52]</td>\n",
       "    </tr>\n",
       "    <tr>\n",
       "      <th>3</th>\n",
       "      <td>CSE1020</td>\n",
       "      <td>Procedural Programming Using C</td>\n",
       "      <td>[L47+L48, L43+L44, L15+L16]</td>\n",
       "    </tr>\n",
       "    <tr>\n",
       "      <th>4</th>\n",
       "      <td>CSE2006</td>\n",
       "      <td>Computer Graphics</td>\n",
       "      <td>[L9+L10]</td>\n",
       "    </tr>\n",
       "  </tbody>\n",
       "</table>\n",
       "</div>"
      ],
      "text/plain": [
       "  COURSE CODE                           TITLE  \\\n",
       "0     CSE1005            Software Engineering   \n",
       "1     CSE1006  Foundations for Data Analytics   \n",
       "2     CSE1007    Introduction to Cryptography   \n",
       "3     CSE1020  Procedural Programming Using C   \n",
       "4     CSE2006               Computer Graphics   \n",
       "\n",
       "                                                SLOT  \n",
       "0  [L1+L2, L3+L4, L5+L6, L7+L8, L9+L10, L11+L12, ...  \n",
       "1  [L1+L2, L5+L6, L27+L28, L31+L32, L47+L48, L57+...  \n",
       "2                          [L37+L38, L7+L8, L51+L52]  \n",
       "3                        [L47+L48, L43+L44, L15+L16]  \n",
       "4                                           [L9+L10]  "
      ]
     },
     "execution_count": 36,
     "metadata": {},
     "output_type": "execute_result"
    }
   ],
   "source": [
    "_df.head()"
   ]
  },
  {
   "cell_type": "code",
   "execution_count": 37,
   "metadata": {},
   "outputs": [],
   "source": [
    "# convert the course-slots into a set to remove duplicates and remove nan and the empty slots\n",
    "_df[\"SLOT\"] = _df[\"SLOT\"].apply(lambda x: set(x) - {np.nan, \" \"})"
   ]
  },
  {
   "cell_type": "code",
   "execution_count": 38,
   "metadata": {},
   "outputs": [
    {
     "data": {
      "text/plain": [
       "COURSE CODE    0\n",
       "TITLE          0\n",
       "SLOT           0\n",
       "dtype: int64"
      ]
     },
     "execution_count": 38,
     "metadata": {},
     "output_type": "execute_result"
    }
   ],
   "source": [
    "_df.isnull().sum()"
   ]
  },
  {
   "cell_type": "code",
   "execution_count": 39,
   "metadata": {},
   "outputs": [],
   "source": [
    "# merge course-code and course-title into a single column called course \n",
    "_df[\"course\"] = _df[\"COURSE CODE\"] + \"-\" + _df[\"TITLE\"] + (\"( LAB )\" if is_lab else \"\") "
   ]
  },
  {
   "cell_type": "code",
   "execution_count": 40,
   "metadata": {},
   "outputs": [],
   "source": [
    "# drop the course-code and course-title columns\n",
    "_df.drop(columns=[\"COURSE CODE\", \"TITLE\"], inplace=True)"
   ]
  },
  {
   "cell_type": "code",
   "execution_count": 41,
   "metadata": {},
   "outputs": [],
   "source": [
    "# convert slot from set to list\n",
    "_df[\"SLOT\"] = _df[\"SLOT\"].apply(lambda x: list(x))"
   ]
  },
  {
   "cell_type": "code",
   "execution_count": 42,
   "metadata": {},
   "outputs": [
    {
     "data": {
      "text/plain": [
       "{'CSE1005-Software Engineering': ['L27+L28',\n",
       "  'L35+L36',\n",
       "  'L19+L20',\n",
       "  'L3+L4',\n",
       "  'L7+L8',\n",
       "  'L1+L2',\n",
       "  'L43+L44',\n",
       "  'L21+L22',\n",
       "  'L33+L34',\n",
       "  'L39+L40',\n",
       "  'L37+L38',\n",
       "  'L5+L6',\n",
       "  'L47+L48',\n",
       "  'L9+L10',\n",
       "  'L45+L46',\n",
       "  'L23+L24',\n",
       "  'L49+L50',\n",
       "  'L13+L14',\n",
       "  'L53+L54',\n",
       "  'L15+L16',\n",
       "  'L17+L18',\n",
       "  'L29+L30',\n",
       "  'L55+L56',\n",
       "  'L25+L26',\n",
       "  'L11+L12',\n",
       "  'L31+L32',\n",
       "  'L57+L58',\n",
       "  'L51+L52',\n",
       "  'L41+L42'],\n",
       " 'CSE1006-Foundations for Data Analytics': ['L23+L24',\n",
       "  'L27+L28',\n",
       "  'L5+L6',\n",
       "  'L13+L14',\n",
       "  'L3+L4',\n",
       "  'L1+L2',\n",
       "  'L33+L34',\n",
       "  'L31+L32',\n",
       "  'L57+L58',\n",
       "  'L51+L52',\n",
       "  'L41+L42',\n",
       "  'L47+L48'],\n",
       " 'CSE1007-Introduction to Cryptography': ['L51+L52', 'L7+L8', 'L37+L38'],\n",
       " 'CSE1020-Procedural Programming Using C': ['L47+L48', 'L43+L44', 'L15+L16'],\n",
       " 'CSE2006-Computer Graphics': ['L9+L10'],\n",
       " 'CSE2007-Database Management Systems': ['L27+L28',\n",
       "  'L35+L36',\n",
       "  'L19+L20',\n",
       "  'L3+L4',\n",
       "  'L7+L8',\n",
       "  'L1+L2',\n",
       "  'L43+L44',\n",
       "  'L21+L22',\n",
       "  'L33+L34',\n",
       "  'L39+L40',\n",
       "  'L37+L38',\n",
       "  'L5+L6',\n",
       "  'L47+L48',\n",
       "  'L9+L10',\n",
       "  'L45+L46',\n",
       "  'L23+L24',\n",
       "  'L49+L50',\n",
       "  'L13+L14',\n",
       "  'L53+L54',\n",
       "  'L15+L16',\n",
       "  'L17+L18',\n",
       "  'L29+L30',\n",
       "  'L55+L56',\n",
       "  'L25+L26',\n",
       "  'L11+L12',\n",
       "  'L31+L32',\n",
       "  'L57+L58',\n",
       "  'L51+L52',\n",
       "  'L41+L42'],\n",
       " 'CSE2011-Cyber Security and Digital Forensics': ['L3+L4',\n",
       "  'L41+L42',\n",
       "  'L39+L40'],\n",
       " 'CSE3002-Artificial Intelligence': ['L27+L28',\n",
       "  'L35+L36',\n",
       "  'L19+L20',\n",
       "  'L3+L4',\n",
       "  'L7+L8',\n",
       "  'L1+L2',\n",
       "  'L43+L44',\n",
       "  'L21+L22',\n",
       "  'L33+L34',\n",
       "  'L39+L40',\n",
       "  'L37+L38',\n",
       "  'L5+L6',\n",
       "  'L47+L48',\n",
       "  'L9+L10',\n",
       "  'L45+L46',\n",
       "  'L23+L24',\n",
       "  'L49+L50',\n",
       "  'L13+L14',\n",
       "  'L53+L54',\n",
       "  'L15+L16',\n",
       "  'L17+L18',\n",
       "  'L29+L30',\n",
       "  'L55+L56',\n",
       "  'L25+L26',\n",
       "  'L11+L12',\n",
       "  'L31+L32',\n",
       "  'L57+L58',\n",
       "  'L51+L52',\n",
       "  'L41+L42'],\n",
       " 'CSE3003-Computer Networks': ['L27+L28',\n",
       "  'L35+L36',\n",
       "  'L19+L20',\n",
       "  'L3+L4',\n",
       "  'L7+L8',\n",
       "  'L1+L2',\n",
       "  'L43+L44',\n",
       "  'L21+L22',\n",
       "  'L33+L34',\n",
       "  'L39+L40',\n",
       "  'L37+L38',\n",
       "  'L5+L6',\n",
       "  'L47+L48',\n",
       "  'L9+L10',\n",
       "  'L45+L46',\n",
       "  'L23+L24',\n",
       "  'L49+L50',\n",
       "  'L13+L14',\n",
       "  'L53+L54',\n",
       "  'L15+L16',\n",
       "  'L17+L18',\n",
       "  'L29+L30',\n",
       "  'L55+L56',\n",
       "  'L25+L26',\n",
       "  'L11+L12',\n",
       "  'L31+L32',\n",
       "  'L57+L58',\n",
       "  'L51+L52',\n",
       "  'L41+L42'],\n",
       " 'CSE3004-Design and Analysis of Algorithms': ['L27+L28',\n",
       "  'L35+L36',\n",
       "  'L19+L20',\n",
       "  'L3+L4',\n",
       "  'L7+L8',\n",
       "  'L21+L22',\n",
       "  'L43+L44',\n",
       "  'L37+L38',\n",
       "  'L39+L40',\n",
       "  'L5+L6',\n",
       "  'L47+L48',\n",
       "  'L9+L10',\n",
       "  'L45+L46',\n",
       "  'L23+L24',\n",
       "  'L49+L50',\n",
       "  'L13+L14',\n",
       "  'L53+L54',\n",
       "  'L15+L16',\n",
       "  'L17+L18',\n",
       "  'L29+L30',\n",
       "  'L55+L56',\n",
       "  'L25+L26',\n",
       "  'L11+L12',\n",
       "  'L31+L32',\n",
       "  'L57+L58',\n",
       "  'L51+L52'],\n",
       " 'CSE3006-Data Visualization': ['L7+L8', 'L53+L54', 'L15+L16', 'L39+L40'],\n",
       " 'CSE3008-Introduction to Machine Learning': ['L23+L24', 'L49+L50'],\n",
       " 'CSE3009-No SQL Databases': ['L53+L54',\n",
       "  'L29+L30',\n",
       "  'L25+L26',\n",
       "  'L31+L32',\n",
       "  'L9+L10'],\n",
       " 'CSE3011-Network Programming': ['L27+L28', 'L55+L56', 'L53+L54'],\n",
       " 'CSE3012-Network Security': ['L25+L26', 'L37+L38'],\n",
       " 'CSE3013-Secure Group Communications': ['L21+L22', 'L43+L44', 'L27+L28'],\n",
       " 'CSE3015-Natural Language Processing': ['L27+L28',\n",
       "  'L35+L36',\n",
       "  'L3+L4',\n",
       "  'L7+L8',\n",
       "  'L21+L22',\n",
       "  'L43+L44',\n",
       "  'L33+L34',\n",
       "  'L47+L48',\n",
       "  'L9+L10',\n",
       "  'L45+L46',\n",
       "  'L49+L50',\n",
       "  'L13+L14',\n",
       "  'L53+L54',\n",
       "  'L15+L16',\n",
       "  'L17+L18',\n",
       "  'L55+L56',\n",
       "  'L57+L58',\n",
       "  'L51+L52'],\n",
       " 'CSE4005-Data Warehousing and Data Mining': ['L51+L52',\n",
       "  'L25+L26',\n",
       "  'L41+L42',\n",
       "  'L11+L12'],\n",
       " 'CSE4007-Digital Image Processing': ['L27+L28',\n",
       "  'L35+L36',\n",
       "  'L13+L14',\n",
       "  'L3+L4',\n",
       "  'L17+L18',\n",
       "  'L21+L22',\n",
       "  'L37+L38',\n",
       "  'L55+L56',\n",
       "  'L33+L34',\n",
       "  'L11+L12',\n",
       "  'L31+L32',\n",
       "  'L57+L58',\n",
       "  'L47+L48',\n",
       "  'L9+L10'],\n",
       " 'CSE4008-Social Network Analysis': ['L23+L24',\n",
       "  'L19+L20',\n",
       "  'L1+L2',\n",
       "  'L57+L58',\n",
       "  'L47+L48'],\n",
       " 'CSE4016-Database Administration': ['L17+L18', 'L49+L50', 'L3+L4'],\n",
       " 'CSE4031-Web Application Security': ['L19+L20', 'L49+L50'],\n",
       " 'CSE4037-Reinforcement Learning': ['L23+L24',\n",
       "  'L35+L36',\n",
       "  'L19+L20',\n",
       "  'L3+L4',\n",
       "  'L15+L16',\n",
       "  'L37+L38',\n",
       "  'L33+L34',\n",
       "  'L31+L32',\n",
       "  'L41+L42',\n",
       "  'L9+L10',\n",
       "  'L45+L46'],\n",
       " 'CSE4040-Mining Massive Data Sets': ['L17+L18', 'L21+L22', 'L57+L58'],\n",
       " 'CSE4042-Blockchain Platforms and Applications': ['L55+L56'],\n",
       " 'CSE4044-Software Defined Networks and Network Function Virtualization': ['L39+L40'],\n",
       " 'ECE1007-Sensor Systems': ['L55+L56'],\n",
       " 'ECE1008-Sensors and Control Systems': ['L51+L52'],\n",
       " 'ECE2001-Analog Devices and Circuits': ['L7+L8',\n",
       "  'L37+L38',\n",
       "  'L35+L36',\n",
       "  'L39+L40'],\n",
       " 'ECE2006-Communication Systems': ['L23+L24', 'L51+L52', 'L55+L56', 'L3+L4'],\n",
       " 'ECE2007-Digital Signal Processing': ['L11+L12'],\n",
       " 'ECE2014-Microprocessors and Microcontrollers': ['L41+L42',\n",
       "  'L43+L44',\n",
       "  'L31+L32',\n",
       "  'L3+L4'],\n",
       " 'ECE3001-Linear Integrated Circuits and Applications': ['L41+L42',\n",
       "  'L33+L34',\n",
       "  'L11+L12',\n",
       "  'L9+L10'],\n",
       " 'ECE3005-CMOS VLSI Design': ['L51+L52'],\n",
       " 'ECE3006-HDL Verification and Methodology': ['L31+L32'],\n",
       " 'ECE3010-Speech processing': ['L33+L34'],\n",
       " 'ECE4003-Embedded Programming': ['L27+L28'],\n",
       " 'ECE4005-SOC Design': ['L21+L22'],\n",
       " 'ECE4006-Analog IC Design': ['L3+L4'],\n",
       " 'ECE4017-IoT Domain Analyst': ['L29+L30'],\n",
       " 'ECE4018-Image Analysis and Computer Vision': ['L51+L52'],\n",
       " 'MAT1011-Applied Statistics': ['L27+L28',\n",
       "  'L35+L36',\n",
       "  'L19+L20',\n",
       "  'L3+L4',\n",
       "  'L21+L22',\n",
       "  'L37+L38',\n",
       "  'L43+L44',\n",
       "  'L1+L2',\n",
       "  'L33+L34',\n",
       "  'L39+L40',\n",
       "  'L7+L8',\n",
       "  'L5+L6',\n",
       "  'L47+L48',\n",
       "  'L9+L10',\n",
       "  'L45+L46',\n",
       "  'L23+L24',\n",
       "  'L49+L50',\n",
       "  'L13+L14',\n",
       "  'L53+L54',\n",
       "  'L15+L16',\n",
       "  'L17+L18',\n",
       "  'L29+L30',\n",
       "  'L55+L56',\n",
       "  'L25+L26',\n",
       "  'L11+L12',\n",
       "  'L31+L32',\n",
       "  'L57+L58',\n",
       "  'L51+L52',\n",
       "  'L41+L42'],\n",
       " 'MAT2001-Numerical Methods for Engineers': ['L49+L50', 'L3+L4'],\n",
       " 'MAT2003-Optimization Techniques': ['L27+L28', 'L45+L46'],\n",
       " 'MEC1002-Engineering Graphics': ['L13+L14+L21+L22'],\n",
       " 'MEC2005-Fundamentals of Manufacturing Processes': ['L1+L2', 'L5+L6'],\n",
       " 'MEC3001-Heat and Mass Transfer': ['L37+L38'],\n",
       " 'MEC3002-Theory of Machines': ['L1+L2', 'L5+L6'],\n",
       " 'MEC3005-Automation in Manufacturing': ['L39+L40'],\n",
       " 'MEC3012-Additive Manufacturing': ['L41+L42'],\n",
       " 'MEC4003-Internal Combustion Engines': ['L33+L34'],\n",
       " 'MEC4008-Automobile Engineering': ['L39+L40'],\n",
       " 'MGT1001-Ethics and Values': ['L27+L28',\n",
       "  'L49+L50',\n",
       "  'L35+L36',\n",
       "  'L3+L4',\n",
       "  'L29+L30',\n",
       "  'L15+L16',\n",
       "  'L21+L22',\n",
       "  'L37+L38',\n",
       "  'L43+L44',\n",
       "  'L55+L56',\n",
       "  'L39+L40',\n",
       "  'L9+L10'],\n",
       " 'SWE2006-Database Systems': ['L49+L50',\n",
       "  'L53+L54',\n",
       "  'L19+L20',\n",
       "  'L17+L18',\n",
       "  'L1+L2',\n",
       "  'L47+L48',\n",
       "  'L9+L10',\n",
       "  'L45+L46'],\n",
       " 'SWE3001-Introduction to Computer Networks': ['L35+L36',\n",
       "  'L3+L4',\n",
       "  'L7+L8',\n",
       "  'L37+L38',\n",
       "  'L31+L32',\n",
       "  'L57+L58',\n",
       "  'L5+L6'],\n",
       " 'SWE3005-Principles of Design Patterns': ['L41+L42', 'L11+L12', 'L39+L40'],\n",
       " 'SWE4002-Software Testing': ['L29+L30', 'L53+L54', 'L45+L46'],\n",
       " 'SWE4006-Advanced Server Side Programming': ['L29+L30', 'L53+L54', 'L45+L46']}"
      ]
     },
     "execution_count": 42,
     "metadata": {},
     "output_type": "execute_result"
    }
   ],
   "source": [
    "# convert into a dict where course title is key and value is slots \n",
    "course_dict = _df.set_index(\"course\").to_dict()[\"SLOT\"]\n",
    "course_dict"
   ]
  },
  {
   "cell_type": "code",
   "execution_count": 43,
   "metadata": {},
   "outputs": [],
   "source": [
    "# save this as json \n",
    "import json\n",
    "with open(\"course_dict.json\", \"w\") as f:\n",
    "    json.dump(course_dict, f, indent=4)"
   ]
  }
 ],
 "metadata": {
  "kernelspec": {
   "display_name": "timetablescheduler_venv",
   "language": "python",
   "name": "timetablescheduler_venv"
  },
  "language_info": {
   "codemirror_mode": {
    "name": "ipython",
    "version": 3
   },
   "file_extension": ".py",
   "mimetype": "text/x-python",
   "name": "python",
   "nbconvert_exporter": "python",
   "pygments_lexer": "ipython3",
   "version": "3.12.3"
  }
 },
 "nbformat": 4,
 "nbformat_minor": 4
}
