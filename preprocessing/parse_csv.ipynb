{
 "cells": [
  {
   "cell_type": "markdown",
   "metadata": {},
   "source": [
    "## Imports and downloads"
   ]
  },
  {
   "cell_type": "code",
   "execution_count": 1,
   "metadata": {},
   "outputs": [
    {
     "name": "stdout",
     "output_type": "stream",
     "text": [
      "Collecting jpype1\n",
      "  Downloading JPype1-1.5.0-cp312-cp312-manylinux_2_17_x86_64.manylinux2014_x86_64.whl.metadata (4.9 kB)\n",
      "Requirement already satisfied: packaging in /home/sarath/.local/share/virtualenvs/preprocessing-_FXfS1Q_/lib/python3.12/site-packages (from jpype1) (24.1)\n",
      "Downloading JPype1-1.5.0-cp312-cp312-manylinux_2_17_x86_64.manylinux2014_x86_64.whl (488 kB)\n",
      "\u001b[2K   \u001b[38;2;114;156;31m━━━━━━━━━━━━━━━━━━━━━━━━━━━━━━━━━━━━━━━━\u001b[0m \u001b[32m488.9/488.9 kB\u001b[0m \u001b[31m2.7 MB/s\u001b[0m eta \u001b[36m0:00:00\u001b[0m[36m0:00:01\u001b[0mm eta \u001b[36m0:00:01\u001b[0m\n",
      "\u001b[?25hInstalling collected packages: jpype1\n",
      "Successfully installed jpype1-1.5.0\n",
      "Note: you may need to restart the kernel to use updated packages.\n"
     ]
    }
   ],
   "source": [
    "%pip install jpype1"
   ]
  },
  {
   "cell_type": "code",
   "execution_count": 23,
   "metadata": {},
   "outputs": [],
   "source": [
    "import numpy as np \n",
    "import pandas as pd\n",
    "from pathlib import Path \n",
    "import os \n",
    "from functools import partial \n",
    "\n",
    "data_dir = csv_path = Path(os.getcwd()) / 'data' "
   ]
  },
  {
   "cell_type": "markdown",
   "metadata": {},
   "source": [
    "## Helper Functions"
   ]
  },
  {
   "cell_type": "code",
   "execution_count": 22,
   "metadata": {},
   "outputs": [],
   "source": [
    "def remove_white_spaces(df):\n",
    "    # remove all the white space characters inside df\n",
    "    df = df.replace(r'\\s+', ' ', regex=True)\n",
    "    return df \n",
    "    \n",
    "def merge_slots(df, col_names):\n",
    "    # merge all the rows that have COURSE CODE AND SLOT AND COURSE TITLE as SAME\n",
    "    # append all the SLOT values to the SLOT column SLOT col is a list \n",
    "    _df = df.groupby([col_names[\"code\"], col_names[\"title\"]])\\\n",
    "        .agg({col_names[\"slot\"]: lambda x: list(x)})\\\n",
    "        .reset_index()\n",
    "    return _df\n",
    "    \n",
    "def filter_course_slots(df, col_names):\n",
    "    # convert the course-slots into a set to remove duplicates and remove nan and the empty slots\n",
    "    df[col_names[\"slot\"]] = df[col_names[\"slot\"]].apply(lambda x: set(x) - {np.nan, \" \"})\n",
    "    \n",
    "    # filter out columns with any cell containing '--' or sequences of repeated '-'\n",
    "    _df = df[~df[col_names[\"slot\"]].astype(str).str.contains('-{2,}')]\n",
    "    return _df \n",
    "\n",
    "def merge_course_code_and_title(df, col_names, is_lab):\n",
    "    _df = df\n",
    "    # merge course-code and course-title into a single column called course \n",
    "    _df[\"course\"] = _df[col_names[\"code\"]] + \"-\" + _df[col_names[\"title\"]] + (\"( LAB )\" if is_lab else \"\") \n",
    "    # drop the course-code and course-title columns\n",
    "    _df.drop(columns=[col_names[\"code\"], col_names[\"title\"]], inplace=True)\n",
    "    return df \n",
    "\n",
    "def to_json(df, col_names):\n",
    "    _df = df\n",
    "    slot_col_name = col_names[\"slot\"]\n",
    "    # convert slot from set to list\n",
    "    _df[slot_col_name] = _df[slot_col_name].apply(lambda x: list(x))\n",
    "    return _df.set_index(\"course\").to_dict()[slot_col_name]\n",
    "\n",
    "def save_json(df_dict, name, **kwargs):\n",
    "    import json\n",
    "    with open(name, \"w\") as f:\n",
    "        json.dump(df_dict, f, indent=4)"
   ]
  },
  {
   "cell_type": "markdown",
   "metadata": {},
   "source": [
    "## Parsing the Lab slots \n",
    "- Change the `path`\n",
    "- Change the `num pages`\n",
    "\n",
    "Saves the parsed data into `lab.json` in the current working directory."
   ]
  },
  {
   "cell_type": "code",
   "execution_count": 29,
   "metadata": {},
   "outputs": [],
   "source": [
    "# read the pdf and convert to dataframe\n",
    "NUM_PAGES = 8\n",
    "THEORY_PATH = data_dir / 'ANNEXURE - II(B) LAB SLOTS.pdf'\n",
    "dfs = io.read_pdf(\n",
    "    THEORY_PATH.resolve(), \n",
    "    pages=[i+1 for i in range(NUM_PAGES)], \n",
    "    multiple_tables=False, guess=False, encoding='cp1252'\n",
    ")\n",
    "df = dfs[0]"
   ]
  },
  {
   "cell_type": "code",
   "execution_count": null,
   "metadata": {},
   "outputs": [],
   "source": [
    "\n",
    "is_lab = True\n",
    "FILE_NAME = \"lab.json\"\n",
    "col_names = {\n",
    "    \"slot\" : \"LAB SLOT\",\n",
    "    \"code\" : \"COURSE CODE\",\n",
    "    \"title\": \"COURSE TITLE\"\n",
    "}\n",
    "\n",
    "fns = [\n",
    "    merge_slots, \n",
    "    filter_course_slots,\n",
    "    partial(merge_course_code_and_title, is_lab=is_lab),\n",
    "    to_json,\n",
    "    partial(save_json, name=FILE_NAME)\n",
    "]\n",
    "\n",
    "_df = df.copy()\n",
    "for fn in fns:\n",
    "    _df = fn(_df, col_names=col_names)"
   ]
  },
  {
   "cell_type": "markdown",
   "metadata": {},
   "source": [
    "## Parsing the Theory slots \n",
    "- Change the `path`\n",
    "- Change the `num pages`\n",
    "\n",
    "Saves the parsed data into `lab.json` in the current working directory."
   ]
  },
  {
   "cell_type": "code",
   "execution_count": 32,
   "metadata": {},
   "outputs": [],
   "source": [
    "# read the pdf and convert to dataframe\n",
    "NUM_PAGES = 12\n",
    "THEORY_PATH = data_dir / 'ANNEXURE - II(A) THEORY SLOTS.pdf'\n",
    "dfs = io.read_pdf(\n",
    "    THEORY_PATH.resolve(), \n",
    "    pages=[i+1 for i in range(NUM_PAGES)], \n",
    "    multiple_tables=False, guess=False, encoding='cp1252'\n",
    ")\n",
    "df = dfs[0]"
   ]
  },
  {
   "cell_type": "code",
   "execution_count": 33,
   "metadata": {},
   "outputs": [],
   "source": [
    "is_lab = False\n",
    "FILE_NAME = \"theory.json\"\n",
    "col_names = {\n",
    "    \"slot\" : \"SLOT\",\n",
    "    \"code\" : \"COURSE CODE\",\n",
    "    \"title\": \"COURSE TITLE\"\n",
    "}\n",
    "\n",
    "fns = [\n",
    "    merge_slots, \n",
    "    filter_course_slots,\n",
    "    partial(merge_course_code_and_title, is_lab=is_lab),\n",
    "    to_json,\n",
    "    partial(save_json, name=FILE_NAME)\n",
    "]\n",
    "\n",
    "_df = df.copy()\n",
    "for fn in fns:\n",
    "    _df = fn(_df, col_names=col_names)"
   ]
  },
  {
   "cell_type": "code",
   "execution_count": null,
   "metadata": {},
   "outputs": [],
   "source": [
    "\n",
    "df[df['COURSE CODE'] == 'CHY1001']"
   ]
  },
  {
   "cell_type": "markdown",
   "metadata": {},
   "source": [
    "## MISC"
   ]
  },
  {
   "cell_type": "code",
   "execution_count": 7,
   "metadata": {},
   "outputs": [],
   "source": [
    "data_dir = csv_path = Path(os.getcwd()) / 'data' \n",
    "is_lab = False\n",
    "pdf_path = data_dir/ 'ANNEXURE - II THEORY AND LAB SLOTS.pdf'"
   ]
  },
  {
   "cell_type": "code",
   "execution_count": null,
   "metadata": {
    "scrolled": true
   },
   "outputs": [],
   "source": [
    "from tabula import io\n",
    "is_lab: bool = False\n",
    "dfs = io.read_pdf(pdf_path.resolve(), pages=[i+1 for i in range(2)], multiple_tables=False, guess=False, encoding='cp1252')"
   ]
  },
  {
   "cell_type": "code",
   "execution_count": 4,
   "metadata": {},
   "outputs": [
    {
     "data": {
      "text/plain": [
       "1"
      ]
     },
     "execution_count": 4,
     "metadata": {},
     "output_type": "execute_result"
    }
   ],
   "source": [
    "len(dfs)"
   ]
  },
  {
   "cell_type": "code",
   "execution_count": 6,
   "metadata": {},
   "outputs": [],
   "source": [
    "df = dfs[0]"
   ]
  },
  {
   "cell_type": "code",
   "execution_count": 7,
   "metadata": {},
   "outputs": [
    {
     "data": {
      "text/html": [
       "<div>\n",
       "<style scoped>\n",
       "    .dataframe tbody tr th:only-of-type {\n",
       "        vertical-align: middle;\n",
       "    }\n",
       "\n",
       "    .dataframe tbody tr th {\n",
       "        vertical-align: top;\n",
       "    }\n",
       "\n",
       "    .dataframe thead th {\n",
       "        text-align: right;\n",
       "    }\n",
       "</style>\n",
       "<table border=\"1\" class=\"dataframe\">\n",
       "  <thead>\n",
       "    <tr style=\"text-align: right;\">\n",
       "      <th></th>\n",
       "      <th>COURSE CODE</th>\n",
       "      <th>COURSE TITLE</th>\n",
       "      <th>THEORY SLOT</th>\n",
       "      <th>LAB SLOT</th>\n",
       "    </tr>\n",
       "  </thead>\n",
       "  <tbody>\n",
       "    <tr>\n",
       "      <th>0</th>\n",
       "      <td>CHY1001</td>\n",
       "      <td>Environmental Studies</td>\n",
       "      <td>D</td>\n",
       "      <td>--</td>\n",
       "    </tr>\n",
       "  </tbody>\n",
       "</table>\n",
       "</div>"
      ],
      "text/plain": [
       "  COURSE CODE           COURSE TITLE THEORY SLOT LAB SLOT\n",
       "0     CHY1001  Environmental Studies           D       --"
      ]
     },
     "execution_count": 7,
     "metadata": {},
     "output_type": "execute_result"
    }
   ],
   "source": [
    "# get the col where code is chy1001\n",
    "df[df['COURSE CODE'] == 'CHY1001']"
   ]
  },
  {
   "cell_type": "code",
   "execution_count": 19,
   "metadata": {},
   "outputs": [
    {
     "data": {
      "text/html": [
       "<div>\n",
       "<style scoped>\n",
       "    .dataframe tbody tr th:only-of-type {\n",
       "        vertical-align: middle;\n",
       "    }\n",
       "\n",
       "    .dataframe tbody tr th {\n",
       "        vertical-align: top;\n",
       "    }\n",
       "\n",
       "    .dataframe thead th {\n",
       "        text-align: right;\n",
       "    }\n",
       "</style>\n",
       "<table border=\"1\" class=\"dataframe\">\n",
       "  <thead>\n",
       "    <tr style=\"text-align: right;\">\n",
       "      <th></th>\n",
       "      <th>COURSE CODE</th>\n",
       "      <th>COURSE TITLE</th>\n",
       "      <th>SLOT</th>\n",
       "    </tr>\n",
       "  </thead>\n",
       "  <tbody>\n",
       "    <tr>\n",
       "      <th>0</th>\n",
       "      <td>CSE1005</td>\n",
       "      <td>Software Engineering</td>\n",
       "      <td>L10+L11</td>\n",
       "    </tr>\n",
       "    <tr>\n",
       "      <th>1</th>\n",
       "      <td>CSE1005</td>\n",
       "      <td>Software Engineering</td>\n",
       "      <td>L28+L29</td>\n",
       "    </tr>\n",
       "    <tr>\n",
       "      <th>2</th>\n",
       "      <td>CSE1005</td>\n",
       "      <td>Software Engineering</td>\n",
       "      <td>L10+L11</td>\n",
       "    </tr>\n",
       "    <tr>\n",
       "      <th>3</th>\n",
       "      <td>CSE1005</td>\n",
       "      <td>Software Engineering</td>\n",
       "      <td>L43+L44</td>\n",
       "    </tr>\n",
       "    <tr>\n",
       "      <th>4</th>\n",
       "      <td>CSE1005</td>\n",
       "      <td>Software Engineering</td>\n",
       "      <td>L22+L23</td>\n",
       "    </tr>\n",
       "  </tbody>\n",
       "</table>\n",
       "</div>"
      ],
      "text/plain": [
       "  COURSE CODE          COURSE TITLE     SLOT\n",
       "0     CSE1005  Software Engineering  L10+L11\n",
       "1     CSE1005  Software Engineering  L28+L29\n",
       "2     CSE1005  Software Engineering  L10+L11\n",
       "3     CSE1005  Software Engineering  L43+L44\n",
       "4     CSE1005  Software Engineering  L22+L23"
      ]
     },
     "execution_count": 19,
     "metadata": {},
     "output_type": "execute_result"
    }
   ],
   "source": [
    "df.head()"
   ]
  },
  {
   "cell_type": "code",
   "execution_count": 8,
   "metadata": {},
   "outputs": [
    {
     "data": {
      "text/plain": [
       "(56, 4)"
      ]
     },
     "execution_count": 8,
     "metadata": {},
     "output_type": "execute_result"
    }
   ],
   "source": [
    "df.shape"
   ]
  },
  {
   "cell_type": "code",
   "execution_count": 20,
   "metadata": {},
   "outputs": [
    {
     "data": {
      "text/plain": [
       "COURSE CODE     0\n",
       "COURSE TITLE    0\n",
       "SLOT            0\n",
       "dtype: int64"
      ]
     },
     "execution_count": 20,
     "metadata": {},
     "output_type": "execute_result"
    }
   ],
   "source": [
    "df.isna().sum()"
   ]
  },
  {
   "cell_type": "code",
   "execution_count": 10,
   "metadata": {},
   "outputs": [],
   "source": [
    "# drop all the isna \n",
    "df = df.dropna()"
   ]
  },
  {
   "cell_type": "code",
   "execution_count": 11,
   "metadata": {},
   "outputs": [
    {
     "data": {
      "text/plain": [
       "COURSE CODE                     MGT1029\n",
       "COURSE TITLE    Basic Law for Engineers\n",
       "THEORY SLOT                        D+TD\n",
       "LAB SLOT                             --\n",
       "Name: 55, dtype: object"
      ]
     },
     "execution_count": 11,
     "metadata": {},
     "output_type": "execute_result"
    }
   ],
   "source": [
    "# give me the last element\n",
    "df.iloc[-1, :]# give me the last element\n",
    "df.iloc[-1, :]"
   ]
  },
  {
   "cell_type": "code",
   "execution_count": 34,
   "metadata": {},
   "outputs": [],
   "source": [
    "# remove all the white space characters inside df\n",
    "df = df.replace(r'\\s+', ' ', regex=True)"
   ]
  },
  {
   "cell_type": "code",
   "execution_count": 12,
   "metadata": {},
   "outputs": [
    {
     "ename": "KeyError",
     "evalue": "'TITLE'",
     "output_type": "error",
     "traceback": [
      "\u001b[0;31m---------------------------------------------------------------------------\u001b[0m",
      "\u001b[0;31mKeyError\u001b[0m                                  Traceback (most recent call last)",
      "Cell \u001b[0;32mIn[12], line 3\u001b[0m\n\u001b[1;32m      1\u001b[0m df\u001b[38;5;241m.\u001b[39mhead()\u001b[38;5;66;03m# merge all the rows that have COURSE CODE AND SLOT AND COURSE TITLE as SAME\u001b[39;00m\n\u001b[1;32m      2\u001b[0m \u001b[38;5;66;03m# append all the SLOT values to the SLOT column SLOT col is a list \u001b[39;00m\n\u001b[0;32m----> 3\u001b[0m _df \u001b[38;5;241m=\u001b[39m \u001b[43mdf\u001b[49m\u001b[38;5;241;43m.\u001b[39;49m\u001b[43mgroupby\u001b[49m\u001b[43m(\u001b[49m\u001b[43m[\u001b[49m\u001b[38;5;124;43m\"\u001b[39;49m\u001b[38;5;124;43mCOURSE CODE\u001b[39;49m\u001b[38;5;124;43m\"\u001b[39;49m\u001b[43m,\u001b[49m\u001b[43m \u001b[49m\u001b[38;5;124;43m\"\u001b[39;49m\u001b[38;5;124;43mTITLE\u001b[39;49m\u001b[38;5;124;43m\"\u001b[39;49m\u001b[43m]\u001b[49m\u001b[43m)\u001b[49m\\\n\u001b[1;32m      4\u001b[0m         \u001b[38;5;241m.\u001b[39magg({\u001b[38;5;124m\"\u001b[39m\u001b[38;5;124mSLOT\u001b[39m\u001b[38;5;124m\"\u001b[39m: \u001b[38;5;28;01mlambda\u001b[39;00m x: \u001b[38;5;28mlist\u001b[39m(x)})\\\n\u001b[1;32m      5\u001b[0m         \u001b[38;5;241m.\u001b[39mreset_index()\n",
      "File \u001b[0;32m~/Projects/vitap-timetable-scheduler/preprocessing/.venv/lib/python3.12/site-packages/pandas/core/frame.py:9183\u001b[0m, in \u001b[0;36mDataFrame.groupby\u001b[0;34m(self, by, axis, level, as_index, sort, group_keys, observed, dropna)\u001b[0m\n\u001b[1;32m   9180\u001b[0m \u001b[38;5;28;01mif\u001b[39;00m level \u001b[38;5;129;01mis\u001b[39;00m \u001b[38;5;28;01mNone\u001b[39;00m \u001b[38;5;129;01mand\u001b[39;00m by \u001b[38;5;129;01mis\u001b[39;00m \u001b[38;5;28;01mNone\u001b[39;00m:\n\u001b[1;32m   9181\u001b[0m     \u001b[38;5;28;01mraise\u001b[39;00m \u001b[38;5;167;01mTypeError\u001b[39;00m(\u001b[38;5;124m\"\u001b[39m\u001b[38;5;124mYou have to supply one of \u001b[39m\u001b[38;5;124m'\u001b[39m\u001b[38;5;124mby\u001b[39m\u001b[38;5;124m'\u001b[39m\u001b[38;5;124m and \u001b[39m\u001b[38;5;124m'\u001b[39m\u001b[38;5;124mlevel\u001b[39m\u001b[38;5;124m'\u001b[39m\u001b[38;5;124m\"\u001b[39m)\n\u001b[0;32m-> 9183\u001b[0m \u001b[38;5;28;01mreturn\u001b[39;00m \u001b[43mDataFrameGroupBy\u001b[49m\u001b[43m(\u001b[49m\n\u001b[1;32m   9184\u001b[0m \u001b[43m    \u001b[49m\u001b[43mobj\u001b[49m\u001b[38;5;241;43m=\u001b[39;49m\u001b[38;5;28;43mself\u001b[39;49m\u001b[43m,\u001b[49m\n\u001b[1;32m   9185\u001b[0m \u001b[43m    \u001b[49m\u001b[43mkeys\u001b[49m\u001b[38;5;241;43m=\u001b[39;49m\u001b[43mby\u001b[49m\u001b[43m,\u001b[49m\n\u001b[1;32m   9186\u001b[0m \u001b[43m    \u001b[49m\u001b[43maxis\u001b[49m\u001b[38;5;241;43m=\u001b[39;49m\u001b[43maxis\u001b[49m\u001b[43m,\u001b[49m\n\u001b[1;32m   9187\u001b[0m \u001b[43m    \u001b[49m\u001b[43mlevel\u001b[49m\u001b[38;5;241;43m=\u001b[39;49m\u001b[43mlevel\u001b[49m\u001b[43m,\u001b[49m\n\u001b[1;32m   9188\u001b[0m \u001b[43m    \u001b[49m\u001b[43mas_index\u001b[49m\u001b[38;5;241;43m=\u001b[39;49m\u001b[43mas_index\u001b[49m\u001b[43m,\u001b[49m\n\u001b[1;32m   9189\u001b[0m \u001b[43m    \u001b[49m\u001b[43msort\u001b[49m\u001b[38;5;241;43m=\u001b[39;49m\u001b[43msort\u001b[49m\u001b[43m,\u001b[49m\n\u001b[1;32m   9190\u001b[0m \u001b[43m    \u001b[49m\u001b[43mgroup_keys\u001b[49m\u001b[38;5;241;43m=\u001b[39;49m\u001b[43mgroup_keys\u001b[49m\u001b[43m,\u001b[49m\n\u001b[1;32m   9191\u001b[0m \u001b[43m    \u001b[49m\u001b[43mobserved\u001b[49m\u001b[38;5;241;43m=\u001b[39;49m\u001b[43mobserved\u001b[49m\u001b[43m,\u001b[49m\n\u001b[1;32m   9192\u001b[0m \u001b[43m    \u001b[49m\u001b[43mdropna\u001b[49m\u001b[38;5;241;43m=\u001b[39;49m\u001b[43mdropna\u001b[49m\u001b[43m,\u001b[49m\n\u001b[1;32m   9193\u001b[0m \u001b[43m\u001b[49m\u001b[43m)\u001b[49m\n",
      "File \u001b[0;32m~/Projects/vitap-timetable-scheduler/preprocessing/.venv/lib/python3.12/site-packages/pandas/core/groupby/groupby.py:1329\u001b[0m, in \u001b[0;36mGroupBy.__init__\u001b[0;34m(self, obj, keys, axis, level, grouper, exclusions, selection, as_index, sort, group_keys, observed, dropna)\u001b[0m\n\u001b[1;32m   1326\u001b[0m \u001b[38;5;28mself\u001b[39m\u001b[38;5;241m.\u001b[39mdropna \u001b[38;5;241m=\u001b[39m dropna\n\u001b[1;32m   1328\u001b[0m \u001b[38;5;28;01mif\u001b[39;00m grouper \u001b[38;5;129;01mis\u001b[39;00m \u001b[38;5;28;01mNone\u001b[39;00m:\n\u001b[0;32m-> 1329\u001b[0m     grouper, exclusions, obj \u001b[38;5;241m=\u001b[39m \u001b[43mget_grouper\u001b[49m\u001b[43m(\u001b[49m\n\u001b[1;32m   1330\u001b[0m \u001b[43m        \u001b[49m\u001b[43mobj\u001b[49m\u001b[43m,\u001b[49m\n\u001b[1;32m   1331\u001b[0m \u001b[43m        \u001b[49m\u001b[43mkeys\u001b[49m\u001b[43m,\u001b[49m\n\u001b[1;32m   1332\u001b[0m \u001b[43m        \u001b[49m\u001b[43maxis\u001b[49m\u001b[38;5;241;43m=\u001b[39;49m\u001b[43maxis\u001b[49m\u001b[43m,\u001b[49m\n\u001b[1;32m   1333\u001b[0m \u001b[43m        \u001b[49m\u001b[43mlevel\u001b[49m\u001b[38;5;241;43m=\u001b[39;49m\u001b[43mlevel\u001b[49m\u001b[43m,\u001b[49m\n\u001b[1;32m   1334\u001b[0m \u001b[43m        \u001b[49m\u001b[43msort\u001b[49m\u001b[38;5;241;43m=\u001b[39;49m\u001b[43msort\u001b[49m\u001b[43m,\u001b[49m\n\u001b[1;32m   1335\u001b[0m \u001b[43m        \u001b[49m\u001b[43mobserved\u001b[49m\u001b[38;5;241;43m=\u001b[39;49m\u001b[38;5;28;43;01mFalse\u001b[39;49;00m\u001b[43m \u001b[49m\u001b[38;5;28;43;01mif\u001b[39;49;00m\u001b[43m \u001b[49m\u001b[43mobserved\u001b[49m\u001b[43m \u001b[49m\u001b[38;5;129;43;01mis\u001b[39;49;00m\u001b[43m \u001b[49m\u001b[43mlib\u001b[49m\u001b[38;5;241;43m.\u001b[39;49m\u001b[43mno_default\u001b[49m\u001b[43m \u001b[49m\u001b[38;5;28;43;01melse\u001b[39;49;00m\u001b[43m \u001b[49m\u001b[43mobserved\u001b[49m\u001b[43m,\u001b[49m\n\u001b[1;32m   1336\u001b[0m \u001b[43m        \u001b[49m\u001b[43mdropna\u001b[49m\u001b[38;5;241;43m=\u001b[39;49m\u001b[38;5;28;43mself\u001b[39;49m\u001b[38;5;241;43m.\u001b[39;49m\u001b[43mdropna\u001b[49m\u001b[43m,\u001b[49m\n\u001b[1;32m   1337\u001b[0m \u001b[43m    \u001b[49m\u001b[43m)\u001b[49m\n\u001b[1;32m   1339\u001b[0m \u001b[38;5;28;01mif\u001b[39;00m observed \u001b[38;5;129;01mis\u001b[39;00m lib\u001b[38;5;241m.\u001b[39mno_default:\n\u001b[1;32m   1340\u001b[0m     \u001b[38;5;28;01mif\u001b[39;00m \u001b[38;5;28many\u001b[39m(ping\u001b[38;5;241m.\u001b[39m_passed_categorical \u001b[38;5;28;01mfor\u001b[39;00m ping \u001b[38;5;129;01min\u001b[39;00m grouper\u001b[38;5;241m.\u001b[39mgroupings):\n",
      "File \u001b[0;32m~/Projects/vitap-timetable-scheduler/preprocessing/.venv/lib/python3.12/site-packages/pandas/core/groupby/grouper.py:1043\u001b[0m, in \u001b[0;36mget_grouper\u001b[0;34m(obj, key, axis, level, sort, observed, validate, dropna)\u001b[0m\n\u001b[1;32m   1041\u001b[0m         in_axis, level, gpr \u001b[38;5;241m=\u001b[39m \u001b[38;5;28;01mFalse\u001b[39;00m, gpr, \u001b[38;5;28;01mNone\u001b[39;00m\n\u001b[1;32m   1042\u001b[0m     \u001b[38;5;28;01melse\u001b[39;00m:\n\u001b[0;32m-> 1043\u001b[0m         \u001b[38;5;28;01mraise\u001b[39;00m \u001b[38;5;167;01mKeyError\u001b[39;00m(gpr)\n\u001b[1;32m   1044\u001b[0m \u001b[38;5;28;01melif\u001b[39;00m \u001b[38;5;28misinstance\u001b[39m(gpr, Grouper) \u001b[38;5;129;01mand\u001b[39;00m gpr\u001b[38;5;241m.\u001b[39mkey \u001b[38;5;129;01mis\u001b[39;00m \u001b[38;5;129;01mnot\u001b[39;00m \u001b[38;5;28;01mNone\u001b[39;00m:\n\u001b[1;32m   1045\u001b[0m     \u001b[38;5;66;03m# Add key to exclusions\u001b[39;00m\n\u001b[1;32m   1046\u001b[0m     exclusions\u001b[38;5;241m.\u001b[39madd(gpr\u001b[38;5;241m.\u001b[39mkey)\n",
      "\u001b[0;31mKeyError\u001b[0m: 'TITLE'"
     ]
    }
   ],
   "source": [
    "df.head()# merge all the rows that have COURSE CODE AND SLOT AND COURSE TITLE as SAME\n",
    "# append all the SLOT values to the SLOT column SLOT col is a list \n",
    "_df = df.groupby([\"COURSE CODE\", \"TITLE\"])\\\n",
    "        .agg({\"SLOT\": lambda x: list(x)})\\\n",
    "        .reset_index()"
   ]
  },
  {
   "cell_type": "code",
   "execution_count": 21,
   "metadata": {},
   "outputs": [
    {
     "ename": "KeyError",
     "evalue": "'LAB SLOT'",
     "output_type": "error",
     "traceback": [
      "\u001b[0;31m---------------------------------------------------------------------------\u001b[0m",
      "\u001b[0;31mKeyError\u001b[0m                                  Traceback (most recent call last)",
      "File \u001b[0;32m~/.local/share/virtualenvs/preprocessing-_FXfS1Q_/lib/python3.12/site-packages/pandas/core/indexes/base.py:3805\u001b[0m, in \u001b[0;36mIndex.get_loc\u001b[0;34m(self, key)\u001b[0m\n\u001b[1;32m   3804\u001b[0m \u001b[38;5;28;01mtry\u001b[39;00m:\n\u001b[0;32m-> 3805\u001b[0m     \u001b[38;5;28;01mreturn\u001b[39;00m \u001b[38;5;28;43mself\u001b[39;49m\u001b[38;5;241;43m.\u001b[39;49m\u001b[43m_engine\u001b[49m\u001b[38;5;241;43m.\u001b[39;49m\u001b[43mget_loc\u001b[49m\u001b[43m(\u001b[49m\u001b[43mcasted_key\u001b[49m\u001b[43m)\u001b[49m\n\u001b[1;32m   3806\u001b[0m \u001b[38;5;28;01mexcept\u001b[39;00m \u001b[38;5;167;01mKeyError\u001b[39;00m \u001b[38;5;28;01mas\u001b[39;00m err:\n",
      "File \u001b[0;32mindex.pyx:167\u001b[0m, in \u001b[0;36mpandas._libs.index.IndexEngine.get_loc\u001b[0;34m()\u001b[0m\n",
      "File \u001b[0;32mindex.pyx:196\u001b[0m, in \u001b[0;36mpandas._libs.index.IndexEngine.get_loc\u001b[0;34m()\u001b[0m\n",
      "File \u001b[0;32mpandas/_libs/hashtable_class_helper.pxi:7081\u001b[0m, in \u001b[0;36mpandas._libs.hashtable.PyObjectHashTable.get_item\u001b[0;34m()\u001b[0m\n",
      "File \u001b[0;32mpandas/_libs/hashtable_class_helper.pxi:7089\u001b[0m, in \u001b[0;36mpandas._libs.hashtable.PyObjectHashTable.get_item\u001b[0;34m()\u001b[0m\n",
      "\u001b[0;31mKeyError\u001b[0m: 'LAB SLOT'",
      "\nThe above exception was the direct cause of the following exception:\n",
      "\u001b[0;31mKeyError\u001b[0m                                  Traceback (most recent call last)",
      "Cell \u001b[0;32mIn[21], line 1\u001b[0m\n\u001b[0;32m----> 1\u001b[0m df[\u001b[38;5;241m~\u001b[39m\u001b[43mdf\u001b[49m\u001b[43m[\u001b[49m\u001b[38;5;124;43m\"\u001b[39;49m\u001b[38;5;124;43mLAB SLOT\u001b[39;49m\u001b[38;5;124;43m\"\u001b[39;49m\u001b[43m]\u001b[49m\u001b[38;5;241m.\u001b[39mastype(\u001b[38;5;28mstr\u001b[39m)\u001b[38;5;241m.\u001b[39mstr\u001b[38;5;241m.\u001b[39mcontains(\u001b[38;5;124m'\u001b[39m\u001b[38;5;124m-\u001b[39m\u001b[38;5;124m{\u001b[39m\u001b[38;5;124m2,}\u001b[39m\u001b[38;5;124m'\u001b[39m)]\n",
      "File \u001b[0;32m~/.local/share/virtualenvs/preprocessing-_FXfS1Q_/lib/python3.12/site-packages/pandas/core/frame.py:4102\u001b[0m, in \u001b[0;36mDataFrame.__getitem__\u001b[0;34m(self, key)\u001b[0m\n\u001b[1;32m   4100\u001b[0m \u001b[38;5;28;01mif\u001b[39;00m \u001b[38;5;28mself\u001b[39m\u001b[38;5;241m.\u001b[39mcolumns\u001b[38;5;241m.\u001b[39mnlevels \u001b[38;5;241m>\u001b[39m \u001b[38;5;241m1\u001b[39m:\n\u001b[1;32m   4101\u001b[0m     \u001b[38;5;28;01mreturn\u001b[39;00m \u001b[38;5;28mself\u001b[39m\u001b[38;5;241m.\u001b[39m_getitem_multilevel(key)\n\u001b[0;32m-> 4102\u001b[0m indexer \u001b[38;5;241m=\u001b[39m \u001b[38;5;28;43mself\u001b[39;49m\u001b[38;5;241;43m.\u001b[39;49m\u001b[43mcolumns\u001b[49m\u001b[38;5;241;43m.\u001b[39;49m\u001b[43mget_loc\u001b[49m\u001b[43m(\u001b[49m\u001b[43mkey\u001b[49m\u001b[43m)\u001b[49m\n\u001b[1;32m   4103\u001b[0m \u001b[38;5;28;01mif\u001b[39;00m is_integer(indexer):\n\u001b[1;32m   4104\u001b[0m     indexer \u001b[38;5;241m=\u001b[39m [indexer]\n",
      "File \u001b[0;32m~/.local/share/virtualenvs/preprocessing-_FXfS1Q_/lib/python3.12/site-packages/pandas/core/indexes/base.py:3812\u001b[0m, in \u001b[0;36mIndex.get_loc\u001b[0;34m(self, key)\u001b[0m\n\u001b[1;32m   3807\u001b[0m     \u001b[38;5;28;01mif\u001b[39;00m \u001b[38;5;28misinstance\u001b[39m(casted_key, \u001b[38;5;28mslice\u001b[39m) \u001b[38;5;129;01mor\u001b[39;00m (\n\u001b[1;32m   3808\u001b[0m         \u001b[38;5;28misinstance\u001b[39m(casted_key, abc\u001b[38;5;241m.\u001b[39mIterable)\n\u001b[1;32m   3809\u001b[0m         \u001b[38;5;129;01mand\u001b[39;00m \u001b[38;5;28many\u001b[39m(\u001b[38;5;28misinstance\u001b[39m(x, \u001b[38;5;28mslice\u001b[39m) \u001b[38;5;28;01mfor\u001b[39;00m x \u001b[38;5;129;01min\u001b[39;00m casted_key)\n\u001b[1;32m   3810\u001b[0m     ):\n\u001b[1;32m   3811\u001b[0m         \u001b[38;5;28;01mraise\u001b[39;00m InvalidIndexError(key)\n\u001b[0;32m-> 3812\u001b[0m     \u001b[38;5;28;01mraise\u001b[39;00m \u001b[38;5;167;01mKeyError\u001b[39;00m(key) \u001b[38;5;28;01mfrom\u001b[39;00m \u001b[38;5;21;01merr\u001b[39;00m\n\u001b[1;32m   3813\u001b[0m \u001b[38;5;28;01mexcept\u001b[39;00m \u001b[38;5;167;01mTypeError\u001b[39;00m:\n\u001b[1;32m   3814\u001b[0m     \u001b[38;5;66;03m# If we have a listlike key, _check_indexing_error will raise\u001b[39;00m\n\u001b[1;32m   3815\u001b[0m     \u001b[38;5;66;03m#  InvalidIndexError. Otherwise we fall through and re-raise\u001b[39;00m\n\u001b[1;32m   3816\u001b[0m     \u001b[38;5;66;03m#  the TypeError.\u001b[39;00m\n\u001b[1;32m   3817\u001b[0m     \u001b[38;5;28mself\u001b[39m\u001b[38;5;241m.\u001b[39m_check_indexing_error(key)\n",
      "\u001b[0;31mKeyError\u001b[0m: 'LAB SLOT'"
     ]
    }
   ],
   "source": [
    "df[~df[\"LAB SLOT\"].astype(str).str.contains('-{2,}')]"
   ]
  },
  {
   "cell_type": "code",
   "execution_count": 15,
   "metadata": {},
   "outputs": [
    {
     "data": {
      "text/plain": [
       "Index(['COURSE CODE', 'COURSE TITLE', 'THEORY SLOT', 'LAB SLOT'], dtype='object')"
      ]
     },
     "execution_count": 15,
     "metadata": {},
     "output_type": "execute_result"
    }
   ],
   "source": [
    "df.columns"
   ]
  },
  {
   "cell_type": "code",
   "execution_count": 18,
   "metadata": {},
   "outputs": [],
   "source": []
  },
  {
   "cell_type": "code",
   "execution_count": 14,
   "metadata": {},
   "outputs": [],
   "source": [
    "# read the ANNEXURE-II_A_-Theory-Slots.csv \n",
    "lab_path = data_dir / 'ANNEXURE - II(B) LAB SLOTS.pdf'\n",
    "dfs = io.read_pdf(lab_path.resolve(), pages=[i+1 for i in range(8)], multiple_tables=False, guess=False, encoding='cp1252')"
   ]
  },
  {
   "cell_type": "code",
   "execution_count": 15,
   "metadata": {},
   "outputs": [
    {
     "data": {
      "text/html": [
       "<div>\n",
       "<style scoped>\n",
       "    .dataframe tbody tr th:only-of-type {\n",
       "        vertical-align: middle;\n",
       "    }\n",
       "\n",
       "    .dataframe tbody tr th {\n",
       "        vertical-align: top;\n",
       "    }\n",
       "\n",
       "    .dataframe thead th {\n",
       "        text-align: right;\n",
       "    }\n",
       "</style>\n",
       "<table border=\"1\" class=\"dataframe\">\n",
       "  <thead>\n",
       "    <tr style=\"text-align: right;\">\n",
       "      <th></th>\n",
       "      <th>COURSE CODE</th>\n",
       "      <th>COURSE TITLE</th>\n",
       "      <th>SLOT</th>\n",
       "    </tr>\n",
       "  </thead>\n",
       "  <tbody>\n",
       "    <tr>\n",
       "      <th>0</th>\n",
       "      <td>CSE1005</td>\n",
       "      <td>Software Engineering</td>\n",
       "      <td>L10+L11</td>\n",
       "    </tr>\n",
       "    <tr>\n",
       "      <th>1</th>\n",
       "      <td>CSE1005</td>\n",
       "      <td>Software Engineering</td>\n",
       "      <td>L28+L29</td>\n",
       "    </tr>\n",
       "    <tr>\n",
       "      <th>2</th>\n",
       "      <td>CSE1005</td>\n",
       "      <td>Software Engineering</td>\n",
       "      <td>L10+L11</td>\n",
       "    </tr>\n",
       "    <tr>\n",
       "      <th>3</th>\n",
       "      <td>CSE1005</td>\n",
       "      <td>Software Engineering</td>\n",
       "      <td>L43+L44</td>\n",
       "    </tr>\n",
       "    <tr>\n",
       "      <th>4</th>\n",
       "      <td>CSE1005</td>\n",
       "      <td>Software Engineering</td>\n",
       "      <td>L22+L23</td>\n",
       "    </tr>\n",
       "  </tbody>\n",
       "</table>\n",
       "</div>"
      ],
      "text/plain": [
       "  COURSE CODE          COURSE TITLE     SLOT\n",
       "0     CSE1005  Software Engineering  L10+L11\n",
       "1     CSE1005  Software Engineering  L28+L29\n",
       "2     CSE1005  Software Engineering  L10+L11\n",
       "3     CSE1005  Software Engineering  L43+L44\n",
       "4     CSE1005  Software Engineering  L22+L23"
      ]
     },
     "execution_count": 15,
     "metadata": {},
     "output_type": "execute_result"
    }
   ],
   "source": [
    "df = dfs[0]\n",
    "df.head()"
   ]
  },
  {
   "cell_type": "code",
   "execution_count": 59,
   "metadata": {},
   "outputs": [],
   "source": [
    "from functools import partial \n",
    "\n",
    "is_lab = False\n",
    "col_names = {\n",
    "    \"slot\" : \"THEORY SLOT\",\n",
    "    \"code\" : \"COURSE CODE\",\n",
    "    \"title\": \"COURSE TITLE\"\n",
    "}\n",
    "\n",
    "fns = [\n",
    "    merge_slots, \n",
    "    filter_course_slots,\n",
    "    partial(merge_course_code_and_title, is_lab=is_lab),\n",
    "    to_json,\n",
    "    partial(save_json, name=\"theory.json\")\n",
    "]\n",
    "\n",
    "_df = df.copy()\n",
    "for fn in fns:\n",
    "    _df = fn(_df, col_names=col_names)"
   ]
  },
  {
   "cell_type": "code",
   "execution_count": 58,
   "metadata": {},
   "outputs": [
    {
     "data": {
      "text/plain": [
       "COURSE CODE                                        SWE4003\n",
       "COURSE TITLE    Concepts of Mobile Application Development\n",
       "SLOT                                       L31+L32+L43+L44\n",
       "Name: 55, dtype: object"
      ]
     },
     "execution_count": 58,
     "metadata": {},
     "output_type": "execute_result"
    }
   ],
   "source": [
    "# give me the last element\n",
    "df.iloc[-1, :]"
   ]
  },
  {
   "cell_type": "code",
   "execution_count": null,
   "metadata": {},
   "outputs": [
    {
     "data": {
      "text/html": [
       "<div>\n",
       "<style scoped>\n",
       "    .dataframe tbody tr th:only-of-type {\n",
       "        vertical-align: middle;\n",
       "    }\n",
       "\n",
       "    .dataframe tbody tr th {\n",
       "        vertical-align: top;\n",
       "    }\n",
       "\n",
       "    .dataframe thead th {\n",
       "        text-align: right;\n",
       "    }\n",
       "</style>\n",
       "<table border=\"1\" class=\"dataframe\">\n",
       "  <thead>\n",
       "    <tr style=\"text-align: right;\">\n",
       "      <th></th>\n",
       "      <th>COURSE CODE</th>\n",
       "      <th>TITLE</th>\n",
       "      <th>SLOT</th>\n",
       "    </tr>\n",
       "  </thead>\n",
       "  <tbody>\n",
       "    <tr>\n",
       "      <th>0</th>\n",
       "      <td>STS3006</td>\n",
       "      <td>Basic Competitive Coding - I</td>\n",
       "      <td>G1+TG1</td>\n",
       "    </tr>\n",
       "    <tr>\n",
       "      <th>1</th>\n",
       "      <td>CHY1001</td>\n",
       "      <td>Environmental Studies</td>\n",
       "      <td>E1</td>\n",
       "    </tr>\n",
       "    <tr>\n",
       "      <th>2</th>\n",
       "      <td>CHY1005</td>\n",
       "      <td>Industrial Chemistry for Engineers</td>\n",
       "      <td>C1+TC1</td>\n",
       "    </tr>\n",
       "    <tr>\n",
       "      <th>3</th>\n",
       "      <td>CHY1005</td>\n",
       "      <td>Industrial Chemistry for Engineers</td>\n",
       "      <td>G2+TG2</td>\n",
       "    </tr>\n",
       "    <tr>\n",
       "      <th>4</th>\n",
       "      <td>CHY1005</td>\n",
       "      <td>Industrial Chemistry for Engineers</td>\n",
       "      <td>G1+TG1</td>\n",
       "    </tr>\n",
       "  </tbody>\n",
       "</table>\n",
       "</div>"
      ],
      "text/plain": [
       "  COURSE CODE                               TITLE    SLOT\n",
       "0     STS3006        Basic Competitive Coding - I  G1+TG1\n",
       "1     CHY1001               Environmental Studies      E1\n",
       "2     CHY1005  Industrial Chemistry for Engineers  C1+TC1\n",
       "3     CHY1005  Industrial Chemistry for Engineers  G2+TG2\n",
       "4     CHY1005  Industrial Chemistry for Engineers  G1+TG1"
      ]
     },
     "execution_count": 59,
     "metadata": {},
     "output_type": "execute_result"
    }
   ],
   "source": [
    "df.head()"
   ]
  },
  {
   "cell_type": "code",
   "execution_count": 33,
   "metadata": {},
   "outputs": [],
   "source": [
    "csv_path = data_dir / 'ANNEXURE-II(B) Lab Slots.csv'\n",
    "df = pd.read_csv(csv_path.resolve())"
   ]
  },
  {
   "cell_type": "code",
   "execution_count": 36,
   "metadata": {},
   "outputs": [
    {
     "data": {
      "text/html": [
       "<div>\n",
       "<style scoped>\n",
       "    .dataframe tbody tr th:only-of-type {\n",
       "        vertical-align: middle;\n",
       "    }\n",
       "\n",
       "    .dataframe tbody tr th {\n",
       "        vertical-align: top;\n",
       "    }\n",
       "\n",
       "    .dataframe thead th {\n",
       "        text-align: right;\n",
       "    }\n",
       "</style>\n",
       "<table border=\"1\" class=\"dataframe\">\n",
       "  <thead>\n",
       "    <tr style=\"text-align: right;\">\n",
       "      <th></th>\n",
       "      <th>COURSE CODE</th>\n",
       "      <th>COURSE TITLE</th>\n",
       "      <th>SLOT</th>\n",
       "    </tr>\n",
       "  </thead>\n",
       "  <tbody>\n",
       "  </tbody>\n",
       "</table>\n",
       "</div>"
      ],
      "text/plain": [
       "Empty DataFrame\n",
       "Columns: [COURSE CODE, COURSE TITLE, SLOT]\n",
       "Index: []"
      ]
     },
     "execution_count": 36,
     "metadata": {},
     "output_type": "execute_result"
    }
   ],
   "source": [
    "# print all the courses whose course code aren't in the format of [A-Z]{3}[0-9]{3}\n",
    "df[~df[\"course code\".upper()].str.match(r\"^[A-Z]{3}[0-9]{4}$\")]"
   ]
  },
  {
   "cell_type": "code",
   "execution_count": 35,
   "metadata": {},
   "outputs": [],
   "source": [
    "# merge all the rows that have COURSE CODE AND SLOT AND COURSE TITLE as SAME\n",
    "# append all the SLOT values to the SLOT column SLOT col is a list \n",
    "_df = df.groupby([\"COURSE CODE\", \"TITLE\"])\\\n",
    "        .agg({\"SLOT\": lambda x: list(x)})\\\n",
    "        .reset_index()"
   ]
  },
  {
   "cell_type": "code",
   "execution_count": 36,
   "metadata": {},
   "outputs": [
    {
     "data": {
      "text/html": [
       "<div>\n",
       "<style scoped>\n",
       "    .dataframe tbody tr th:only-of-type {\n",
       "        vertical-align: middle;\n",
       "    }\n",
       "\n",
       "    .dataframe tbody tr th {\n",
       "        vertical-align: top;\n",
       "    }\n",
       "\n",
       "    .dataframe thead th {\n",
       "        text-align: right;\n",
       "    }\n",
       "</style>\n",
       "<table border=\"1\" class=\"dataframe\">\n",
       "  <thead>\n",
       "    <tr style=\"text-align: right;\">\n",
       "      <th></th>\n",
       "      <th>COURSE CODE</th>\n",
       "      <th>TITLE</th>\n",
       "      <th>SLOT</th>\n",
       "    </tr>\n",
       "  </thead>\n",
       "  <tbody>\n",
       "    <tr>\n",
       "      <th>0</th>\n",
       "      <td>CSE1005</td>\n",
       "      <td>Software Engineering</td>\n",
       "      <td>[L1+L2, L3+L4, L5+L6, L7+L8, L9+L10, L11+L12, ...</td>\n",
       "    </tr>\n",
       "    <tr>\n",
       "      <th>1</th>\n",
       "      <td>CSE1006</td>\n",
       "      <td>Foundations for Data Analytics</td>\n",
       "      <td>[L1+L2, L5+L6, L27+L28, L31+L32, L47+L48, L57+...</td>\n",
       "    </tr>\n",
       "    <tr>\n",
       "      <th>2</th>\n",
       "      <td>CSE1007</td>\n",
       "      <td>Introduction to Cryptography</td>\n",
       "      <td>[L37+L38, L7+L8, L51+L52]</td>\n",
       "    </tr>\n",
       "    <tr>\n",
       "      <th>3</th>\n",
       "      <td>CSE1020</td>\n",
       "      <td>Procedural Programming Using C</td>\n",
       "      <td>[L47+L48, L43+L44, L15+L16]</td>\n",
       "    </tr>\n",
       "    <tr>\n",
       "      <th>4</th>\n",
       "      <td>CSE2006</td>\n",
       "      <td>Computer Graphics</td>\n",
       "      <td>[L9+L10]</td>\n",
       "    </tr>\n",
       "  </tbody>\n",
       "</table>\n",
       "</div>"
      ],
      "text/plain": [
       "  COURSE CODE                           TITLE  \\\n",
       "0     CSE1005            Software Engineering   \n",
       "1     CSE1006  Foundations for Data Analytics   \n",
       "2     CSE1007    Introduction to Cryptography   \n",
       "3     CSE1020  Procedural Programming Using C   \n",
       "4     CSE2006               Computer Graphics   \n",
       "\n",
       "                                                SLOT  \n",
       "0  [L1+L2, L3+L4, L5+L6, L7+L8, L9+L10, L11+L12, ...  \n",
       "1  [L1+L2, L5+L6, L27+L28, L31+L32, L47+L48, L57+...  \n",
       "2                          [L37+L38, L7+L8, L51+L52]  \n",
       "3                        [L47+L48, L43+L44, L15+L16]  \n",
       "4                                           [L9+L10]  "
      ]
     },
     "execution_count": 36,
     "metadata": {},
     "output_type": "execute_result"
    }
   ],
   "source": [
    "_df.head()"
   ]
  },
  {
   "cell_type": "code",
   "execution_count": 37,
   "metadata": {},
   "outputs": [],
   "source": [
    "# convert the course-slots into a set to remove duplicates and remove nan and the empty slots\n",
    "_df[\"SLOT\"] = _df[\"SLOT\"].apply(lambda x: set(x) - {np.nan, \" \"})"
   ]
  },
  {
   "cell_type": "code",
   "execution_count": 38,
   "metadata": {},
   "outputs": [
    {
     "data": {
      "text/plain": [
       "COURSE CODE    0\n",
       "TITLE          0\n",
       "SLOT           0\n",
       "dtype: int64"
      ]
     },
     "execution_count": 38,
     "metadata": {},
     "output_type": "execute_result"
    }
   ],
   "source": [
    "_df.isnull().sum()"
   ]
  },
  {
   "cell_type": "code",
   "execution_count": 39,
   "metadata": {},
   "outputs": [],
   "source": [
    "# merge course-code and course-title into a single column called course \n",
    "_df[\"course\"] = _df[\"COURSE CODE\"] + \"-\" + _df[\"TITLE\"] + (\"( LAB )\" if is_lab else \"\") "
   ]
  },
  {
   "cell_type": "code",
   "execution_count": 40,
   "metadata": {},
   "outputs": [],
   "source": [
    "# drop the course-code and course-title columns\n",
    "_df.drop(columns=[\"COURSE CODE\", \"TITLE\"], inplace=True)"
   ]
  },
  {
   "cell_type": "code",
   "execution_count": 41,
   "metadata": {},
   "outputs": [],
   "source": [
    "# convert slot from set to list\n",
    "_df[\"SLOT\"] = _df[\"SLOT\"].apply(lambda x: list(x))"
   ]
  },
  {
   "cell_type": "code",
   "execution_count": 42,
   "metadata": {},
   "outputs": [
    {
     "data": {
      "text/plain": [
       "{'CSE1005-Software Engineering': ['L27+L28',\n",
       "  'L35+L36',\n",
       "  'L19+L20',\n",
       "  'L3+L4',\n",
       "  'L7+L8',\n",
       "  'L1+L2',\n",
       "  'L43+L44',\n",
       "  'L21+L22',\n",
       "  'L33+L34',\n",
       "  'L39+L40',\n",
       "  'L37+L38',\n",
       "  'L5+L6',\n",
       "  'L47+L48',\n",
       "  'L9+L10',\n",
       "  'L45+L46',\n",
       "  'L23+L24',\n",
       "  'L49+L50',\n",
       "  'L13+L14',\n",
       "  'L53+L54',\n",
       "  'L15+L16',\n",
       "  'L17+L18',\n",
       "  'L29+L30',\n",
       "  'L55+L56',\n",
       "  'L25+L26',\n",
       "  'L11+L12',\n",
       "  'L31+L32',\n",
       "  'L57+L58',\n",
       "  'L51+L52',\n",
       "  'L41+L42'],\n",
       " 'CSE1006-Foundations for Data Analytics': ['L23+L24',\n",
       "  'L27+L28',\n",
       "  'L5+L6',\n",
       "  'L13+L14',\n",
       "  'L3+L4',\n",
       "  'L1+L2',\n",
       "  'L33+L34',\n",
       "  'L31+L32',\n",
       "  'L57+L58',\n",
       "  'L51+L52',\n",
       "  'L41+L42',\n",
       "  'L47+L48'],\n",
       " 'CSE1007-Introduction to Cryptography': ['L51+L52', 'L7+L8', 'L37+L38'],\n",
       " 'CSE1020-Procedural Programming Using C': ['L47+L48', 'L43+L44', 'L15+L16'],\n",
       " 'CSE2006-Computer Graphics': ['L9+L10'],\n",
       " 'CSE2007-Database Management Systems': ['L27+L28',\n",
       "  'L35+L36',\n",
       "  'L19+L20',\n",
       "  'L3+L4',\n",
       "  'L7+L8',\n",
       "  'L1+L2',\n",
       "  'L43+L44',\n",
       "  'L21+L22',\n",
       "  'L33+L34',\n",
       "  'L39+L40',\n",
       "  'L37+L38',\n",
       "  'L5+L6',\n",
       "  'L47+L48',\n",
       "  'L9+L10',\n",
       "  'L45+L46',\n",
       "  'L23+L24',\n",
       "  'L49+L50',\n",
       "  'L13+L14',\n",
       "  'L53+L54',\n",
       "  'L15+L16',\n",
       "  'L17+L18',\n",
       "  'L29+L30',\n",
       "  'L55+L56',\n",
       "  'L25+L26',\n",
       "  'L11+L12',\n",
       "  'L31+L32',\n",
       "  'L57+L58',\n",
       "  'L51+L52',\n",
       "  'L41+L42'],\n",
       " 'CSE2011-Cyber Security and Digital Forensics': ['L3+L4',\n",
       "  'L41+L42',\n",
       "  'L39+L40'],\n",
       " 'CSE3002-Artificial Intelligence': ['L27+L28',\n",
       "  'L35+L36',\n",
       "  'L19+L20',\n",
       "  'L3+L4',\n",
       "  'L7+L8',\n",
       "  'L1+L2',\n",
       "  'L43+L44',\n",
       "  'L21+L22',\n",
       "  'L33+L34',\n",
       "  'L39+L40',\n",
       "  'L37+L38',\n",
       "  'L5+L6',\n",
       "  'L47+L48',\n",
       "  'L9+L10',\n",
       "  'L45+L46',\n",
       "  'L23+L24',\n",
       "  'L49+L50',\n",
       "  'L13+L14',\n",
       "  'L53+L54',\n",
       "  'L15+L16',\n",
       "  'L17+L18',\n",
       "  'L29+L30',\n",
       "  'L55+L56',\n",
       "  'L25+L26',\n",
       "  'L11+L12',\n",
       "  'L31+L32',\n",
       "  'L57+L58',\n",
       "  'L51+L52',\n",
       "  'L41+L42'],\n",
       " 'CSE3003-Computer Networks': ['L27+L28',\n",
       "  'L35+L36',\n",
       "  'L19+L20',\n",
       "  'L3+L4',\n",
       "  'L7+L8',\n",
       "  'L1+L2',\n",
       "  'L43+L44',\n",
       "  'L21+L22',\n",
       "  'L33+L34',\n",
       "  'L39+L40',\n",
       "  'L37+L38',\n",
       "  'L5+L6',\n",
       "  'L47+L48',\n",
       "  'L9+L10',\n",
       "  'L45+L46',\n",
       "  'L23+L24',\n",
       "  'L49+L50',\n",
       "  'L13+L14',\n",
       "  'L53+L54',\n",
       "  'L15+L16',\n",
       "  'L17+L18',\n",
       "  'L29+L30',\n",
       "  'L55+L56',\n",
       "  'L25+L26',\n",
       "  'L11+L12',\n",
       "  'L31+L32',\n",
       "  'L57+L58',\n",
       "  'L51+L52',\n",
       "  'L41+L42'],\n",
       " 'CSE3004-Design and Analysis of Algorithms': ['L27+L28',\n",
       "  'L35+L36',\n",
       "  'L19+L20',\n",
       "  'L3+L4',\n",
       "  'L7+L8',\n",
       "  'L21+L22',\n",
       "  'L43+L44',\n",
       "  'L37+L38',\n",
       "  'L39+L40',\n",
       "  'L5+L6',\n",
       "  'L47+L48',\n",
       "  'L9+L10',\n",
       "  'L45+L46',\n",
       "  'L23+L24',\n",
       "  'L49+L50',\n",
       "  'L13+L14',\n",
       "  'L53+L54',\n",
       "  'L15+L16',\n",
       "  'L17+L18',\n",
       "  'L29+L30',\n",
       "  'L55+L56',\n",
       "  'L25+L26',\n",
       "  'L11+L12',\n",
       "  'L31+L32',\n",
       "  'L57+L58',\n",
       "  'L51+L52'],\n",
       " 'CSE3006-Data Visualization': ['L7+L8', 'L53+L54', 'L15+L16', 'L39+L40'],\n",
       " 'CSE3008-Introduction to Machine Learning': ['L23+L24', 'L49+L50'],\n",
       " 'CSE3009-No SQL Databases': ['L53+L54',\n",
       "  'L29+L30',\n",
       "  'L25+L26',\n",
       "  'L31+L32',\n",
       "  'L9+L10'],\n",
       " 'CSE3011-Network Programming': ['L27+L28', 'L55+L56', 'L53+L54'],\n",
       " 'CSE3012-Network Security': ['L25+L26', 'L37+L38'],\n",
       " 'CSE3013-Secure Group Communications': ['L21+L22', 'L43+L44', 'L27+L28'],\n",
       " 'CSE3015-Natural Language Processing': ['L27+L28',\n",
       "  'L35+L36',\n",
       "  'L3+L4',\n",
       "  'L7+L8',\n",
       "  'L21+L22',\n",
       "  'L43+L44',\n",
       "  'L33+L34',\n",
       "  'L47+L48',\n",
       "  'L9+L10',\n",
       "  'L45+L46',\n",
       "  'L49+L50',\n",
       "  'L13+L14',\n",
       "  'L53+L54',\n",
       "  'L15+L16',\n",
       "  'L17+L18',\n",
       "  'L55+L56',\n",
       "  'L57+L58',\n",
       "  'L51+L52'],\n",
       " 'CSE4005-Data Warehousing and Data Mining': ['L51+L52',\n",
       "  'L25+L26',\n",
       "  'L41+L42',\n",
       "  'L11+L12'],\n",
       " 'CSE4007-Digital Image Processing': ['L27+L28',\n",
       "  'L35+L36',\n",
       "  'L13+L14',\n",
       "  'L3+L4',\n",
       "  'L17+L18',\n",
       "  'L21+L22',\n",
       "  'L37+L38',\n",
       "  'L55+L56',\n",
       "  'L33+L34',\n",
       "  'L11+L12',\n",
       "  'L31+L32',\n",
       "  'L57+L58',\n",
       "  'L47+L48',\n",
       "  'L9+L10'],\n",
       " 'CSE4008-Social Network Analysis': ['L23+L24',\n",
       "  'L19+L20',\n",
       "  'L1+L2',\n",
       "  'L57+L58',\n",
       "  'L47+L48'],\n",
       " 'CSE4016-Database Administration': ['L17+L18', 'L49+L50', 'L3+L4'],\n",
       " 'CSE4031-Web Application Security': ['L19+L20', 'L49+L50'],\n",
       " 'CSE4037-Reinforcement Learning': ['L23+L24',\n",
       "  'L35+L36',\n",
       "  'L19+L20',\n",
       "  'L3+L4',\n",
       "  'L15+L16',\n",
       "  'L37+L38',\n",
       "  'L33+L34',\n",
       "  'L31+L32',\n",
       "  'L41+L42',\n",
       "  'L9+L10',\n",
       "  'L45+L46'],\n",
       " 'CSE4040-Mining Massive Data Sets': ['L17+L18', 'L21+L22', 'L57+L58'],\n",
       " 'CSE4042-Blockchain Platforms and Applications': ['L55+L56'],\n",
       " 'CSE4044-Software Defined Networks and Network Function Virtualization': ['L39+L40'],\n",
       " 'ECE1007-Sensor Systems': ['L55+L56'],\n",
       " 'ECE1008-Sensors and Control Systems': ['L51+L52'],\n",
       " 'ECE2001-Analog Devices and Circuits': ['L7+L8',\n",
       "  'L37+L38',\n",
       "  'L35+L36',\n",
       "  'L39+L40'],\n",
       " 'ECE2006-Communication Systems': ['L23+L24', 'L51+L52', 'L55+L56', 'L3+L4'],\n",
       " 'ECE2007-Digital Signal Processing': ['L11+L12'],\n",
       " 'ECE2014-Microprocessors and Microcontrollers': ['L41+L42',\n",
       "  'L43+L44',\n",
       "  'L31+L32',\n",
       "  'L3+L4'],\n",
       " 'ECE3001-Linear Integrated Circuits and Applications': ['L41+L42',\n",
       "  'L33+L34',\n",
       "  'L11+L12',\n",
       "  'L9+L10'],\n",
       " 'ECE3005-CMOS VLSI Design': ['L51+L52'],\n",
       " 'ECE3006-HDL Verification and Methodology': ['L31+L32'],\n",
       " 'ECE3010-Speech processing': ['L33+L34'],\n",
       " 'ECE4003-Embedded Programming': ['L27+L28'],\n",
       " 'ECE4005-SOC Design': ['L21+L22'],\n",
       " 'ECE4006-Analog IC Design': ['L3+L4'],\n",
       " 'ECE4017-IoT Domain Analyst': ['L29+L30'],\n",
       " 'ECE4018-Image Analysis and Computer Vision': ['L51+L52'],\n",
       " 'MAT1011-Applied Statistics': ['L27+L28',\n",
       "  'L35+L36',\n",
       "  'L19+L20',\n",
       "  'L3+L4',\n",
       "  'L21+L22',\n",
       "  'L37+L38',\n",
       "  'L43+L44',\n",
       "  'L1+L2',\n",
       "  'L33+L34',\n",
       "  'L39+L40',\n",
       "  'L7+L8',\n",
       "  'L5+L6',\n",
       "  'L47+L48',\n",
       "  'L9+L10',\n",
       "  'L45+L46',\n",
       "  'L23+L24',\n",
       "  'L49+L50',\n",
       "  'L13+L14',\n",
       "  'L53+L54',\n",
       "  'L15+L16',\n",
       "  'L17+L18',\n",
       "  'L29+L30',\n",
       "  'L55+L56',\n",
       "  'L25+L26',\n",
       "  'L11+L12',\n",
       "  'L31+L32',\n",
       "  'L57+L58',\n",
       "  'L51+L52',\n",
       "  'L41+L42'],\n",
       " 'MAT2001-Numerical Methods for Engineers': ['L49+L50', 'L3+L4'],\n",
       " 'MAT2003-Optimization Techniques': ['L27+L28', 'L45+L46'],\n",
       " 'MEC1002-Engineering Graphics': ['L13+L14+L21+L22'],\n",
       " 'MEC2005-Fundamentals of Manufacturing Processes': ['L1+L2', 'L5+L6'],\n",
       " 'MEC3001-Heat and Mass Transfer': ['L37+L38'],\n",
       " 'MEC3002-Theory of Machines': ['L1+L2', 'L5+L6'],\n",
       " 'MEC3005-Automation in Manufacturing': ['L39+L40'],\n",
       " 'MEC3012-Additive Manufacturing': ['L41+L42'],\n",
       " 'MEC4003-Internal Combustion Engines': ['L33+L34'],\n",
       " 'MEC4008-Automobile Engineering': ['L39+L40'],\n",
       " 'MGT1001-Ethics and Values': ['L27+L28',\n",
       "  'L49+L50',\n",
       "  'L35+L36',\n",
       "  'L3+L4',\n",
       "  'L29+L30',\n",
       "  'L15+L16',\n",
       "  'L21+L22',\n",
       "  'L37+L38',\n",
       "  'L43+L44',\n",
       "  'L55+L56',\n",
       "  'L39+L40',\n",
       "  'L9+L10'],\n",
       " 'SWE2006-Database Systems': ['L49+L50',\n",
       "  'L53+L54',\n",
       "  'L19+L20',\n",
       "  'L17+L18',\n",
       "  'L1+L2',\n",
       "  'L47+L48',\n",
       "  'L9+L10',\n",
       "  'L45+L46'],\n",
       " 'SWE3001-Introduction to Computer Networks': ['L35+L36',\n",
       "  'L3+L4',\n",
       "  'L7+L8',\n",
       "  'L37+L38',\n",
       "  'L31+L32',\n",
       "  'L57+L58',\n",
       "  'L5+L6'],\n",
       " 'SWE3005-Principles of Design Patterns': ['L41+L42', 'L11+L12', 'L39+L40'],\n",
       " 'SWE4002-Software Testing': ['L29+L30', 'L53+L54', 'L45+L46'],\n",
       " 'SWE4006-Advanced Server Side Programming': ['L29+L30', 'L53+L54', 'L45+L46']}"
      ]
     },
     "execution_count": 42,
     "metadata": {},
     "output_type": "execute_result"
    }
   ],
   "source": [
    "# convert into a dict where course title is key and value is slots \n",
    "course_dict = _df.set_index(\"course\").to_dict()[\"SLOT\"]\n",
    "course_dict"
   ]
  },
  {
   "cell_type": "code",
   "execution_count": 43,
   "metadata": {},
   "outputs": [],
   "source": [
    "# save this as json \n",
    "import json\n",
    "with open(\"course_dict.json\", \"w\") as f:\n",
    "    json.dump(course_dict, f, indent=4)"
   ]
  }
 ],
 "metadata": {
  "kernelspec": {
   "display_name": "Python 3 (ipykernel)",
   "language": "python",
   "name": "python3"
  },
  "language_info": {
   "codemirror_mode": {
    "name": "ipython",
    "version": 3
   },
   "file_extension": ".py",
   "mimetype": "text/x-python",
   "name": "python",
   "nbconvert_exporter": "python",
   "pygments_lexer": "ipython3",
   "version": "3.12.3"
  }
 },
 "nbformat": 4,
 "nbformat_minor": 4
}
