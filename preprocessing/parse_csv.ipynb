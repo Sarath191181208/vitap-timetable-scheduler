{
 "cells": [
  {
   "cell_type": "code",
   "execution_count": 25,
   "metadata": {},
   "outputs": [],
   "source": [
    "import numpy as np \n",
    "import pandas as pd\n",
    "from pathlib import Path \n",
    "data_dir = csv_path = Path(__vsc_ipynb_file__).resolve().parent / 'data' \n",
    "is_lab = False\n",
    "pdf_path = data_dir/ 'ANNEXURE-II(A) Theory Slots.pdf'"
   ]
  },
  {
   "cell_type": "code",
   "execution_count": 2,
   "metadata": {},
   "outputs": [
    {
     "ename": "JVMNotFoundException",
     "evalue": "No JVM shared library file (jvm.dll) found. Try setting up the JAVA_HOME environment variable properly.",
     "output_type": "error",
     "traceback": [
      "\u001b[1;31m---------------------------------------------------------------------------\u001b[0m",
      "\u001b[1;31mJVMNotFoundException\u001b[0m                      Traceback (most recent call last)",
      "Cell \u001b[1;32mIn[2], line 3\u001b[0m\n\u001b[0;32m      1\u001b[0m \u001b[38;5;28;01mfrom\u001b[39;00m \u001b[38;5;21;01mtabula\u001b[39;00m \u001b[38;5;28;01mimport\u001b[39;00m io\n\u001b[0;32m      2\u001b[0m is_lab: \u001b[38;5;28mbool\u001b[39m \u001b[38;5;241m=\u001b[39m \u001b[38;5;28;01mFalse\u001b[39;00m\n\u001b[1;32m----> 3\u001b[0m dfs \u001b[38;5;241m=\u001b[39m \u001b[43mio\u001b[49m\u001b[38;5;241;43m.\u001b[39;49m\u001b[43mread_pdf\u001b[49m\u001b[43m(\u001b[49m\u001b[43mpdf_path\u001b[49m\u001b[38;5;241;43m.\u001b[39;49m\u001b[43mresolve\u001b[49m\u001b[43m(\u001b[49m\u001b[43m)\u001b[49m\u001b[43m,\u001b[49m\u001b[43m \u001b[49m\u001b[43mpages\u001b[49m\u001b[38;5;241;43m=\u001b[39;49m\u001b[43m[\u001b[49m\u001b[43mi\u001b[49m\u001b[38;5;241;43m+\u001b[39;49m\u001b[38;5;241;43m1\u001b[39;49m\u001b[43m \u001b[49m\u001b[38;5;28;43;01mfor\u001b[39;49;00m\u001b[43m \u001b[49m\u001b[43mi\u001b[49m\u001b[43m \u001b[49m\u001b[38;5;129;43;01min\u001b[39;49;00m\u001b[43m \u001b[49m\u001b[38;5;28;43mrange\u001b[39;49m\u001b[43m(\u001b[49m\u001b[38;5;241;43m9\u001b[39;49m\u001b[43m)\u001b[49m\u001b[43m]\u001b[49m\u001b[43m,\u001b[49m\u001b[43m \u001b[49m\u001b[43mmultiple_tables\u001b[49m\u001b[38;5;241;43m=\u001b[39;49m\u001b[38;5;28;43;01mFalse\u001b[39;49;00m\u001b[43m,\u001b[49m\u001b[43m \u001b[49m\u001b[43mguess\u001b[49m\u001b[38;5;241;43m=\u001b[39;49m\u001b[38;5;28;43;01mFalse\u001b[39;49;00m\u001b[43m,\u001b[49m\u001b[43m \u001b[49m\u001b[43mencoding\u001b[49m\u001b[38;5;241;43m=\u001b[39;49m\u001b[38;5;124;43m'\u001b[39;49m\u001b[38;5;124;43mcp1252\u001b[39;49m\u001b[38;5;124;43m'\u001b[39;49m\u001b[43m)\u001b[49m\n",
      "File \u001b[1;32md:\\compilers\\Python311\\Lib\\site-packages\\tabula\\io.py:395\u001b[0m, in \u001b[0;36mread_pdf\u001b[1;34m(input_path, output_format, encoding, java_options, pandas_options, multiple_tables, user_agent, use_raw_url, pages, guess, area, relative_area, lattice, stream, password, silent, columns, relative_columns, format, batch, output_path, force_subprocess, options)\u001b[0m\n\u001b[0;32m    392\u001b[0m     \u001b[38;5;28;01mraise\u001b[39;00m \u001b[38;5;167;01mValueError\u001b[39;00m(\u001b[38;5;124mf\u001b[39m\u001b[38;5;124m\"\u001b[39m\u001b[38;5;132;01m{\u001b[39;00mpath\u001b[38;5;132;01m}\u001b[39;00m\u001b[38;5;124m is empty. Check the file, or download it manually.\u001b[39m\u001b[38;5;124m\"\u001b[39m)\n\u001b[0;32m    394\u001b[0m \u001b[38;5;28;01mtry\u001b[39;00m:\n\u001b[1;32m--> 395\u001b[0m     output \u001b[38;5;241m=\u001b[39m \u001b[43m_run\u001b[49m\u001b[43m(\u001b[49m\n\u001b[0;32m    396\u001b[0m \u001b[43m        \u001b[49m\u001b[43mtabula_options\u001b[49m\u001b[43m,\u001b[49m\n\u001b[0;32m    397\u001b[0m \u001b[43m        \u001b[49m\u001b[43mjava_options\u001b[49m\u001b[43m,\u001b[49m\n\u001b[0;32m    398\u001b[0m \u001b[43m        \u001b[49m\u001b[43mpath\u001b[49m\u001b[43m,\u001b[49m\n\u001b[0;32m    399\u001b[0m \u001b[43m        \u001b[49m\u001b[43mencoding\u001b[49m\u001b[38;5;241;43m=\u001b[39;49m\u001b[43mencoding\u001b[49m\u001b[43m,\u001b[49m\n\u001b[0;32m    400\u001b[0m \u001b[43m        \u001b[49m\u001b[43mforce_subprocess\u001b[49m\u001b[38;5;241;43m=\u001b[39;49m\u001b[43mforce_subprocess\u001b[49m\u001b[43m,\u001b[49m\n\u001b[0;32m    401\u001b[0m \u001b[43m    \u001b[49m\u001b[43m)\u001b[49m\n\u001b[0;32m    402\u001b[0m \u001b[38;5;28;01mfinally\u001b[39;00m:\n\u001b[0;32m    403\u001b[0m     \u001b[38;5;28;01mif\u001b[39;00m temporary:\n",
      "File \u001b[1;32md:\\compilers\\Python311\\Lib\\site-packages\\tabula\\io.py:74\u001b[0m, in \u001b[0;36m_run\u001b[1;34m(options, java_options, path, encoding, force_subprocess)\u001b[0m\n\u001b[0;32m     69\u001b[0m     _tabula_vm \u001b[38;5;241m=\u001b[39m SubprocessTabula(\n\u001b[0;32m     70\u001b[0m         java_options\u001b[38;5;241m=\u001b[39mjava_options, silent\u001b[38;5;241m=\u001b[39moptions\u001b[38;5;241m.\u001b[39msilent, encoding\u001b[38;5;241m=\u001b[39mencoding\n\u001b[0;32m     71\u001b[0m     )\n\u001b[0;32m     73\u001b[0m \u001b[38;5;28;01mif\u001b[39;00m \u001b[38;5;129;01mnot\u001b[39;00m _tabula_vm:\n\u001b[1;32m---> 74\u001b[0m     _tabula_vm \u001b[38;5;241m=\u001b[39m \u001b[43mTabulaVm\u001b[49m\u001b[43m(\u001b[49m\u001b[43mjava_options\u001b[49m\u001b[38;5;241;43m=\u001b[39;49m\u001b[43mjava_options\u001b[49m\u001b[43m,\u001b[49m\u001b[43m \u001b[49m\u001b[43msilent\u001b[49m\u001b[38;5;241;43m=\u001b[39;49m\u001b[43moptions\u001b[49m\u001b[38;5;241;43m.\u001b[39;49m\u001b[43msilent\u001b[49m\u001b[43m)\u001b[49m\n\u001b[0;32m     75\u001b[0m     \u001b[38;5;28;01mif\u001b[39;00m _tabula_vm \u001b[38;5;129;01mand\u001b[39;00m \u001b[38;5;129;01mnot\u001b[39;00m _tabula_vm\u001b[38;5;241m.\u001b[39mtabula:\n\u001b[0;32m     76\u001b[0m         _tabula_vm \u001b[38;5;241m=\u001b[39m SubprocessTabula(\n\u001b[0;32m     77\u001b[0m             java_options\u001b[38;5;241m=\u001b[39mjava_options, silent\u001b[38;5;241m=\u001b[39moptions\u001b[38;5;241m.\u001b[39msilent, encoding\u001b[38;5;241m=\u001b[39mencoding\n\u001b[0;32m     78\u001b[0m         )\n",
      "File \u001b[1;32md:\\compilers\\Python311\\Lib\\site-packages\\tabula\\backend.py:45\u001b[0m, in \u001b[0;36mTabulaVm.__init__\u001b[1;34m(self, java_options, silent)\u001b[0m\n\u001b[0;32m     36\u001b[0m     \u001b[38;5;28;01mif\u001b[39;00m silent:\n\u001b[0;32m     37\u001b[0m         java_options\u001b[38;5;241m.\u001b[39mextend(\n\u001b[0;32m     38\u001b[0m             (\n\u001b[0;32m     39\u001b[0m                 \u001b[38;5;124m\"\u001b[39m\u001b[38;5;124m-Dorg.slf4j.simpleLogger.defaultLogLevel=off\u001b[39m\u001b[38;5;124m\"\u001b[39m,\n\u001b[1;32m   (...)\u001b[0m\n\u001b[0;32m     42\u001b[0m             )\n\u001b[0;32m     43\u001b[0m         )\n\u001b[1;32m---> 45\u001b[0m     \u001b[43mjpype\u001b[49m\u001b[38;5;241;43m.\u001b[39;49m\u001b[43mstartJVM\u001b[49m\u001b[43m(\u001b[49m\u001b[38;5;241;43m*\u001b[39;49m\u001b[43mjava_options\u001b[49m\u001b[43m,\u001b[49m\u001b[43m \u001b[49m\u001b[43mconvertStrings\u001b[49m\u001b[38;5;241;43m=\u001b[39;49m\u001b[38;5;28;43;01mFalse\u001b[39;49;00m\u001b[43m)\u001b[49m\n\u001b[0;32m     47\u001b[0m \u001b[38;5;28;01mimport\u001b[39;00m \u001b[38;5;21;01mjava\u001b[39;00m\u001b[38;5;21;01m.\u001b[39;00m\u001b[38;5;21;01mlang\u001b[39;00m \u001b[38;5;28;01mas\u001b[39;00m \u001b[38;5;21;01mlang\u001b[39;00m\n\u001b[0;32m     48\u001b[0m \u001b[38;5;28;01mimport\u001b[39;00m \u001b[38;5;21;01mtechnology\u001b[39;00m\u001b[38;5;21;01m.\u001b[39;00m\u001b[38;5;21;01mtabula\u001b[39;00m \u001b[38;5;28;01mas\u001b[39;00m \u001b[38;5;21;01mtabula\u001b[39;00m\n",
      "File \u001b[1;32md:\\compilers\\Python311\\Lib\\site-packages\\jpype\\_core.py:219\u001b[0m, in \u001b[0;36mstartJVM\u001b[1;34m(jvmpath, classpath, ignoreUnrecognized, convertStrings, interrupt, *jvmargs)\u001b[0m\n\u001b[0;32m    216\u001b[0m         jvmargs \u001b[38;5;241m=\u001b[39m jvmargs[\u001b[38;5;241m1\u001b[39m:]\n\u001b[0;32m    218\u001b[0m \u001b[38;5;28;01mif\u001b[39;00m \u001b[38;5;129;01mnot\u001b[39;00m jvmpath:\n\u001b[1;32m--> 219\u001b[0m     jvmpath \u001b[38;5;241m=\u001b[39m \u001b[43mgetDefaultJVMPath\u001b[49m\u001b[43m(\u001b[49m\u001b[43m)\u001b[49m\n\u001b[0;32m    220\u001b[0m \u001b[38;5;28;01melse\u001b[39;00m:\n\u001b[0;32m    221\u001b[0m     \u001b[38;5;66;03m# Allow the path to be a PathLike.\u001b[39;00m\n\u001b[0;32m    222\u001b[0m     jvmpath \u001b[38;5;241m=\u001b[39m os\u001b[38;5;241m.\u001b[39mfspath(jvmpath)\n",
      "File \u001b[1;32md:\\compilers\\Python311\\Lib\\site-packages\\jpype\\_jvmfinder.py:74\u001b[0m, in \u001b[0;36mgetDefaultJVMPath\u001b[1;34m()\u001b[0m\n\u001b[0;32m     72\u001b[0m \u001b[38;5;28;01melse\u001b[39;00m:\n\u001b[0;32m     73\u001b[0m     finder \u001b[38;5;241m=\u001b[39m LinuxJVMFinder()\n\u001b[1;32m---> 74\u001b[0m \u001b[38;5;28;01mreturn\u001b[39;00m \u001b[43mfinder\u001b[49m\u001b[38;5;241;43m.\u001b[39;49m\u001b[43mget_jvm_path\u001b[49m\u001b[43m(\u001b[49m\u001b[43m)\u001b[49m\n",
      "File \u001b[1;32md:\\compilers\\Python311\\Lib\\site-packages\\jpype\\_jvmfinder.py:212\u001b[0m, in \u001b[0;36mJVMFinder.get_jvm_path\u001b[1;34m(self)\u001b[0m\n\u001b[0;32m    210\u001b[0m \u001b[38;5;28;01mif\u001b[39;00m jvm_notsupport_ext \u001b[38;5;129;01mis\u001b[39;00m \u001b[38;5;129;01mnot\u001b[39;00m \u001b[38;5;28;01mNone\u001b[39;00m:\n\u001b[0;32m    211\u001b[0m     \u001b[38;5;28;01mraise\u001b[39;00m jvm_notsupport_ext\n\u001b[1;32m--> 212\u001b[0m \u001b[38;5;28;01mraise\u001b[39;00m JVMNotFoundException(\u001b[38;5;124m\"\u001b[39m\u001b[38;5;124mNo JVM shared library file (\u001b[39m\u001b[38;5;132;01m{0}\u001b[39;00m\u001b[38;5;124m) \u001b[39m\u001b[38;5;124m\"\u001b[39m\n\u001b[0;32m    213\u001b[0m                            \u001b[38;5;124m\"\u001b[39m\u001b[38;5;124mfound. Try setting up the JAVA_HOME \u001b[39m\u001b[38;5;124m\"\u001b[39m\n\u001b[0;32m    214\u001b[0m                            \u001b[38;5;124m\"\u001b[39m\u001b[38;5;124menvironment variable properly.\u001b[39m\u001b[38;5;124m\"\u001b[39m\n\u001b[0;32m    215\u001b[0m                            \u001b[38;5;241m.\u001b[39mformat(\u001b[38;5;28mself\u001b[39m\u001b[38;5;241m.\u001b[39m_libfile))\n",
      "\u001b[1;31mJVMNotFoundException\u001b[0m: No JVM shared library file (jvm.dll) found. Try setting up the JAVA_HOME environment variable properly."
     ]
    }
   ],
   "source": [
    "from tabula import io\n",
    "is_lab: bool = False\n",
    "dfs = io.read_pdf(pdf_path.resolve(), pages=[i+1 for i in range(9)], multiple_tables=False, guess=False, encoding='cp1252')"
   ]
  },
  {
   "cell_type": "code",
   "execution_count": null,
   "metadata": {},
   "outputs": [
    {
     "data": {
      "text/plain": [
       "1"
      ]
     },
     "execution_count": 41,
     "metadata": {},
     "output_type": "execute_result"
    }
   ],
   "source": [
    "len(dfs)"
   ]
  },
  {
   "cell_type": "code",
   "execution_count": null,
   "metadata": {},
   "outputs": [],
   "source": [
    "df = dfs[0]"
   ]
  },
  {
   "cell_type": "code",
   "execution_count": null,
   "metadata": {},
   "outputs": [
    {
     "data": {
      "text/html": [
       "<div>\n",
       "<style scoped>\n",
       "    .dataframe tbody tr th:only-of-type {\n",
       "        vertical-align: middle;\n",
       "    }\n",
       "\n",
       "    .dataframe tbody tr th {\n",
       "        vertical-align: top;\n",
       "    }\n",
       "\n",
       "    .dataframe thead th {\n",
       "        text-align: right;\n",
       "    }\n",
       "</style>\n",
       "<table border=\"1\" class=\"dataframe\">\n",
       "  <thead>\n",
       "    <tr style=\"text-align: right;\">\n",
       "      <th></th>\n",
       "      <th>COURSE CODE</th>\n",
       "      <th>TITLE</th>\n",
       "      <th>SLOT</th>\n",
       "    </tr>\n",
       "  </thead>\n",
       "  <tbody>\n",
       "    <tr>\n",
       "      <th>1</th>\n",
       "      <td>CHY1001</td>\n",
       "      <td>Environmental Studies</td>\n",
       "      <td>E1</td>\n",
       "    </tr>\n",
       "  </tbody>\n",
       "</table>\n",
       "</div>"
      ],
      "text/plain": [
       "  COURSE CODE                  TITLE SLOT\n",
       "1     CHY1001  Environmental Studies   E1"
      ]
     },
     "execution_count": 43,
     "metadata": {},
     "output_type": "execute_result"
    }
   ],
   "source": [
    "# get the col where code is chy1001\n",
    "df[df['COURSE CODE'] == 'CHY1001']"
   ]
  },
  {
   "cell_type": "code",
   "execution_count": null,
   "metadata": {},
   "outputs": [
    {
     "data": {
      "text/plain": [
       "COURSE CODE    0\n",
       "TITLE          0\n",
       "SLOT           0\n",
       "dtype: int64"
      ]
     },
     "execution_count": 56,
     "metadata": {},
     "output_type": "execute_result"
    }
   ],
   "source": [
    "df.isna().sum()"
   ]
  },
  {
   "cell_type": "code",
   "execution_count": null,
   "metadata": {},
   "outputs": [],
   "source": [
    "# drop all the isna \n",
    "df = df.dropna()"
   ]
  },
  {
   "cell_type": "code",
   "execution_count": null,
   "metadata": {},
   "outputs": [
    {
     "data": {
      "text/plain": [
       "COURSE CODE                    MGT1029\n",
       "TITLE          Basic Law for Engineers\n",
       "SLOT                            F1+TF1\n",
       "Name: 365, dtype: object"
      ]
     },
     "execution_count": 57,
     "metadata": {},
     "output_type": "execute_result"
    }
   ],
   "source": [
    "# give me the last element\n",
    "df.iloc[-1, :]"
   ]
  },
  {
   "cell_type": "code",
   "execution_count": null,
   "metadata": {},
   "outputs": [],
   "source": [
    "# remove all the white space characters inside df\n",
    "df = df.replace(r'\\s+', ' ', regex=True)"
   ]
  },
  {
   "cell_type": "code",
   "execution_count": 32,
   "metadata": {},
   "outputs": [
    {
     "ename": "IndexError",
     "evalue": "list index out of range",
     "output_type": "error",
     "traceback": [
      "\u001b[1;31m---------------------------------------------------------------------------\u001b[0m",
      "\u001b[1;31mIndexError\u001b[0m                                Traceback (most recent call last)",
      "Cell \u001b[1;32mIn[32], line 12\u001b[0m\n\u001b[0;32m     10\u001b[0m parts \u001b[38;5;241m=\u001b[39m line\u001b[38;5;241m.\u001b[39mreplace(\u001b[38;5;124m\"\u001b[39m\u001b[38;5;130;01m\\\"\u001b[39;00m\u001b[38;5;124m\"\u001b[39m, \u001b[38;5;124m\"\u001b[39m\u001b[38;5;124m\"\u001b[39m)\u001b[38;5;241m.\u001b[39msplit(\u001b[38;5;124m\"\u001b[39m\u001b[38;5;124m \u001b[39m\u001b[38;5;124m\"\u001b[39m)\n\u001b[0;32m     11\u001b[0m parts \u001b[38;5;241m=\u001b[39m [part\u001b[38;5;241m.\u001b[39mstrip() \u001b[38;5;28;01mfor\u001b[39;00m part \u001b[38;5;129;01min\u001b[39;00m parts \u001b[38;5;28;01mif\u001b[39;00m part \u001b[38;5;241m!=\u001b[39m \u001b[38;5;124m'\u001b[39m\u001b[38;5;124m'\u001b[39m]\n\u001b[1;32m---> 12\u001b[0m p1, p2, p3 \u001b[38;5;241m=\u001b[39m \u001b[43mparts\u001b[49m\u001b[43m[\u001b[49m\u001b[38;5;241;43m0\u001b[39;49m\u001b[43m]\u001b[49m, parts[\u001b[38;5;241m1\u001b[39m:\u001b[38;5;241m-\u001b[39m\u001b[38;5;241m1\u001b[39m], parts[\u001b[38;5;241m-\u001b[39m\u001b[38;5;241m1\u001b[39m]\n\u001b[0;32m     13\u001b[0m parts \u001b[38;5;241m=\u001b[39m [p1, \u001b[38;5;124m\"\u001b[39m\u001b[38;5;124m \u001b[39m\u001b[38;5;124m\"\u001b[39m\u001b[38;5;241m.\u001b[39mjoin(p2), p3]\n\u001b[0;32m     14\u001b[0m parsed_data\u001b[38;5;241m.\u001b[39mappend(\u001b[38;5;124m\"\u001b[39m\u001b[38;5;124m,\u001b[39m\u001b[38;5;124m\"\u001b[39m\u001b[38;5;241m.\u001b[39mjoin(parts))\n",
      "\u001b[1;31mIndexError\u001b[0m: list index out of range"
     ]
    }
   ],
   "source": [
    "# read the ANNEXURE-II_A_-Theory-Slots.csv \n",
    "csv_path = data_dir / 'ANNEXURE-II(B) Lab Slots.csv'\n",
    "with open(csv_path, 'r') as f:\n",
    "    csv_data = f.read()\n",
    "\n",
    "# split the csv_data by \\n\n",
    "csv_data = csv_data.split('\\n')\n",
    "parsed_data = []\n",
    "for line in csv_data:\n",
    "    parts = line.replace(\"\\\"\", \"\").split(\" \")\n",
    "    parts = [part.strip() for part in parts if part != '']\n",
    "    p1, p2, p3 = parts[0], parts[1:-1], parts[-1]\n",
    "    parts = [p1, \" \".join(p2), p3]\n",
    "    parsed_data.append(\",\".join(parts))\n",
    "\n",
    "# save the file as csv\n",
    "csv_path = data_dir / 'ANNEXURE-II_A_parsed-Lab-Slots.csv'\n",
    "with open(csv_path, 'w') as f:\n",
    "    f.write('\\n'.join(parsed_data))"
   ]
  },
  {
   "cell_type": "code",
   "execution_count": null,
   "metadata": {},
   "outputs": [],
   "source": []
  },
  {
   "cell_type": "code",
   "execution_count": null,
   "metadata": {},
   "outputs": [
    {
     "data": {
      "text/html": [
       "<div>\n",
       "<style scoped>\n",
       "    .dataframe tbody tr th:only-of-type {\n",
       "        vertical-align: middle;\n",
       "    }\n",
       "\n",
       "    .dataframe tbody tr th {\n",
       "        vertical-align: top;\n",
       "    }\n",
       "\n",
       "    .dataframe thead th {\n",
       "        text-align: right;\n",
       "    }\n",
       "</style>\n",
       "<table border=\"1\" class=\"dataframe\">\n",
       "  <thead>\n",
       "    <tr style=\"text-align: right;\">\n",
       "      <th></th>\n",
       "      <th>COURSE CODE</th>\n",
       "      <th>TITLE</th>\n",
       "      <th>SLOT</th>\n",
       "    </tr>\n",
       "  </thead>\n",
       "  <tbody>\n",
       "    <tr>\n",
       "      <th>0</th>\n",
       "      <td>STS3006</td>\n",
       "      <td>Basic Competitive Coding - I</td>\n",
       "      <td>G1+TG1</td>\n",
       "    </tr>\n",
       "    <tr>\n",
       "      <th>1</th>\n",
       "      <td>CHY1001</td>\n",
       "      <td>Environmental Studies</td>\n",
       "      <td>E1</td>\n",
       "    </tr>\n",
       "    <tr>\n",
       "      <th>2</th>\n",
       "      <td>CHY1005</td>\n",
       "      <td>Industrial Chemistry for Engineers</td>\n",
       "      <td>C1+TC1</td>\n",
       "    </tr>\n",
       "    <tr>\n",
       "      <th>3</th>\n",
       "      <td>CHY1005</td>\n",
       "      <td>Industrial Chemistry for Engineers</td>\n",
       "      <td>G2+TG2</td>\n",
       "    </tr>\n",
       "    <tr>\n",
       "      <th>4</th>\n",
       "      <td>CHY1005</td>\n",
       "      <td>Industrial Chemistry for Engineers</td>\n",
       "      <td>G1+TG1</td>\n",
       "    </tr>\n",
       "  </tbody>\n",
       "</table>\n",
       "</div>"
      ],
      "text/plain": [
       "  COURSE CODE                               TITLE    SLOT\n",
       "0     STS3006        Basic Competitive Coding - I  G1+TG1\n",
       "1     CHY1001               Environmental Studies      E1\n",
       "2     CHY1005  Industrial Chemistry for Engineers  C1+TC1\n",
       "3     CHY1005  Industrial Chemistry for Engineers  G2+TG2\n",
       "4     CHY1005  Industrial Chemistry for Engineers  G1+TG1"
      ]
     },
     "execution_count": 59,
     "metadata": {},
     "output_type": "execute_result"
    }
   ],
   "source": [
    "df.head()"
   ]
  },
  {
   "cell_type": "code",
   "execution_count": 33,
   "metadata": {},
   "outputs": [],
   "source": [
    "csv_path = data_dir / 'ANNEXURE-II(B) Lab Slots.csv'\n",
    "df = pd.read_csv(csv_path.resolve())"
   ]
  },
  {
   "cell_type": "code",
   "execution_count": 34,
   "metadata": {},
   "outputs": [
    {
     "data": {
      "text/html": [
       "<div>\n",
       "<style scoped>\n",
       "    .dataframe tbody tr th:only-of-type {\n",
       "        vertical-align: middle;\n",
       "    }\n",
       "\n",
       "    .dataframe tbody tr th {\n",
       "        vertical-align: top;\n",
       "    }\n",
       "\n",
       "    .dataframe thead th {\n",
       "        text-align: right;\n",
       "    }\n",
       "</style>\n",
       "<table border=\"1\" class=\"dataframe\">\n",
       "  <thead>\n",
       "    <tr style=\"text-align: right;\">\n",
       "      <th></th>\n",
       "      <th>COURSE CODE</th>\n",
       "      <th>TITLE</th>\n",
       "      <th>SLOT</th>\n",
       "    </tr>\n",
       "  </thead>\n",
       "  <tbody>\n",
       "  </tbody>\n",
       "</table>\n",
       "</div>"
      ],
      "text/plain": [
       "Empty DataFrame\n",
       "Columns: [COURSE CODE, TITLE, SLOT]\n",
       "Index: []"
      ]
     },
     "execution_count": 34,
     "metadata": {},
     "output_type": "execute_result"
    }
   ],
   "source": [
    "# print all the courses whose course code aren't in the format of [A-Z]{3}[0-9]{3}\n",
    "df[~df[\"course code\".upper()].str.match(r\"^[A-Z]{3}[0-9]{4}$\")]"
   ]
  },
  {
   "cell_type": "code",
   "execution_count": 35,
   "metadata": {},
   "outputs": [],
   "source": [
    "# merge all the rows that have COURSE CODE AND SLOT AND COURSE TITLE as SAME\n",
    "# append all the SLOT values to the SLOT column SLOT col is a list \n",
    "_df = df.groupby([\"COURSE CODE\", \"TITLE\"])\\\n",
    "        .agg({\"SLOT\": lambda x: list(x)})\\\n",
    "        .reset_index()"
   ]
  },
  {
   "cell_type": "code",
   "execution_count": 36,
   "metadata": {},
   "outputs": [
    {
     "data": {
      "text/html": [
       "<div>\n",
       "<style scoped>\n",
       "    .dataframe tbody tr th:only-of-type {\n",
       "        vertical-align: middle;\n",
       "    }\n",
       "\n",
       "    .dataframe tbody tr th {\n",
       "        vertical-align: top;\n",
       "    }\n",
       "\n",
       "    .dataframe thead th {\n",
       "        text-align: right;\n",
       "    }\n",
       "</style>\n",
       "<table border=\"1\" class=\"dataframe\">\n",
       "  <thead>\n",
       "    <tr style=\"text-align: right;\">\n",
       "      <th></th>\n",
       "      <th>COURSE CODE</th>\n",
       "      <th>TITLE</th>\n",
       "      <th>SLOT</th>\n",
       "    </tr>\n",
       "  </thead>\n",
       "  <tbody>\n",
       "    <tr>\n",
       "      <th>0</th>\n",
       "      <td>CSE1005</td>\n",
       "      <td>Software Engineering</td>\n",
       "      <td>[L1+L2, L3+L4, L5+L6, L7+L8, L9+L10, L11+L12, ...</td>\n",
       "    </tr>\n",
       "    <tr>\n",
       "      <th>1</th>\n",
       "      <td>CSE1006</td>\n",
       "      <td>Foundations for Data Analytics</td>\n",
       "      <td>[L1+L2, L5+L6, L27+L28, L31+L32, L47+L48, L57+...</td>\n",
       "    </tr>\n",
       "    <tr>\n",
       "      <th>2</th>\n",
       "      <td>CSE1007</td>\n",
       "      <td>Introduction to Cryptography</td>\n",
       "      <td>[L37+L38, L7+L8, L51+L52]</td>\n",
       "    </tr>\n",
       "    <tr>\n",
       "      <th>3</th>\n",
       "      <td>CSE1020</td>\n",
       "      <td>Procedural Programming Using C</td>\n",
       "      <td>[L47+L48, L43+L44, L15+L16]</td>\n",
       "    </tr>\n",
       "    <tr>\n",
       "      <th>4</th>\n",
       "      <td>CSE2006</td>\n",
       "      <td>Computer Graphics</td>\n",
       "      <td>[L9+L10]</td>\n",
       "    </tr>\n",
       "  </tbody>\n",
       "</table>\n",
       "</div>"
      ],
      "text/plain": [
       "  COURSE CODE                           TITLE  \\\n",
       "0     CSE1005            Software Engineering   \n",
       "1     CSE1006  Foundations for Data Analytics   \n",
       "2     CSE1007    Introduction to Cryptography   \n",
       "3     CSE1020  Procedural Programming Using C   \n",
       "4     CSE2006               Computer Graphics   \n",
       "\n",
       "                                                SLOT  \n",
       "0  [L1+L2, L3+L4, L5+L6, L7+L8, L9+L10, L11+L12, ...  \n",
       "1  [L1+L2, L5+L6, L27+L28, L31+L32, L47+L48, L57+...  \n",
       "2                          [L37+L38, L7+L8, L51+L52]  \n",
       "3                        [L47+L48, L43+L44, L15+L16]  \n",
       "4                                           [L9+L10]  "
      ]
     },
     "execution_count": 36,
     "metadata": {},
     "output_type": "execute_result"
    }
   ],
   "source": [
    "_df.head()"
   ]
  },
  {
   "cell_type": "code",
   "execution_count": 37,
   "metadata": {},
   "outputs": [],
   "source": [
    "# convert the course-slots into a set to remove duplicates and remove nan and the empty slots\n",
    "_df[\"SLOT\"] = _df[\"SLOT\"].apply(lambda x: set(x) - {np.nan, \" \"})"
   ]
  },
  {
   "cell_type": "code",
   "execution_count": 38,
   "metadata": {},
   "outputs": [
    {
     "data": {
      "text/plain": [
       "COURSE CODE    0\n",
       "TITLE          0\n",
       "SLOT           0\n",
       "dtype: int64"
      ]
     },
     "execution_count": 38,
     "metadata": {},
     "output_type": "execute_result"
    }
   ],
   "source": [
    "_df.isnull().sum()"
   ]
  },
  {
   "cell_type": "code",
   "execution_count": 39,
   "metadata": {},
   "outputs": [],
   "source": [
    "# merge course-code and course-title into a single column called course \n",
    "_df[\"course\"] = _df[\"COURSE CODE\"] + \"-\" + _df[\"TITLE\"] + (\"( LAB )\" if is_lab else \"\") "
   ]
  },
  {
   "cell_type": "code",
   "execution_count": 40,
   "metadata": {},
   "outputs": [],
   "source": [
    "# drop the course-code and course-title columns\n",
    "_df.drop(columns=[\"COURSE CODE\", \"TITLE\"], inplace=True)"
   ]
  },
  {
   "cell_type": "code",
   "execution_count": 41,
   "metadata": {},
   "outputs": [],
   "source": [
    "# convert slot from set to list\n",
    "_df[\"SLOT\"] = _df[\"SLOT\"].apply(lambda x: list(x))"
   ]
  },
  {
   "cell_type": "code",
   "execution_count": 42,
   "metadata": {},
   "outputs": [
    {
     "data": {
      "text/plain": [
       "{'CSE1005-Software Engineering': ['L27+L28',\n",
       "  'L35+L36',\n",
       "  'L19+L20',\n",
       "  'L3+L4',\n",
       "  'L7+L8',\n",
       "  'L1+L2',\n",
       "  'L43+L44',\n",
       "  'L21+L22',\n",
       "  'L33+L34',\n",
       "  'L39+L40',\n",
       "  'L37+L38',\n",
       "  'L5+L6',\n",
       "  'L47+L48',\n",
       "  'L9+L10',\n",
       "  'L45+L46',\n",
       "  'L23+L24',\n",
       "  'L49+L50',\n",
       "  'L13+L14',\n",
       "  'L53+L54',\n",
       "  'L15+L16',\n",
       "  'L17+L18',\n",
       "  'L29+L30',\n",
       "  'L55+L56',\n",
       "  'L25+L26',\n",
       "  'L11+L12',\n",
       "  'L31+L32',\n",
       "  'L57+L58',\n",
       "  'L51+L52',\n",
       "  'L41+L42'],\n",
       " 'CSE1006-Foundations for Data Analytics': ['L23+L24',\n",
       "  'L27+L28',\n",
       "  'L5+L6',\n",
       "  'L13+L14',\n",
       "  'L3+L4',\n",
       "  'L1+L2',\n",
       "  'L33+L34',\n",
       "  'L31+L32',\n",
       "  'L57+L58',\n",
       "  'L51+L52',\n",
       "  'L41+L42',\n",
       "  'L47+L48'],\n",
       " 'CSE1007-Introduction to Cryptography': ['L51+L52', 'L7+L8', 'L37+L38'],\n",
       " 'CSE1020-Procedural Programming Using C': ['L47+L48', 'L43+L44', 'L15+L16'],\n",
       " 'CSE2006-Computer Graphics': ['L9+L10'],\n",
       " 'CSE2007-Database Management Systems': ['L27+L28',\n",
       "  'L35+L36',\n",
       "  'L19+L20',\n",
       "  'L3+L4',\n",
       "  'L7+L8',\n",
       "  'L1+L2',\n",
       "  'L43+L44',\n",
       "  'L21+L22',\n",
       "  'L33+L34',\n",
       "  'L39+L40',\n",
       "  'L37+L38',\n",
       "  'L5+L6',\n",
       "  'L47+L48',\n",
       "  'L9+L10',\n",
       "  'L45+L46',\n",
       "  'L23+L24',\n",
       "  'L49+L50',\n",
       "  'L13+L14',\n",
       "  'L53+L54',\n",
       "  'L15+L16',\n",
       "  'L17+L18',\n",
       "  'L29+L30',\n",
       "  'L55+L56',\n",
       "  'L25+L26',\n",
       "  'L11+L12',\n",
       "  'L31+L32',\n",
       "  'L57+L58',\n",
       "  'L51+L52',\n",
       "  'L41+L42'],\n",
       " 'CSE2011-Cyber Security and Digital Forensics': ['L3+L4',\n",
       "  'L41+L42',\n",
       "  'L39+L40'],\n",
       " 'CSE3002-Artificial Intelligence': ['L27+L28',\n",
       "  'L35+L36',\n",
       "  'L19+L20',\n",
       "  'L3+L4',\n",
       "  'L7+L8',\n",
       "  'L1+L2',\n",
       "  'L43+L44',\n",
       "  'L21+L22',\n",
       "  'L33+L34',\n",
       "  'L39+L40',\n",
       "  'L37+L38',\n",
       "  'L5+L6',\n",
       "  'L47+L48',\n",
       "  'L9+L10',\n",
       "  'L45+L46',\n",
       "  'L23+L24',\n",
       "  'L49+L50',\n",
       "  'L13+L14',\n",
       "  'L53+L54',\n",
       "  'L15+L16',\n",
       "  'L17+L18',\n",
       "  'L29+L30',\n",
       "  'L55+L56',\n",
       "  'L25+L26',\n",
       "  'L11+L12',\n",
       "  'L31+L32',\n",
       "  'L57+L58',\n",
       "  'L51+L52',\n",
       "  'L41+L42'],\n",
       " 'CSE3003-Computer Networks': ['L27+L28',\n",
       "  'L35+L36',\n",
       "  'L19+L20',\n",
       "  'L3+L4',\n",
       "  'L7+L8',\n",
       "  'L1+L2',\n",
       "  'L43+L44',\n",
       "  'L21+L22',\n",
       "  'L33+L34',\n",
       "  'L39+L40',\n",
       "  'L37+L38',\n",
       "  'L5+L6',\n",
       "  'L47+L48',\n",
       "  'L9+L10',\n",
       "  'L45+L46',\n",
       "  'L23+L24',\n",
       "  'L49+L50',\n",
       "  'L13+L14',\n",
       "  'L53+L54',\n",
       "  'L15+L16',\n",
       "  'L17+L18',\n",
       "  'L29+L30',\n",
       "  'L55+L56',\n",
       "  'L25+L26',\n",
       "  'L11+L12',\n",
       "  'L31+L32',\n",
       "  'L57+L58',\n",
       "  'L51+L52',\n",
       "  'L41+L42'],\n",
       " 'CSE3004-Design and Analysis of Algorithms': ['L27+L28',\n",
       "  'L35+L36',\n",
       "  'L19+L20',\n",
       "  'L3+L4',\n",
       "  'L7+L8',\n",
       "  'L21+L22',\n",
       "  'L43+L44',\n",
       "  'L37+L38',\n",
       "  'L39+L40',\n",
       "  'L5+L6',\n",
       "  'L47+L48',\n",
       "  'L9+L10',\n",
       "  'L45+L46',\n",
       "  'L23+L24',\n",
       "  'L49+L50',\n",
       "  'L13+L14',\n",
       "  'L53+L54',\n",
       "  'L15+L16',\n",
       "  'L17+L18',\n",
       "  'L29+L30',\n",
       "  'L55+L56',\n",
       "  'L25+L26',\n",
       "  'L11+L12',\n",
       "  'L31+L32',\n",
       "  'L57+L58',\n",
       "  'L51+L52'],\n",
       " 'CSE3006-Data Visualization': ['L7+L8', 'L53+L54', 'L15+L16', 'L39+L40'],\n",
       " 'CSE3008-Introduction to Machine Learning': ['L23+L24', 'L49+L50'],\n",
       " 'CSE3009-No SQL Databases': ['L53+L54',\n",
       "  'L29+L30',\n",
       "  'L25+L26',\n",
       "  'L31+L32',\n",
       "  'L9+L10'],\n",
       " 'CSE3011-Network Programming': ['L27+L28', 'L55+L56', 'L53+L54'],\n",
       " 'CSE3012-Network Security': ['L25+L26', 'L37+L38'],\n",
       " 'CSE3013-Secure Group Communications': ['L21+L22', 'L43+L44', 'L27+L28'],\n",
       " 'CSE3015-Natural Language Processing': ['L27+L28',\n",
       "  'L35+L36',\n",
       "  'L3+L4',\n",
       "  'L7+L8',\n",
       "  'L21+L22',\n",
       "  'L43+L44',\n",
       "  'L33+L34',\n",
       "  'L47+L48',\n",
       "  'L9+L10',\n",
       "  'L45+L46',\n",
       "  'L49+L50',\n",
       "  'L13+L14',\n",
       "  'L53+L54',\n",
       "  'L15+L16',\n",
       "  'L17+L18',\n",
       "  'L55+L56',\n",
       "  'L57+L58',\n",
       "  'L51+L52'],\n",
       " 'CSE4005-Data Warehousing and Data Mining': ['L51+L52',\n",
       "  'L25+L26',\n",
       "  'L41+L42',\n",
       "  'L11+L12'],\n",
       " 'CSE4007-Digital Image Processing': ['L27+L28',\n",
       "  'L35+L36',\n",
       "  'L13+L14',\n",
       "  'L3+L4',\n",
       "  'L17+L18',\n",
       "  'L21+L22',\n",
       "  'L37+L38',\n",
       "  'L55+L56',\n",
       "  'L33+L34',\n",
       "  'L11+L12',\n",
       "  'L31+L32',\n",
       "  'L57+L58',\n",
       "  'L47+L48',\n",
       "  'L9+L10'],\n",
       " 'CSE4008-Social Network Analysis': ['L23+L24',\n",
       "  'L19+L20',\n",
       "  'L1+L2',\n",
       "  'L57+L58',\n",
       "  'L47+L48'],\n",
       " 'CSE4016-Database Administration': ['L17+L18', 'L49+L50', 'L3+L4'],\n",
       " 'CSE4031-Web Application Security': ['L19+L20', 'L49+L50'],\n",
       " 'CSE4037-Reinforcement Learning': ['L23+L24',\n",
       "  'L35+L36',\n",
       "  'L19+L20',\n",
       "  'L3+L4',\n",
       "  'L15+L16',\n",
       "  'L37+L38',\n",
       "  'L33+L34',\n",
       "  'L31+L32',\n",
       "  'L41+L42',\n",
       "  'L9+L10',\n",
       "  'L45+L46'],\n",
       " 'CSE4040-Mining Massive Data Sets': ['L17+L18', 'L21+L22', 'L57+L58'],\n",
       " 'CSE4042-Blockchain Platforms and Applications': ['L55+L56'],\n",
       " 'CSE4044-Software Defined Networks and Network Function Virtualization': ['L39+L40'],\n",
       " 'ECE1007-Sensor Systems': ['L55+L56'],\n",
       " 'ECE1008-Sensors and Control Systems': ['L51+L52'],\n",
       " 'ECE2001-Analog Devices and Circuits': ['L7+L8',\n",
       "  'L37+L38',\n",
       "  'L35+L36',\n",
       "  'L39+L40'],\n",
       " 'ECE2006-Communication Systems': ['L23+L24', 'L51+L52', 'L55+L56', 'L3+L4'],\n",
       " 'ECE2007-Digital Signal Processing': ['L11+L12'],\n",
       " 'ECE2014-Microprocessors and Microcontrollers': ['L41+L42',\n",
       "  'L43+L44',\n",
       "  'L31+L32',\n",
       "  'L3+L4'],\n",
       " 'ECE3001-Linear Integrated Circuits and Applications': ['L41+L42',\n",
       "  'L33+L34',\n",
       "  'L11+L12',\n",
       "  'L9+L10'],\n",
       " 'ECE3005-CMOS VLSI Design': ['L51+L52'],\n",
       " 'ECE3006-HDL Verification and Methodology': ['L31+L32'],\n",
       " 'ECE3010-Speech processing': ['L33+L34'],\n",
       " 'ECE4003-Embedded Programming': ['L27+L28'],\n",
       " 'ECE4005-SOC Design': ['L21+L22'],\n",
       " 'ECE4006-Analog IC Design': ['L3+L4'],\n",
       " 'ECE4017-IoT Domain Analyst': ['L29+L30'],\n",
       " 'ECE4018-Image Analysis and Computer Vision': ['L51+L52'],\n",
       " 'MAT1011-Applied Statistics': ['L27+L28',\n",
       "  'L35+L36',\n",
       "  'L19+L20',\n",
       "  'L3+L4',\n",
       "  'L21+L22',\n",
       "  'L37+L38',\n",
       "  'L43+L44',\n",
       "  'L1+L2',\n",
       "  'L33+L34',\n",
       "  'L39+L40',\n",
       "  'L7+L8',\n",
       "  'L5+L6',\n",
       "  'L47+L48',\n",
       "  'L9+L10',\n",
       "  'L45+L46',\n",
       "  'L23+L24',\n",
       "  'L49+L50',\n",
       "  'L13+L14',\n",
       "  'L53+L54',\n",
       "  'L15+L16',\n",
       "  'L17+L18',\n",
       "  'L29+L30',\n",
       "  'L55+L56',\n",
       "  'L25+L26',\n",
       "  'L11+L12',\n",
       "  'L31+L32',\n",
       "  'L57+L58',\n",
       "  'L51+L52',\n",
       "  'L41+L42'],\n",
       " 'MAT2001-Numerical Methods for Engineers': ['L49+L50', 'L3+L4'],\n",
       " 'MAT2003-Optimization Techniques': ['L27+L28', 'L45+L46'],\n",
       " 'MEC1002-Engineering Graphics': ['L13+L14+L21+L22'],\n",
       " 'MEC2005-Fundamentals of Manufacturing Processes': ['L1+L2', 'L5+L6'],\n",
       " 'MEC3001-Heat and Mass Transfer': ['L37+L38'],\n",
       " 'MEC3002-Theory of Machines': ['L1+L2', 'L5+L6'],\n",
       " 'MEC3005-Automation in Manufacturing': ['L39+L40'],\n",
       " 'MEC3012-Additive Manufacturing': ['L41+L42'],\n",
       " 'MEC4003-Internal Combustion Engines': ['L33+L34'],\n",
       " 'MEC4008-Automobile Engineering': ['L39+L40'],\n",
       " 'MGT1001-Ethics and Values': ['L27+L28',\n",
       "  'L49+L50',\n",
       "  'L35+L36',\n",
       "  'L3+L4',\n",
       "  'L29+L30',\n",
       "  'L15+L16',\n",
       "  'L21+L22',\n",
       "  'L37+L38',\n",
       "  'L43+L44',\n",
       "  'L55+L56',\n",
       "  'L39+L40',\n",
       "  'L9+L10'],\n",
       " 'SWE2006-Database Systems': ['L49+L50',\n",
       "  'L53+L54',\n",
       "  'L19+L20',\n",
       "  'L17+L18',\n",
       "  'L1+L2',\n",
       "  'L47+L48',\n",
       "  'L9+L10',\n",
       "  'L45+L46'],\n",
       " 'SWE3001-Introduction to Computer Networks': ['L35+L36',\n",
       "  'L3+L4',\n",
       "  'L7+L8',\n",
       "  'L37+L38',\n",
       "  'L31+L32',\n",
       "  'L57+L58',\n",
       "  'L5+L6'],\n",
       " 'SWE3005-Principles of Design Patterns': ['L41+L42', 'L11+L12', 'L39+L40'],\n",
       " 'SWE4002-Software Testing': ['L29+L30', 'L53+L54', 'L45+L46'],\n",
       " 'SWE4006-Advanced Server Side Programming': ['L29+L30', 'L53+L54', 'L45+L46']}"
      ]
     },
     "execution_count": 42,
     "metadata": {},
     "output_type": "execute_result"
    }
   ],
   "source": [
    "# convert into a dict where course title is key and value is slots \n",
    "course_dict = _df.set_index(\"course\").to_dict()[\"SLOT\"]\n",
    "course_dict"
   ]
  },
  {
   "cell_type": "code",
   "execution_count": 43,
   "metadata": {},
   "outputs": [],
   "source": [
    "# save this as json \n",
    "import json\n",
    "with open(\"course_dict.json\", \"w\") as f:\n",
    "    json.dump(course_dict, f, indent=4)"
   ]
  }
 ],
 "metadata": {
  "kernelspec": {
   "display_name": "Python 3",
   "language": "python",
   "name": "python3"
  },
  "language_info": {
   "codemirror_mode": {
    "name": "ipython",
    "version": 3
   },
   "file_extension": ".py",
   "mimetype": "text/x-python",
   "name": "python",
   "nbconvert_exporter": "python",
   "pygments_lexer": "ipython3",
   "version": "3.11.4"
  },
  "orig_nbformat": 4
 },
 "nbformat": 4,
 "nbformat_minor": 2
}
