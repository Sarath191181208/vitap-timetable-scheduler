{
 "cells": [
  {
   "cell_type": "code",
   "execution_count": 17,
   "metadata": {},
   "outputs": [],
   "source": [
    "import numpy as np \n",
    "import pandas as pd"
   ]
  },
  {
   "cell_type": "code",
   "execution_count": 18,
   "metadata": {},
   "outputs": [],
   "source": [
    "import tabula\n",
    "is_lab: bool = True\n",
    "pdf_path = \"./data/ANNEXURE-II(B) Lab Slots.pdf\"\n",
    "dfs = tabula.io.read_pdf(pdf_path, pages=[i+1 for i in range(4)], multiple_tables=False)"
   ]
  },
  {
   "cell_type": "code",
   "execution_count": 19,
   "metadata": {},
   "outputs": [
    {
     "data": {
      "text/plain": [
       "1"
      ]
     },
     "execution_count": 19,
     "metadata": {},
     "output_type": "execute_result"
    }
   ],
   "source": [
    "len(dfs)"
   ]
  },
  {
   "cell_type": "code",
   "execution_count": 20,
   "metadata": {},
   "outputs": [],
   "source": [
    "df = dfs[0]"
   ]
  },
  {
   "cell_type": "code",
   "execution_count": 21,
   "metadata": {},
   "outputs": [
    {
     "data": {
      "text/html": [
       "<div>\n",
       "<style scoped>\n",
       "    .dataframe tbody tr th:only-of-type {\n",
       "        vertical-align: middle;\n",
       "    }\n",
       "\n",
       "    .dataframe tbody tr th {\n",
       "        vertical-align: top;\n",
       "    }\n",
       "\n",
       "    .dataframe thead th {\n",
       "        text-align: right;\n",
       "    }\n",
       "</style>\n",
       "<table border=\"1\" class=\"dataframe\">\n",
       "  <thead>\n",
       "    <tr style=\"text-align: right;\">\n",
       "      <th></th>\n",
       "      <th>COURSE CODE</th>\n",
       "      <th>TITLE</th>\n",
       "      <th>SLOT</th>\n",
       "    </tr>\n",
       "  </thead>\n",
       "  <tbody>\n",
       "  </tbody>\n",
       "</table>\n",
       "</div>"
      ],
      "text/plain": [
       "Empty DataFrame\n",
       "Columns: [COURSE CODE, TITLE, SLOT]\n",
       "Index: []"
      ]
     },
     "execution_count": 21,
     "metadata": {},
     "output_type": "execute_result"
    }
   ],
   "source": [
    "# get the col where code is chy1001\n",
    "df[df['COURSE CODE'] == 'CHY1001']"
   ]
  },
  {
   "cell_type": "code",
   "execution_count": 22,
   "metadata": {},
   "outputs": [
    {
     "data": {
      "text/plain": [
       "COURSE CODE                   MEC3012\n",
       "TITLE          Additive Manufacturing\n",
       "SLOT                          L33+L34\n",
       "Name: 156, dtype: object"
      ]
     },
     "execution_count": 22,
     "metadata": {},
     "output_type": "execute_result"
    }
   ],
   "source": [
    "# give me the last element\n",
    "df.iloc[-1, :]"
   ]
  },
  {
   "cell_type": "code",
   "execution_count": 23,
   "metadata": {},
   "outputs": [],
   "source": [
    "# remove all the white space characters inside df\n",
    "df = df.replace(r'\\s+', ' ', regex=True)"
   ]
  },
  {
   "cell_type": "code",
   "execution_count": 24,
   "metadata": {},
   "outputs": [
    {
     "data": {
      "text/html": [
       "<div>\n",
       "<style scoped>\n",
       "    .dataframe tbody tr th:only-of-type {\n",
       "        vertical-align: middle;\n",
       "    }\n",
       "\n",
       "    .dataframe tbody tr th {\n",
       "        vertical-align: top;\n",
       "    }\n",
       "\n",
       "    .dataframe thead th {\n",
       "        text-align: right;\n",
       "    }\n",
       "</style>\n",
       "<table border=\"1\" class=\"dataframe\">\n",
       "  <thead>\n",
       "    <tr style=\"text-align: right;\">\n",
       "      <th></th>\n",
       "      <th>COURSE CODE</th>\n",
       "      <th>TITLE</th>\n",
       "      <th>SLOT</th>\n",
       "    </tr>\n",
       "  </thead>\n",
       "  <tbody>\n",
       "    <tr>\n",
       "      <th>0</th>\n",
       "      <td>CSE2001</td>\n",
       "      <td>Data Structures and Algorithms</td>\n",
       "      <td>L1+L2</td>\n",
       "    </tr>\n",
       "    <tr>\n",
       "      <th>1</th>\n",
       "      <td>CSE2001</td>\n",
       "      <td>Data Structures and Algorithms</td>\n",
       "      <td>L3+L4</td>\n",
       "    </tr>\n",
       "    <tr>\n",
       "      <th>2</th>\n",
       "      <td>CSE2001</td>\n",
       "      <td>Data Structures and Algorithms</td>\n",
       "      <td>L5+L6</td>\n",
       "    </tr>\n",
       "    <tr>\n",
       "      <th>3</th>\n",
       "      <td>CSE2001</td>\n",
       "      <td>Data Structures and Algorithms</td>\n",
       "      <td>L7+L8</td>\n",
       "    </tr>\n",
       "    <tr>\n",
       "      <th>4</th>\n",
       "      <td>CSE2001</td>\n",
       "      <td>Data Structures and Algorithms</td>\n",
       "      <td>L9+L10</td>\n",
       "    </tr>\n",
       "  </tbody>\n",
       "</table>\n",
       "</div>"
      ],
      "text/plain": [
       "  COURSE CODE                           TITLE    SLOT\n",
       "0     CSE2001  Data Structures and Algorithms   L1+L2\n",
       "1     CSE2001  Data Structures and Algorithms   L3+L4\n",
       "2     CSE2001  Data Structures and Algorithms   L5+L6\n",
       "3     CSE2001  Data Structures and Algorithms   L7+L8\n",
       "4     CSE2001  Data Structures and Algorithms  L9+L10"
      ]
     },
     "execution_count": 24,
     "metadata": {},
     "output_type": "execute_result"
    }
   ],
   "source": [
    "df.head()"
   ]
  },
  {
   "cell_type": "code",
   "execution_count": 25,
   "metadata": {},
   "outputs": [
    {
     "data": {
      "text/html": [
       "<div>\n",
       "<style scoped>\n",
       "    .dataframe tbody tr th:only-of-type {\n",
       "        vertical-align: middle;\n",
       "    }\n",
       "\n",
       "    .dataframe tbody tr th {\n",
       "        vertical-align: top;\n",
       "    }\n",
       "\n",
       "    .dataframe thead th {\n",
       "        text-align: right;\n",
       "    }\n",
       "</style>\n",
       "<table border=\"1\" class=\"dataframe\">\n",
       "  <thead>\n",
       "    <tr style=\"text-align: right;\">\n",
       "      <th></th>\n",
       "      <th>COURSE CODE</th>\n",
       "      <th>TITLE</th>\n",
       "      <th>SLOT</th>\n",
       "    </tr>\n",
       "  </thead>\n",
       "  <tbody>\n",
       "  </tbody>\n",
       "</table>\n",
       "</div>"
      ],
      "text/plain": [
       "Empty DataFrame\n",
       "Columns: [COURSE CODE, TITLE, SLOT]\n",
       "Index: []"
      ]
     },
     "execution_count": 25,
     "metadata": {},
     "output_type": "execute_result"
    }
   ],
   "source": [
    "# print all the courses whose course code aren't in the format of [A-Z]{3}[0-9]{3}\n",
    "df[~df[\"course code\".upper()].str.match(r\"^[A-Z]{3}[0-9]{4}$\")]"
   ]
  },
  {
   "cell_type": "code",
   "execution_count": 26,
   "metadata": {},
   "outputs": [],
   "source": [
    "# merge all the rows that have COURSE CODE AND SLOT AND COURSE TITLE as SAME\n",
    "# append all the SLOT values to the SLOT column SLOT col is a list \n",
    "_df = df.groupby([\"COURSE CODE\", \"TITLE\"])\\\n",
    "        .agg({\"SLOT\": lambda x: list(x)})\\\n",
    "        .reset_index()"
   ]
  },
  {
   "cell_type": "code",
   "execution_count": 27,
   "metadata": {},
   "outputs": [
    {
     "data": {
      "text/html": [
       "<div>\n",
       "<style scoped>\n",
       "    .dataframe tbody tr th:only-of-type {\n",
       "        vertical-align: middle;\n",
       "    }\n",
       "\n",
       "    .dataframe tbody tr th {\n",
       "        vertical-align: top;\n",
       "    }\n",
       "\n",
       "    .dataframe thead th {\n",
       "        text-align: right;\n",
       "    }\n",
       "</style>\n",
       "<table border=\"1\" class=\"dataframe\">\n",
       "  <thead>\n",
       "    <tr style=\"text-align: right;\">\n",
       "      <th></th>\n",
       "      <th>COURSE CODE</th>\n",
       "      <th>TITLE</th>\n",
       "      <th>SLOT</th>\n",
       "    </tr>\n",
       "  </thead>\n",
       "  <tbody>\n",
       "    <tr>\n",
       "      <th>0</th>\n",
       "      <td>CSE1006</td>\n",
       "      <td>Foundations for Data Analytics</td>\n",
       "      <td>[L53+L54, L33+L34]</td>\n",
       "    </tr>\n",
       "    <tr>\n",
       "      <th>1</th>\n",
       "      <td>CSE2001</td>\n",
       "      <td>Data Structures and Algorithms</td>\n",
       "      <td>[L1+L2, L3+L4, L5+L6, L7+L8, L9+L10, L11+L12, ...</td>\n",
       "    </tr>\n",
       "    <tr>\n",
       "      <th>2</th>\n",
       "      <td>CSE2010</td>\n",
       "      <td>Secure Coding</td>\n",
       "      <td>[L9+L10]</td>\n",
       "    </tr>\n",
       "    <tr>\n",
       "      <th>3</th>\n",
       "      <td>CSE2011</td>\n",
       "      <td>Cyber Security and Digital Forensics</td>\n",
       "      <td>[L37+L38]</td>\n",
       "    </tr>\n",
       "    <tr>\n",
       "      <th>4</th>\n",
       "      <td>CSE3001</td>\n",
       "      <td>Agile Development Process</td>\n",
       "      <td>[L47+L48, L11+L12]</td>\n",
       "    </tr>\n",
       "  </tbody>\n",
       "</table>\n",
       "</div>"
      ],
      "text/plain": [
       "  COURSE CODE                                 TITLE  \\\n",
       "0     CSE1006        Foundations for Data Analytics   \n",
       "1     CSE2001        Data Structures and Algorithms   \n",
       "2     CSE2010                         Secure Coding   \n",
       "3     CSE2011  Cyber Security and Digital Forensics   \n",
       "4     CSE3001             Agile Development Process   \n",
       "\n",
       "                                                SLOT  \n",
       "0                                 [L53+L54, L33+L34]  \n",
       "1  [L1+L2, L3+L4, L5+L6, L7+L8, L9+L10, L11+L12, ...  \n",
       "2                                           [L9+L10]  \n",
       "3                                          [L37+L38]  \n",
       "4                                 [L47+L48, L11+L12]  "
      ]
     },
     "execution_count": 27,
     "metadata": {},
     "output_type": "execute_result"
    }
   ],
   "source": [
    "_df.head()"
   ]
  },
  {
   "cell_type": "code",
   "execution_count": 28,
   "metadata": {},
   "outputs": [
    {
     "data": {
      "text/html": [
       "<div>\n",
       "<style scoped>\n",
       "    .dataframe tbody tr th:only-of-type {\n",
       "        vertical-align: middle;\n",
       "    }\n",
       "\n",
       "    .dataframe tbody tr th {\n",
       "        vertical-align: top;\n",
       "    }\n",
       "\n",
       "    .dataframe thead th {\n",
       "        text-align: right;\n",
       "    }\n",
       "</style>\n",
       "<table border=\"1\" class=\"dataframe\">\n",
       "  <thead>\n",
       "    <tr style=\"text-align: right;\">\n",
       "      <th></th>\n",
       "      <th>COURSE CODE</th>\n",
       "      <th>TITLE</th>\n",
       "      <th>SLOT</th>\n",
       "    </tr>\n",
       "  </thead>\n",
       "  <tbody>\n",
       "    <tr>\n",
       "      <th>0</th>\n",
       "      <td>CSE1006</td>\n",
       "      <td>Foundations for Data Analytics</td>\n",
       "      <td>[L53+L54, L33+L34]</td>\n",
       "    </tr>\n",
       "    <tr>\n",
       "      <th>1</th>\n",
       "      <td>CSE2001</td>\n",
       "      <td>Data Structures and Algorithms</td>\n",
       "      <td>[L1+L2, L3+L4, L5+L6, L7+L8, L9+L10, L11+L12, ...</td>\n",
       "    </tr>\n",
       "    <tr>\n",
       "      <th>2</th>\n",
       "      <td>CSE2010</td>\n",
       "      <td>Secure Coding</td>\n",
       "      <td>[L9+L10]</td>\n",
       "    </tr>\n",
       "    <tr>\n",
       "      <th>3</th>\n",
       "      <td>CSE2011</td>\n",
       "      <td>Cyber Security and Digital Forensics</td>\n",
       "      <td>[L37+L38]</td>\n",
       "    </tr>\n",
       "    <tr>\n",
       "      <th>4</th>\n",
       "      <td>CSE3001</td>\n",
       "      <td>Agile Development Process</td>\n",
       "      <td>[L47+L48, L11+L12]</td>\n",
       "    </tr>\n",
       "  </tbody>\n",
       "</table>\n",
       "</div>"
      ],
      "text/plain": [
       "  COURSE CODE                                 TITLE  \\\n",
       "0     CSE1006        Foundations for Data Analytics   \n",
       "1     CSE2001        Data Structures and Algorithms   \n",
       "2     CSE2010                         Secure Coding   \n",
       "3     CSE2011  Cyber Security and Digital Forensics   \n",
       "4     CSE3001             Agile Development Process   \n",
       "\n",
       "                                                SLOT  \n",
       "0                                 [L53+L54, L33+L34]  \n",
       "1  [L1+L2, L3+L4, L5+L6, L7+L8, L9+L10, L11+L12, ...  \n",
       "2                                           [L9+L10]  \n",
       "3                                          [L37+L38]  \n",
       "4                                 [L47+L48, L11+L12]  "
      ]
     },
     "execution_count": 28,
     "metadata": {},
     "output_type": "execute_result"
    }
   ],
   "source": [
    "_df.head()"
   ]
  },
  {
   "cell_type": "code",
   "execution_count": 29,
   "metadata": {},
   "outputs": [],
   "source": [
    "# convert the course-slots into a set to remove duplicates and remove nan and the empty slots\n",
    "_df[\"SLOT\"] = _df[\"SLOT\"].apply(lambda x: set(x) - {np.nan, \" \"})"
   ]
  },
  {
   "cell_type": "code",
   "execution_count": 30,
   "metadata": {},
   "outputs": [
    {
     "data": {
      "text/plain": [
       "COURSE CODE    0\n",
       "TITLE          0\n",
       "SLOT           0\n",
       "dtype: int64"
      ]
     },
     "execution_count": 30,
     "metadata": {},
     "output_type": "execute_result"
    }
   ],
   "source": [
    "_df.isnull().sum()"
   ]
  },
  {
   "cell_type": "code",
   "execution_count": 31,
   "metadata": {},
   "outputs": [],
   "source": [
    "# merge course-code and course-title into a single column called course \n",
    "_df[\"course\"] = _df[\"COURSE CODE\"] + \"-\" + _df[\"TITLE\"] + (\"( LAB )\" if is_lab else \"\") "
   ]
  },
  {
   "cell_type": "code",
   "execution_count": 32,
   "metadata": {},
   "outputs": [],
   "source": [
    "# drop the course-code and course-title columns\n",
    "_df.drop(columns=[\"COURSE CODE\", \"TITLE\"], inplace=True)"
   ]
  },
  {
   "cell_type": "code",
   "execution_count": 33,
   "metadata": {},
   "outputs": [],
   "source": [
    "# convert slot from set to list\n",
    "_df[\"SLOT\"] = _df[\"SLOT\"].apply(lambda x: list(x))"
   ]
  },
  {
   "cell_type": "code",
   "execution_count": 34,
   "metadata": {},
   "outputs": [
    {
     "data": {
      "text/plain": [
       "{'CSE1006-Foundations for Data Analytics( LAB )': ['L33+L34', 'L53+L54'],\n",
       " 'CSE2001-Data Structures and Algorithms( LAB )': ['L17+L18',\n",
       "  'L35+L36',\n",
       "  'L13+L14',\n",
       "  'L25+L26',\n",
       "  'L53+L54',\n",
       "  'L47+L48',\n",
       "  'L57+L58',\n",
       "  'L33+L34',\n",
       "  'L39+L40',\n",
       "  'L51+L52',\n",
       "  'L43+L44',\n",
       "  'L37+L38',\n",
       "  'L49+L50',\n",
       "  'L29+L30',\n",
       "  'L23+L24',\n",
       "  'L7+L8',\n",
       "  'L11+L12',\n",
       "  'L27+L28',\n",
       "  'L31+L32',\n",
       "  'L59+L60',\n",
       "  'L41+L42',\n",
       "  'L21+L22',\n",
       "  'L45+L46',\n",
       "  'L3+L4',\n",
       "  'L1+L2',\n",
       "  'L5+L6',\n",
       "  'L15+L16',\n",
       "  'L19+L20',\n",
       "  'L55+L56',\n",
       "  'L9+L10'],\n",
       " 'CSE2010-Secure Coding( LAB )': ['L9+L10'],\n",
       " 'CSE2011-Cyber Security and Digital Forensics( LAB )': ['L37+L38'],\n",
       " 'CSE3001-Agile Development Process( LAB )': ['L47+L48', 'L11+L12'],\n",
       " 'CSE3002-Artificial Intelligence( LAB )': ['L15+L16', 'L55+L56'],\n",
       " 'CSE3003-Computer Networks( LAB )': ['L45+L46'],\n",
       " 'CSE3004-Design and Analysis of Algorithms( LAB )': ['L39+L40'],\n",
       " 'CSE3006-Data Visualization( LAB )': ['L39+L40'],\n",
       " 'CSE3008-Introduction to Machine Learning( LAB )': ['L23+L24', 'L53+L54'],\n",
       " 'CSE3009-No SQL Databases( LAB )': ['L33+L34'],\n",
       " 'CSE3012-Network Security( LAB )': ['L5+L6'],\n",
       " 'CSE3015-Natural Language Processing( LAB )': ['L45+L46'],\n",
       " 'CSE4007-Digital Image Processing( LAB )': ['L55+L56'],\n",
       " 'CSE4012-UI UX User Experience Design( LAB )': ['L31+L32', 'L21+L22'],\n",
       " 'CSE4018-Computer Vision and Robotics( LAB )': ['L43+L44'],\n",
       " 'CSE4033-IT Project Management( LAB )': ['L49+L50'],\n",
       " 'ECE3009-Power Electronic Converters( LAB )': ['L37+L38'],\n",
       " 'MAT1011-Applied Statistics( LAB )': ['L7+L8',\n",
       "  'L11+L12',\n",
       "  'L27+L28',\n",
       "  'L51+L52',\n",
       "  'L39+L40',\n",
       "  'L53+L54'],\n",
       " 'MAT2001-Numerical Methods( LAB )': ['L57+L58', 'L55+L56', 'L23+L24'],\n",
       " 'MAT2003-Optimization Techniques( LAB )': ['L9+L10'],\n",
       " 'MAT2004-Applied Optimization Techniques( LAB )': ['L41+L42'],\n",
       " 'MAT2009-Computational Statistics( LAB )': [],\n",
       " 'MEC2003-Strength of Materials( LAB )': ['L43+L44', 'L51+L52'],\n",
       " 'MEC2004-Fluid Mechanics( LAB )': ['L43+L44', 'L51+L52'],\n",
       " 'MEC3012-Additive Manufacturing( LAB )': ['L33+L34'],\n",
       " 'MEC3023-Experimental Robotics( LAB )': ['L45+L46'],\n",
       " 'MGT1001-Ethics and Values( LAB )': ['L35+L36',\n",
       "  'L25+L26',\n",
       "  'L33+L34',\n",
       "  'L39+L40',\n",
       "  'L43+L44',\n",
       "  'L49+L50',\n",
       "  'L37+L38',\n",
       "  'L29+L30',\n",
       "  'L23+L24',\n",
       "  'L7+L8',\n",
       "  'L27+L28',\n",
       "  'L31+L32',\n",
       "  'L41+L42',\n",
       "  'L21+L22',\n",
       "  'L15+L16',\n",
       "  'L3+L4',\n",
       "  'L55+L56',\n",
       "  'L5+L6',\n",
       "  'L19+L20',\n",
       "  'L9+L10'],\n",
       " 'SWE1002-Principles of Software Engineering( LAB )': ['L27+L28',\n",
       "  'L13+L14',\n",
       "  'L41+L42',\n",
       "  'L47+L48',\n",
       "  'L45+L46',\n",
       "  'L39+L40',\n",
       "  'L43+L44',\n",
       "  'L23+L24',\n",
       "  'L9+L10'],\n",
       " 'SWE2001-Data Structures and its Applications( LAB )': ['L17+L18',\n",
       "  'L31+L32',\n",
       "  'L35+L36',\n",
       "  'L21+L22',\n",
       "  'L3+L4',\n",
       "  'L33+L34',\n",
       "  'L51+L52',\n",
       "  'L19+L20',\n",
       "  'L37+L38'],\n",
       " 'SWE2006-Database Systems( LAB )': ['L25+L26',\n",
       "  'L57+L58',\n",
       "  'L15+L16',\n",
       "  'L55+L56',\n",
       "  'L5+L6',\n",
       "  'L1+L2',\n",
       "  'L49+L50',\n",
       "  'L29+L30',\n",
       "  'L53+L54'],\n",
       " 'SWE2007-Fundamentals of Operating Systems( LAB )': ['L33+L34'],\n",
       " 'SWE2008-Object Oriented Analysis and Design( LAB )': ['L31+L32'],\n",
       " 'SWE3001-Fundamentals of Computer Networks( LAB )': ['L27+L28'],\n",
       " 'SWE3004-Front End Design and Testing( LAB )': ['L31+L32'],\n",
       " 'SWE4001-Internet and Web Technologies( LAB )': ['L1+L2',\n",
       "  'L55+L56',\n",
       "  'L53+L54'],\n",
       " 'SWE4002-Software Testing( LAB )': ['L35+L36'],\n",
       " 'SWE4003-Concepts of Mobile Application Development( LAB )': ['L47+L48',\n",
       "  'L57+L58',\n",
       "  'L17+L18']}"
      ]
     },
     "execution_count": 34,
     "metadata": {},
     "output_type": "execute_result"
    }
   ],
   "source": [
    "# convert into a dict where course title is key and value is slots \n",
    "course_dict = _df.set_index(\"course\").to_dict()[\"SLOT\"]\n",
    "course_dict"
   ]
  },
  {
   "cell_type": "code",
   "execution_count": 35,
   "metadata": {},
   "outputs": [],
   "source": [
    "# save this as json \n",
    "import json\n",
    "with open(\"course_dict.json\", \"w\") as f:\n",
    "    json.dump(course_dict, f, indent=4)"
   ]
  }
 ],
 "metadata": {
  "kernelspec": {
   "display_name": "Python 3",
   "language": "python",
   "name": "python3"
  },
  "language_info": {
   "codemirror_mode": {
    "name": "ipython",
    "version": 3
   },
   "file_extension": ".py",
   "mimetype": "text/x-python",
   "name": "python",
   "nbconvert_exporter": "python",
   "pygments_lexer": "ipython3",
   "version": "3.11.3"
  },
  "orig_nbformat": 4
 },
 "nbformat": 4,
 "nbformat_minor": 2
}
