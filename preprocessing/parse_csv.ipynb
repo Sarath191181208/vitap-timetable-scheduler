{
 "cells": [
  {
   "cell_type": "code",
   "execution_count": 39,
   "metadata": {},
   "outputs": [],
   "source": [
    "import numpy as np \n",
    "import pandas as pd"
   ]
  },
  {
   "cell_type": "code",
   "execution_count": 40,
   "metadata": {},
   "outputs": [],
   "source": [
    "import tabula\n",
    "is_lab: bool = False\n",
    "pdf_path = \"./data/ANNEXURE-II(A) Theory Slots (1).pdf\"\n",
    "dfs = tabula.io.read_pdf(pdf_path, pages=[i+1 for i in range(9)], multiple_tables=False)"
   ]
  },
  {
   "cell_type": "code",
   "execution_count": 41,
   "metadata": {},
   "outputs": [
    {
     "data": {
      "text/plain": [
       "1"
      ]
     },
     "execution_count": 41,
     "metadata": {},
     "output_type": "execute_result"
    }
   ],
   "source": [
    "len(dfs)"
   ]
  },
  {
   "cell_type": "code",
   "execution_count": 42,
   "metadata": {},
   "outputs": [],
   "source": [
    "df = dfs[0]"
   ]
  },
  {
   "cell_type": "code",
   "execution_count": 43,
   "metadata": {},
   "outputs": [
    {
     "data": {
      "text/html": [
       "<div>\n",
       "<style scoped>\n",
       "    .dataframe tbody tr th:only-of-type {\n",
       "        vertical-align: middle;\n",
       "    }\n",
       "\n",
       "    .dataframe tbody tr th {\n",
       "        vertical-align: top;\n",
       "    }\n",
       "\n",
       "    .dataframe thead th {\n",
       "        text-align: right;\n",
       "    }\n",
       "</style>\n",
       "<table border=\"1\" class=\"dataframe\">\n",
       "  <thead>\n",
       "    <tr style=\"text-align: right;\">\n",
       "      <th></th>\n",
       "      <th>COURSE CODE</th>\n",
       "      <th>TITLE</th>\n",
       "      <th>SLOT</th>\n",
       "    </tr>\n",
       "  </thead>\n",
       "  <tbody>\n",
       "    <tr>\n",
       "      <th>1</th>\n",
       "      <td>CHY1001</td>\n",
       "      <td>Environmental Studies</td>\n",
       "      <td>E1</td>\n",
       "    </tr>\n",
       "  </tbody>\n",
       "</table>\n",
       "</div>"
      ],
      "text/plain": [
       "  COURSE CODE                  TITLE SLOT\n",
       "1     CHY1001  Environmental Studies   E1"
      ]
     },
     "execution_count": 43,
     "metadata": {},
     "output_type": "execute_result"
    }
   ],
   "source": [
    "# get the col where code is chy1001\n",
    "df[df['COURSE CODE'] == 'CHY1001']"
   ]
  },
  {
   "cell_type": "code",
   "execution_count": 56,
   "metadata": {},
   "outputs": [
    {
     "data": {
      "text/plain": [
       "COURSE CODE    0\n",
       "TITLE          0\n",
       "SLOT           0\n",
       "dtype: int64"
      ]
     },
     "execution_count": 56,
     "metadata": {},
     "output_type": "execute_result"
    }
   ],
   "source": [
    "df.isna().sum()"
   ]
  },
  {
   "cell_type": "code",
   "execution_count": 54,
   "metadata": {},
   "outputs": [],
   "source": [
    "# drop all the isna \n",
    "df = df.dropna()"
   ]
  },
  {
   "cell_type": "code",
   "execution_count": 57,
   "metadata": {},
   "outputs": [
    {
     "data": {
      "text/plain": [
       "COURSE CODE                    MGT1029\n",
       "TITLE          Basic Law for Engineers\n",
       "SLOT                            F1+TF1\n",
       "Name: 365, dtype: object"
      ]
     },
     "execution_count": 57,
     "metadata": {},
     "output_type": "execute_result"
    }
   ],
   "source": [
    "# give me the last element\n",
    "df.iloc[-1, :]"
   ]
  },
  {
   "cell_type": "code",
   "execution_count": 58,
   "metadata": {},
   "outputs": [],
   "source": [
    "# remove all the white space characters inside df\n",
    "df = df.replace(r'\\s+', ' ', regex=True)"
   ]
  },
  {
   "cell_type": "code",
   "execution_count": 59,
   "metadata": {},
   "outputs": [
    {
     "data": {
      "text/html": [
       "<div>\n",
       "<style scoped>\n",
       "    .dataframe tbody tr th:only-of-type {\n",
       "        vertical-align: middle;\n",
       "    }\n",
       "\n",
       "    .dataframe tbody tr th {\n",
       "        vertical-align: top;\n",
       "    }\n",
       "\n",
       "    .dataframe thead th {\n",
       "        text-align: right;\n",
       "    }\n",
       "</style>\n",
       "<table border=\"1\" class=\"dataframe\">\n",
       "  <thead>\n",
       "    <tr style=\"text-align: right;\">\n",
       "      <th></th>\n",
       "      <th>COURSE CODE</th>\n",
       "      <th>TITLE</th>\n",
       "      <th>SLOT</th>\n",
       "    </tr>\n",
       "  </thead>\n",
       "  <tbody>\n",
       "    <tr>\n",
       "      <th>0</th>\n",
       "      <td>STS3006</td>\n",
       "      <td>Basic Competitive Coding - I</td>\n",
       "      <td>G1+TG1</td>\n",
       "    </tr>\n",
       "    <tr>\n",
       "      <th>1</th>\n",
       "      <td>CHY1001</td>\n",
       "      <td>Environmental Studies</td>\n",
       "      <td>E1</td>\n",
       "    </tr>\n",
       "    <tr>\n",
       "      <th>2</th>\n",
       "      <td>CHY1005</td>\n",
       "      <td>Industrial Chemistry for Engineers</td>\n",
       "      <td>C1+TC1</td>\n",
       "    </tr>\n",
       "    <tr>\n",
       "      <th>3</th>\n",
       "      <td>CHY1005</td>\n",
       "      <td>Industrial Chemistry for Engineers</td>\n",
       "      <td>G2+TG2</td>\n",
       "    </tr>\n",
       "    <tr>\n",
       "      <th>4</th>\n",
       "      <td>CHY1005</td>\n",
       "      <td>Industrial Chemistry for Engineers</td>\n",
       "      <td>G1+TG1</td>\n",
       "    </tr>\n",
       "  </tbody>\n",
       "</table>\n",
       "</div>"
      ],
      "text/plain": [
       "  COURSE CODE                               TITLE    SLOT\n",
       "0     STS3006        Basic Competitive Coding - I  G1+TG1\n",
       "1     CHY1001               Environmental Studies      E1\n",
       "2     CHY1005  Industrial Chemistry for Engineers  C1+TC1\n",
       "3     CHY1005  Industrial Chemistry for Engineers  G2+TG2\n",
       "4     CHY1005  Industrial Chemistry for Engineers  G1+TG1"
      ]
     },
     "execution_count": 59,
     "metadata": {},
     "output_type": "execute_result"
    }
   ],
   "source": [
    "df.head()"
   ]
  },
  {
   "cell_type": "code",
   "execution_count": 60,
   "metadata": {},
   "outputs": [
    {
     "data": {
      "text/html": [
       "<div>\n",
       "<style scoped>\n",
       "    .dataframe tbody tr th:only-of-type {\n",
       "        vertical-align: middle;\n",
       "    }\n",
       "\n",
       "    .dataframe tbody tr th {\n",
       "        vertical-align: top;\n",
       "    }\n",
       "\n",
       "    .dataframe thead th {\n",
       "        text-align: right;\n",
       "    }\n",
       "</style>\n",
       "<table border=\"1\" class=\"dataframe\">\n",
       "  <thead>\n",
       "    <tr style=\"text-align: right;\">\n",
       "      <th></th>\n",
       "      <th>COURSE CODE</th>\n",
       "      <th>TITLE</th>\n",
       "      <th>SLOT</th>\n",
       "    </tr>\n",
       "  </thead>\n",
       "  <tbody>\n",
       "  </tbody>\n",
       "</table>\n",
       "</div>"
      ],
      "text/plain": [
       "Empty DataFrame\n",
       "Columns: [COURSE CODE, TITLE, SLOT]\n",
       "Index: []"
      ]
     },
     "execution_count": 60,
     "metadata": {},
     "output_type": "execute_result"
    }
   ],
   "source": [
    "# print all the courses whose course code aren't in the format of [A-Z]{3}[0-9]{3}\n",
    "df[~df[\"course code\".upper()].str.match(r\"^[A-Z]{3}[0-9]{4}$\")]"
   ]
  },
  {
   "cell_type": "code",
   "execution_count": 61,
   "metadata": {},
   "outputs": [],
   "source": [
    "# merge all the rows that have COURSE CODE AND SLOT AND COURSE TITLE as SAME\n",
    "# append all the SLOT values to the SLOT column SLOT col is a list \n",
    "_df = df.groupby([\"COURSE CODE\", \"TITLE\"])\\\n",
    "        .agg({\"SLOT\": lambda x: list(x)})\\\n",
    "        .reset_index()"
   ]
  },
  {
   "cell_type": "code",
   "execution_count": 62,
   "metadata": {},
   "outputs": [
    {
     "data": {
      "text/html": [
       "<div>\n",
       "<style scoped>\n",
       "    .dataframe tbody tr th:only-of-type {\n",
       "        vertical-align: middle;\n",
       "    }\n",
       "\n",
       "    .dataframe tbody tr th {\n",
       "        vertical-align: top;\n",
       "    }\n",
       "\n",
       "    .dataframe thead th {\n",
       "        text-align: right;\n",
       "    }\n",
       "</style>\n",
       "<table border=\"1\" class=\"dataframe\">\n",
       "  <thead>\n",
       "    <tr style=\"text-align: right;\">\n",
       "      <th></th>\n",
       "      <th>COURSE CODE</th>\n",
       "      <th>TITLE</th>\n",
       "      <th>SLOT</th>\n",
       "    </tr>\n",
       "  </thead>\n",
       "  <tbody>\n",
       "    <tr>\n",
       "      <th>0</th>\n",
       "      <td>CHY1001</td>\n",
       "      <td>Environmental Studies</td>\n",
       "      <td>[E1]</td>\n",
       "    </tr>\n",
       "    <tr>\n",
       "      <th>1</th>\n",
       "      <td>CHY1005</td>\n",
       "      <td>Industrial Chemistry for Engineers</td>\n",
       "      <td>[C1+TC1, G2+TG2, G1+TG1]</td>\n",
       "    </tr>\n",
       "    <tr>\n",
       "      <th>2</th>\n",
       "      <td>CHY1006</td>\n",
       "      <td>Corrosion Science and Engineering</td>\n",
       "      <td>[E2+TE2, F2+TF2, D1+TD1]</td>\n",
       "    </tr>\n",
       "    <tr>\n",
       "      <th>3</th>\n",
       "      <td>CHY1007</td>\n",
       "      <td>Energy Materials and Their Applications</td>\n",
       "      <td>[B2+TB2, D2+TD2, F1+TF1]</td>\n",
       "    </tr>\n",
       "    <tr>\n",
       "      <th>4</th>\n",
       "      <td>CHY2001</td>\n",
       "      <td>Chemical and Biosensors</td>\n",
       "      <td>[A2+TA2]</td>\n",
       "    </tr>\n",
       "  </tbody>\n",
       "</table>\n",
       "</div>"
      ],
      "text/plain": [
       "  COURSE CODE                                    TITLE  \\\n",
       "0     CHY1001                    Environmental Studies   \n",
       "1     CHY1005       Industrial Chemistry for Engineers   \n",
       "2     CHY1006        Corrosion Science and Engineering   \n",
       "3     CHY1007  Energy Materials and Their Applications   \n",
       "4     CHY2001                  Chemical and Biosensors   \n",
       "\n",
       "                       SLOT  \n",
       "0                      [E1]  \n",
       "1  [C1+TC1, G2+TG2, G1+TG1]  \n",
       "2  [E2+TE2, F2+TF2, D1+TD1]  \n",
       "3  [B2+TB2, D2+TD2, F1+TF1]  \n",
       "4                  [A2+TA2]  "
      ]
     },
     "execution_count": 62,
     "metadata": {},
     "output_type": "execute_result"
    }
   ],
   "source": [
    "_df.head()"
   ]
  },
  {
   "cell_type": "code",
   "execution_count": null,
   "metadata": {},
   "outputs": [
    {
     "data": {
      "text/html": [
       "<div>\n",
       "<style scoped>\n",
       "    .dataframe tbody tr th:only-of-type {\n",
       "        vertical-align: middle;\n",
       "    }\n",
       "\n",
       "    .dataframe tbody tr th {\n",
       "        vertical-align: top;\n",
       "    }\n",
       "\n",
       "    .dataframe thead th {\n",
       "        text-align: right;\n",
       "    }\n",
       "</style>\n",
       "<table border=\"1\" class=\"dataframe\">\n",
       "  <thead>\n",
       "    <tr style=\"text-align: right;\">\n",
       "      <th></th>\n",
       "      <th>COURSE CODE</th>\n",
       "      <th>TITLE</th>\n",
       "      <th>SLOT</th>\n",
       "    </tr>\n",
       "  </thead>\n",
       "  <tbody>\n",
       "    <tr>\n",
       "      <th>0</th>\n",
       "      <td>CHY1001</td>\n",
       "      <td>Environmental Studies</td>\n",
       "      <td>[E1]</td>\n",
       "    </tr>\n",
       "    <tr>\n",
       "      <th>1</th>\n",
       "      <td>CHY1005</td>\n",
       "      <td>Industrial Chemistry for Engineers</td>\n",
       "      <td>[C1+TC1, G2+TG2, G1+TG1]</td>\n",
       "    </tr>\n",
       "    <tr>\n",
       "      <th>2</th>\n",
       "      <td>CHY1006</td>\n",
       "      <td>Corrosion Science and Engineering</td>\n",
       "      <td>[E2+TE2, F2+TF2, D1+TD1]</td>\n",
       "    </tr>\n",
       "    <tr>\n",
       "      <th>3</th>\n",
       "      <td>CHY1007</td>\n",
       "      <td>Energy Materials and Their Applications</td>\n",
       "      <td>[B2+TB2, D2+TD2, F1+TF1]</td>\n",
       "    </tr>\n",
       "    <tr>\n",
       "      <th>4</th>\n",
       "      <td>CHY2001</td>\n",
       "      <td>Chemical and Biosensors</td>\n",
       "      <td>[A2+TA2]</td>\n",
       "    </tr>\n",
       "  </tbody>\n",
       "</table>\n",
       "</div>"
      ],
      "text/plain": [
       "  COURSE CODE                                    TITLE  \\\n",
       "0     CHY1001                    Environmental Studies   \n",
       "1     CHY1005       Industrial Chemistry for Engineers   \n",
       "2     CHY1006        Corrosion Science and Engineering   \n",
       "3     CHY1007  Energy Materials and Their Applications   \n",
       "4     CHY2001                  Chemical and Biosensors   \n",
       "\n",
       "                       SLOT  \n",
       "0                      [E1]  \n",
       "1  [C1+TC1, G2+TG2, G1+TG1]  \n",
       "2  [E2+TE2, F2+TF2, D1+TD1]  \n",
       "3  [B2+TB2, D2+TD2, F1+TF1]  \n",
       "4                  [A2+TA2]  "
      ]
     },
     "execution_count": 31,
     "metadata": {},
     "output_type": "execute_result"
    }
   ],
   "source": [
    "_df.head()"
   ]
  },
  {
   "cell_type": "code",
   "execution_count": 63,
   "metadata": {},
   "outputs": [],
   "source": [
    "# convert the course-slots into a set to remove duplicates and remove nan and the empty slots\n",
    "_df[\"SLOT\"] = _df[\"SLOT\"].apply(lambda x: set(x) - {np.nan, \" \"})"
   ]
  },
  {
   "cell_type": "code",
   "execution_count": 64,
   "metadata": {},
   "outputs": [
    {
     "data": {
      "text/plain": [
       "COURSE CODE    0\n",
       "TITLE          0\n",
       "SLOT           0\n",
       "dtype: int64"
      ]
     },
     "execution_count": 64,
     "metadata": {},
     "output_type": "execute_result"
    }
   ],
   "source": [
    "_df.isnull().sum()"
   ]
  },
  {
   "cell_type": "code",
   "execution_count": 65,
   "metadata": {},
   "outputs": [],
   "source": [
    "# merge course-code and course-title into a single column called course \n",
    "_df[\"course\"] = _df[\"COURSE CODE\"] + \"-\" + _df[\"TITLE\"] + (\"( LAB )\" if is_lab else \"\") "
   ]
  },
  {
   "cell_type": "code",
   "execution_count": 66,
   "metadata": {},
   "outputs": [],
   "source": [
    "# drop the course-code and course-title columns\n",
    "_df.drop(columns=[\"COURSE CODE\", \"TITLE\"], inplace=True)"
   ]
  },
  {
   "cell_type": "code",
   "execution_count": 67,
   "metadata": {},
   "outputs": [],
   "source": [
    "# convert slot from set to list\n",
    "_df[\"SLOT\"] = _df[\"SLOT\"].apply(lambda x: list(x))"
   ]
  },
  {
   "cell_type": "code",
   "execution_count": 68,
   "metadata": {},
   "outputs": [
    {
     "data": {
      "text/plain": [
       "{'CHY1001-Environmental Studies': ['E1'],\n",
       " 'CHY1005-Industrial Chemistry for Engineers': ['G2+TG2', 'G1+TG1', 'C1+TC1'],\n",
       " 'CHY1006-Corrosion Science and Engineering': ['D1+TD1', 'E2+TE2', 'F2+TF2'],\n",
       " 'CHY1007-Energy Materials and Their Applications': ['B2+TB2',\n",
       "  'F1+TF1',\n",
       "  'D2+TD2'],\n",
       " 'CHY2001-Chemical and Biosensors': ['A2+TA2'],\n",
       " 'CHY2002-Organic Electronics': ['B2+TB2', 'E1+TE1'],\n",
       " 'CSE1006-Foundations for Data Analytics': ['E1'],\n",
       " 'CSE1008-Theory of Computation': ['D2+TD2+TDD2', 'C1+TC1+TCC1'],\n",
       " 'CSE2001-Data Structures and Algorithms': ['B1+TB1+TBB1+TG1',\n",
       "  'A1+G1+TA1',\n",
       "  'A2+G2+TA2',\n",
       "  'B2+TB2+TBB2+TG2'],\n",
       " 'CSE2009-Soft Computing': ['D2+TD2', 'C1+TC1'],\n",
       " 'CSE2010-Secure Coding': ['C2+TC2'],\n",
       " 'CSE2011-Cyber Security and Digital Forensics': ['D2+TD2'],\n",
       " 'CSE2013-Information Theory and Coding': ['B1+TB1+TBB1'],\n",
       " 'CSE3001-Agile Development Process': ['F1+TF1', 'A2+TA2'],\n",
       " 'CSE3002-Artificial Intelligence': ['B2+TB2', 'A1+TA1'],\n",
       " 'CSE3003-Computer Networks': ['G1+TG1'],\n",
       " 'CSE3004-Design and Analysis of Algorithms': ['F1+TF1'],\n",
       " 'CSE3006-Data Visualization': ['E2+TE2'],\n",
       " 'CSE3008-Introduction to Machine Learning': ['D2+TD2', 'C1+TC1'],\n",
       " 'CSE3009-No SQL Databases': ['A2+TA2'],\n",
       " 'CSE3012-Network Security': ['D2+TD2'],\n",
       " 'CSE3015-Natural Language Processing': ['B1+TB1'],\n",
       " 'CSE3018-Software Configuration Management': ['F2+TF2'],\n",
       " 'CSE3019-Software Quality and Reliability': ['B2+TB2', 'E1+TE1'],\n",
       " 'CSE3020-Product Definition and Validation': ['F2+TF2'],\n",
       " 'CSE3031-Mobile Computing': ['G1+TG1'],\n",
       " 'CSE4005-Data Warehousing and Data Mining': ['B2+TB2'],\n",
       " 'CSE4006-Deep Learning': ['G2+TG2'],\n",
       " 'CSE4007-Digital Image Processing': ['G1+TG1'],\n",
       " 'CSE4011-Internet of Things': ['C2+TC2'],\n",
       " 'CSE4012-UI UX User Experience Design': ['B1+TB1', 'A2+TA2'],\n",
       " 'CSE4018-Computer Vision and Robotics': ['D1+TD1'],\n",
       " 'CSE4033-IT Project Management': ['E1'],\n",
       " 'ECE1010-Probability and Random Processes': ['B1+TB1+TBB1',\n",
       "  'B2+TB2+TBB2',\n",
       "  'A2+TA2+TAA2',\n",
       "  'A1+TA1+TAA1'],\n",
       " 'ECE2002-Computer Organization and Architecture': ['B1+TB1+TBB1',\n",
       "  'B2+TB2+TBB2',\n",
       "  'A2+TA2+TAA2',\n",
       "  'A1+TA1+TAA1',\n",
       "  'C1+TC1+TCC1',\n",
       "  'D1+TD1+TDD1',\n",
       "  'D2+TD2+TDD2',\n",
       "  'C2+TC2+TCC2'],\n",
       " 'ECE2007-Digital Signal Processing': ['B1+TB1'],\n",
       " 'ECE3008-Neural Networks and Fuzzy Systems': ['D1+TD1+TDD1'],\n",
       " 'ECE3009-Power Electronic Converters': ['C1+TC1'],\n",
       " 'ECE4002-Wireless and Mobile Communications': ['A1+TA1'],\n",
       " 'ECE4007-IoT System Architecture': ['G1'],\n",
       " 'ENG1001-English for Essential Communication': ['F1'],\n",
       " 'ENG1002-English for Effective Communication': ['F2'],\n",
       " 'ENG1005-Basic Communication in English': ['F1'],\n",
       " 'ENG1006-Functional Communication in English': ['F2'],\n",
       " 'ENG1015-Introduction to 20th Century European Literature in Translation': ['A1+TA1'],\n",
       " 'ENG2001-English for Professional Communication': ['E2'],\n",
       " 'ENG2004-Advanced Professional Communication': ['E2'],\n",
       " 'ENG3001-Introduction to Translation Studies': ['A2+TA2'],\n",
       " 'ENG3004-Introducing Linguistics': ['F1'],\n",
       " 'FRL1001-Basic French': ['G1', 'F2', 'G2'],\n",
       " 'FRL1004-Basic Spanish': ['F1'],\n",
       " 'FRL1005-German for Beginners': ['E2', 'E1', 'G2'],\n",
       " 'FRL2003-French for Engineers': ['E1+TE1'],\n",
       " 'FRL2004-Korean for Beginners': ['F2', 'F1'],\n",
       " 'HUM1002-Personal Finance for Engineers': ['F2'],\n",
       " 'HUM2003-Fundamentals of Cost and Management Accounting': ['A1+TA1+TAA1'],\n",
       " 'INL1001-Functional Hindi for non-Hindi Speakers': ['G2'],\n",
       " 'INL1101-Foundations of Hindi Language': ['E2'],\n",
       " 'LAW1001-Law, Internet and Society': ['G1+TG1'],\n",
       " 'LAW1002-Competition Law for Engineers': ['F2+TF2', 'C2+TC2'],\n",
       " 'LAW1003-Human Rights and Criminal Justice System': ['G2+TG2'],\n",
       " 'LAW1005-Introduction to Indian Constitution': ['D1+TD1', 'F1+TF1'],\n",
       " 'LAW1008-Intellectual Property Law for Engineers': ['D1+TD1+TDD1',\n",
       "  'C2+TC2+TCC2'],\n",
       " 'LAW2001-Business and Human Rights': ['E2+TE2'],\n",
       " 'LIB1001-Anthropology – An Introduction': ['A1+TA1'],\n",
       " 'LIB1003-Psychology - An Introduction': ['B1+TB1'],\n",
       " 'LIB1007-Gender Studies - An Introduction': ['B2'],\n",
       " 'LIB1014-Pursuit of Happiness': ['C1+TC1'],\n",
       " 'LIB2003-Geography of Asia and Sub-Saharan Africa': ['F1+TF1'],\n",
       " 'LIB2004-Ancient Indian History': ['A1+TA1+TAA1'],\n",
       " 'MAT1003-Discrete Mathematical Structures': ['B1+TB1+TBB1',\n",
       "  'B2+TB2+TBB2',\n",
       "  'A2+TA2+TAA2',\n",
       "  'A1+TA1+TAA1',\n",
       "  'C1+TC1+TCC1',\n",
       "  'D1+TD1+TDD1',\n",
       "  'D2+TD2+TDD2',\n",
       "  'C2+TC2+TCC2'],\n",
       " 'MAT1007-Discrete Mathematics': ['D1+TD1+TDD1',\n",
       "  'D2+TD2+TDD2',\n",
       "  'C2+TC2+TCC2',\n",
       "  'C1+TC1+TCC1'],\n",
       " 'MAT1011-Applied Statistics': ['E2+TE2', 'E1+TE1', 'C2+TC2', 'C1+TC1'],\n",
       " 'MAT2001-Numerical Methods for Engineers': ['E2', 'C1', 'E1'],\n",
       " 'MAT2002-Complex Variables and Partial Differential Equations': ['A1+TA1',\n",
       "  'A2+TA2'],\n",
       " 'MAT2003-Optimization Techniques': ['A2+TA2'],\n",
       " 'MAT2004-Applied Optimization Techniques': ['D1+TD1'],\n",
       " 'MAT2005-Linear Algebra': ['A1+TA1', 'G1+TG1'],\n",
       " 'MAT2009-Computational Statistics': ['A1+TA1', 'F1+TF1', 'C2+TC2'],\n",
       " 'MAT2011-Graph Theory and Applications': ['C2+TC2'],\n",
       " 'MEC2003-Strength of Materials': ['B1+TB1'],\n",
       " 'MEC2004-Fluid Mechanics': ['D1+TD1'],\n",
       " 'MEC2007-Introduction to Mechanical Engineering Design Process': ['C1+TC1'],\n",
       " 'MEC3012-Additive Manufacturing': ['A1+TA1'],\n",
       " 'MGT1002-Lean Start-up Management': ['D1+TD1', 'E2+TE2'],\n",
       " 'MGT1005-Fundamentals of Creativity and Innovation Management': ['C1'],\n",
       " 'MGT1007-Economics for Engineers': ['D2+TD2'],\n",
       " 'MGT1008-Accounting and Finance for Engineers': ['B2+TB2'],\n",
       " 'MGT1011-Fundamentals of Business Strategy': ['B1+TB1'],\n",
       " 'MGT1015-Fundamentals of Consumer Behaviour': ['E2+TE2'],\n",
       " 'MGT1019-Fundamentals of Project Management': ['A2+TA2'],\n",
       " 'MGT1023-Fundamentals of Human Resource Management': ['E1+TE1'],\n",
       " 'MGT1029-Basic Law for Engineers': ['F1+TF1', 'D2+TD2'],\n",
       " 'MGT1037-Introduction to Management': ['E2+TE2'],\n",
       " 'MGT1040-Entrepreneurship': ['E2', 'F2', 'E1', 'F1'],\n",
       " 'MGT2016-Essentials of Marketing Management': ['D1+TD1+TDD1'],\n",
       " 'MGT2019-Introduction to Business Environment': ['D2+TD2+TDD2'],\n",
       " 'PHY1002-Semiconductor Device Physics': ['D1+TD1+TDD1',\n",
       "  'D2+TD2+TDD2',\n",
       "  'C2+TC2+TCC2',\n",
       "  'C1+TC1+TCC1'],\n",
       " 'PHY2004-Optoelectronics': ['G2+TG2'],\n",
       " 'PHY2005-Introduction to Nanotechnology': ['D1+TD1',\n",
       "  'E1+TE1',\n",
       "  'C2+TC2',\n",
       "  'D2+TD2',\n",
       "  'C1+TC1',\n",
       "  'F1+TF1',\n",
       "  'G2+TG2',\n",
       "  'E2+TE2',\n",
       "  'G1+TG1'],\n",
       " 'PHY2006-Solar Photovoltaics : Fundamentals and Technologies': ['D2+TD2',\n",
       "  'G1+TG1'],\n",
       " 'STS1002-Fundamentals of Aptitude': ['D1+TD1',\n",
       "  'C2+TC2',\n",
       "  'D2+TD2',\n",
       "  'C1+TC1',\n",
       "  'A2+TA2',\n",
       "  'A1+TA1'],\n",
       " 'STS1008-Arithmetic Problem Solving Skills': ['D2+TD2'],\n",
       " 'STS2006-Getting Started to Skill Enhancement': ['D1+TD1',\n",
       "  'E1+TE1',\n",
       "  'C2+TC2',\n",
       "  'A2+TA2',\n",
       "  'D2+TD2',\n",
       "  'C1+TC1',\n",
       "  'F2+TF2',\n",
       "  'F1+TF1',\n",
       "  'B2+TB2',\n",
       "  'A1+TA1',\n",
       "  'E2+TE2',\n",
       "  'B1+TB1'],\n",
       " 'STS2008-Numerical Ability and Cognitive Intelligence': ['D1+TD1',\n",
       "  'D2+TD2',\n",
       "  'C2+TC2',\n",
       "  'A2+TA2',\n",
       "  'C1+TC1',\n",
       "  'F2+TF2',\n",
       "  'F1+TF1',\n",
       "  'A1+TA1'],\n",
       " 'STS3004-Introduction to Programming Skills': ['F2+TF2'],\n",
       " 'STS3006-Basic Competitive Coding - I': ['G1+TG1'],\n",
       " 'STS4005-Basic Competitive Coding - II': ['G2+TG2'],\n",
       " 'SWE1002-Principles of Software Engineering': ['B2+TB2',\n",
       "  'E1+TE1',\n",
       "  'B1+TB1',\n",
       "  'E2+TE2'],\n",
       " 'SWE2001-Data Structures and its Applications': ['B1+TB1+TBB1+TG1',\n",
       "  'A1+G1+TA1',\n",
       "  'A2+G2+TA2',\n",
       "  'B2+TB2+TBB2+TG2'],\n",
       " 'SWE2002-Human Computer Interaction': ['G1+TG1'],\n",
       " 'SWE2003-Requirements Engineering Management': ['C2+TC2'],\n",
       " 'SWE2004-Software Design and Architecture': ['B1+TB1'],\n",
       " 'SWE2006-Database Systems': ['F2+TF2', 'F1+TF1', 'C2+TC2', 'C1+TC1'],\n",
       " 'SWE2007-Fundamentals of Operating Systems': ['A2+TA2'],\n",
       " 'SWE2008-Object Oriented Analysis and Design': ['A1+TA1', 'A2+TA2'],\n",
       " 'SWE3001-Introduction to Computer Networks': ['F1+TF1'],\n",
       " 'SWE3002-Software Project Management': ['D1+TD1'],\n",
       " 'SWE3004-Front End Design and Testing': ['A1+TA1', 'A2+TA2'],\n",
       " 'SWE4001-Internet and Web Technologies': ['F2+TF2', 'C1+TC1'],\n",
       " 'SWE4002-Software Testing': ['E1+TE1'],\n",
       " 'SWE4003-Concepts of Mobile Application Development': ['D1+TD1', 'D2+TD2'],\n",
       " 'SWE4004-Cloud Computing and its Applications': ['C1+TC1'],\n",
       " 'SWE4005-Storage Technologies and Management': ['G1+TG1'],\n",
       " 'TEC3001-Design Thinking': ['D1+TD1',\n",
       "  'E1+TE1',\n",
       "  'C2+TC2',\n",
       "  'D2+TD2',\n",
       "  'C1+TC1',\n",
       "  'F1+TF1',\n",
       "  'B2+TB2',\n",
       "  'E2+TE2',\n",
       "  'B1+TB1']}"
      ]
     },
     "execution_count": 68,
     "metadata": {},
     "output_type": "execute_result"
    }
   ],
   "source": [
    "# convert into a dict where course title is key and value is slots \n",
    "course_dict = _df.set_index(\"course\").to_dict()[\"SLOT\"]\n",
    "course_dict"
   ]
  },
  {
   "cell_type": "code",
   "execution_count": 69,
   "metadata": {},
   "outputs": [],
   "source": [
    "# save this as json \n",
    "import json\n",
    "with open(\"course_dict.json\", \"w\") as f:\n",
    "    json.dump(course_dict, f, indent=4)"
   ]
  }
 ],
 "metadata": {
  "kernelspec": {
   "display_name": "Python 3",
   "language": "python",
   "name": "python3"
  },
  "language_info": {
   "codemirror_mode": {
    "name": "ipython",
    "version": 3
   },
   "file_extension": ".py",
   "mimetype": "text/x-python",
   "name": "python",
   "nbconvert_exporter": "python",
   "pygments_lexer": "ipython3",
   "version": "3.11.3"
  },
  "orig_nbformat": 4
 },
 "nbformat": 4,
 "nbformat_minor": 2
}
