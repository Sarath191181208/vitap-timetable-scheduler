{
 "cells": [
  {
   "cell_type": "code",
   "execution_count": 5,
   "metadata": {},
   "outputs": [],
   "source": [
    "with open(\"./data/test.txt\", \"r\") as f:\n",
    "    time_table = f.readlines()"
   ]
  },
  {
   "cell_type": "code",
   "execution_count": 6,
   "metadata": {},
   "outputs": [
    {
     "data": {
      "text/plain": [
       "['-  -  TA  TB  TC  TD  TE  -',\n",
       " 'L1  L2 \\tL3  L4  L25  L26  L27  L28',\n",
       " 'C D E - A B - -',\n",
       " 'L5 L6 L7 L8 L29 L30 L31 L32',\n",
       " '- TE TB TA TC TD - -',\n",
       " 'L9 L10 L11 L12 L33 L34 L35 L36',\n",
       " 'E - D C B A - -',\n",
       " 'L13 L14 L15 L16 L37 L38 L39 L40',\n",
       " 'A B - - D C E -',\n",
       " 'L17 L18 L19 L20 L41 L42 L43 L44',\n",
       " '- - C D A B E -',\n",
       " 'L21 L22 L23 L24 L45 L46 L47 L48']"
      ]
     },
     "execution_count": 6,
     "metadata": {},
     "output_type": "execute_result"
    }
   ],
   "source": [
    "time_table = [\" \".join(x.strip().split(\",\")).replace(\"\\n\", \"\") for x in time_table]\n",
    "time_table"
   ]
  },
  {
   "cell_type": "code",
   "execution_count": 7,
   "metadata": {},
   "outputs": [],
   "source": [
    "import re\n",
    "\n",
    "def is_empty(s: str):\n",
    "    # check if all the characters are empty using regex\n",
    "    return re.match(r\"^\\s*$\", s) is not None\n"
   ]
  },
  {
   "cell_type": "code",
   "execution_count": 10,
   "metadata": {},
   "outputs": [],
   "source": [
    "slots_per_day = []\n",
    "for i in range(0, len(time_table), 2 ):\n",
    "    line1 = time_table[i]\n",
    "    line2 = time_table[i+1]\n",
    "\n",
    "    line1 = line1.split(\" \")\n",
    "    line2 = line2.split(\" \")\n",
    "\n",
    "    line1 = [x for x in line1 if not is_empty(x)]\n",
    "    # line1.insert(5, \"\")\n",
    "    line2 = [x for x in line2 if not is_empty(x)]\n",
    "\n",
    "    if len(line1) != len(line2):\n",
    "        raise Exception(\"Invalid lines\" + str(line1) + str(line2))\n",
    "\n",
    "    # merge two arrays into one element by element if overflow still add \n",
    "    line = [(x + \"+\" + y).replace(\"/\", \"+\").replace(\"-\",\"\").replace(\"\\t\", \"\").removeprefix(\"+\") for x, y in zip(line1, line2)]\n",
    "    line.extend(line2[len(line1):])\n",
    "    slots_per_day.append(line)\n",
    "    "
   ]
  },
  {
   "cell_type": "code",
   "execution_count": 11,
   "metadata": {},
   "outputs": [
    {
     "name": "stdout",
     "output_type": "stream",
     "text": [
      "['L1', 'L2', 'TA+L3', 'TB+L4', 'TC+L25', 'TD+L26', 'TE+L27', 'L28']\n",
      "['C+L5', 'D+L6', 'E+L7', 'L8', 'A+L29', 'B+L30', 'L31', 'L32']\n",
      "['L9', 'TE+L10', 'TB+L11', 'TA+L12', 'TC+L33', 'TD+L34', 'L35', 'L36']\n",
      "['E+L13', 'L14', 'D+L15', 'C+L16', 'B+L37', 'A+L38', 'L39', 'L40']\n",
      "['A+L17', 'B+L18', 'L19', 'L20', 'D+L41', 'C+L42', 'E+L43', 'L44']\n",
      "['L21', 'L22', 'C+L23', 'D+L24', 'A+L45', 'B+L46', 'E+L47', 'L48']\n"
     ]
    }
   ],
   "source": [
    "for day in slots_per_day:\n",
    "    print(day)"
   ]
  },
  {
   "cell_type": "code",
   "execution_count": 12,
   "metadata": {},
   "outputs": [
    {
     "data": {
      "text/plain": [
       "{'Monday': ['L1', 'L2', 'TA+L3', 'TB+L4', 'TC+L25', 'TD+L26', 'TE+L27', 'L28'],\n",
       " 'Tuesday': ['C+L5', 'D+L6', 'E+L7', 'L8', 'A+L29', 'B+L30', 'L31', 'L32'],\n",
       " 'Wednesday': ['L9',\n",
       "  'TE+L10',\n",
       "  'TB+L11',\n",
       "  'TA+L12',\n",
       "  'TC+L33',\n",
       "  'TD+L34',\n",
       "  'L35',\n",
       "  'L36'],\n",
       " 'Thursday': ['E+L13',\n",
       "  'L14',\n",
       "  'D+L15',\n",
       "  'C+L16',\n",
       "  'B+L37',\n",
       "  'A+L38',\n",
       "  'L39',\n",
       "  'L40'],\n",
       " 'Friday': ['A+L17', 'B+L18', 'L19', 'L20', 'D+L41', 'C+L42', 'E+L43', 'L44'],\n",
       " 'Saturday': ['L21',\n",
       "  'L22',\n",
       "  'C+L23',\n",
       "  'D+L24',\n",
       "  'A+L45',\n",
       "  'B+L46',\n",
       "  'E+L47',\n",
       "  'L48']}"
      ]
     },
     "execution_count": 12,
     "metadata": {},
     "output_type": "execute_result"
    }
   ],
   "source": [
    "days = [ \"Monday\", \"Tuesday\", \"Wednesday\", \"Thursday\", \"Friday\", \"Saturday\"]\n",
    "\n",
    "# convert into a dictionary \n",
    "time_table = dict(zip(days, slots_per_day))\n",
    "time_table"
   ]
  },
  {
   "cell_type": "code",
   "execution_count": 13,
   "metadata": {},
   "outputs": [],
   "source": [
    "import json \n",
    "with open(\"./time_table.json\", \"w\") as f:\n",
    "    json.dump(time_table, f, indent=4)"
   ]
  }
 ],
 "metadata": {
  "kernelspec": {
   "display_name": "timetablescheduler_venv",
   "language": "python",
   "name": "timetablescheduler_venv"
  },
  "language_info": {
   "codemirror_mode": {
    "name": "ipython",
    "version": 3
   },
   "file_extension": ".py",
   "mimetype": "text/x-python",
   "name": "python",
   "nbconvert_exporter": "python",
   "pygments_lexer": "ipython3",
   "version": "3.12.3"
  }
 },
 "nbformat": 4,
 "nbformat_minor": 4
}
