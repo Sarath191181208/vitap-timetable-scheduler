{
 "cells": [
  {
   "cell_type": "code",
   "execution_count": 1,
   "metadata": {},
   "outputs": [],
   "source": [
    "with open(\"./time_table.txt\", \"r\") as f:\n",
    "    time_table = f.readlines()"
   ]
  },
  {
   "cell_type": "code",
   "execution_count": 4,
   "metadata": {},
   "outputs": [
    {
     "data": {
      "text/plain": [
       "['D1 C1 F1/TCC2 TE1 D2 C2 F2/TCC1 TE2',\n",
       " 'L1 L2 L3 L4 L25 L26 L27 L28 L29 L30',\n",
       " 'B1 A1 C1 TD1 B2 A2 C2 TD2',\n",
       " 'L5 L6 L7 L8 L31 L32 L33 L34 L35 L36',\n",
       " 'E1 F1/TBB2 TC1 D1 E2 F2/TBB1 TC2 D2',\n",
       " 'L9 L10 L11 L12 L37 L38 L39 L40 L41 L42',\n",
       " 'F1/TDD2 E1 TB1 TA1 F2/TDD1 E2 TB2 TA2',\n",
       " 'L13 L14 L15 L16 L43 L44 L45 L46 L47 L48',\n",
       " 'C1 D1 E1 TF1/TAA2 C2 D2 E2 TF2/TAA1',\n",
       " 'L17 L18 L19 L20 L49 L50 L51 L52 L53 L54',\n",
       " 'B1 B1 A1 A1 B2 B2 A2 A2',\n",
       " 'L21 L22 L23 L24 L55 L56 L57 L58 L59 L60']"
      ]
     },
     "execution_count": 4,
     "metadata": {},
     "output_type": "execute_result"
    }
   ],
   "source": [
    "time_table = [x.strip().replace(\"\\n\", \"\") for x in time_table]\n",
    "time_table"
   ]
  },
  {
   "cell_type": "code",
   "execution_count": 5,
   "metadata": {},
   "outputs": [],
   "source": [
    "import re\n",
    "\n",
    "\n",
    "def is_empty(s: str):\n",
    "    # check if all the characters are empty using regex\n",
    "    return re.match(r\"^\\s*$\", s) is not None\n"
   ]
  },
  {
   "cell_type": "code",
   "execution_count": 12,
   "metadata": {},
   "outputs": [
    {
     "name": "stdout",
     "output_type": "stream",
     "text": [
      "['D1+L1', 'C1+L2', 'F1+TCC2+L3', 'TE1+L4', 'D2+L25', 'C2+L26', 'F2+TCC1+L27', 'TE2+L28', 'L29', 'L30']\n",
      "['B1+L5', 'A1+L6', 'C1+L7', 'TD1+L8', 'B2+L31', 'A2+L32', 'C2+L33', 'TD2+L34', 'L35', 'L36']\n",
      "['E1+L9', 'F1+TBB2+L10', 'TC1+L11', 'D1+L12', 'E2+L37', 'F2+TBB1+L38', 'TC2+L39', 'D2+L40', 'L41', 'L42']\n",
      "['F1+TDD2+L13', 'E1+L14', 'TB1+L15', 'TA1+L16', 'F2+TDD1+L43', 'E2+L44', 'TB2+L45', 'TA2+L46', 'L47', 'L48']\n",
      "['C1+L17', 'D1+L18', 'E1+L19', 'TF1+TAA2+L20', 'C2+L49', 'D2+L50', 'E2+L51', 'TF2+TAA1+L52', 'L53', 'L54']\n",
      "['B1+L21', 'B1+L22', 'A1+L23', 'A1+L24', 'B2+L55', 'B2+L56', 'A2+L57', 'A2+L58', 'L59', 'L60']\n"
     ]
    }
   ],
   "source": [
    "slots_per_day = []\n",
    "for i in range(0, len(time_table), 2 ):\n",
    "    line1 = time_table[i]\n",
    "    line2 = time_table[i+1]\n",
    "\n",
    "    line1 = line1.split(\" \")\n",
    "    line2 = line2.split(\" \")\n",
    "\n",
    "    line1 = [x for x in line1 if not is_empty(x)]\n",
    "    line2 = [x for x in line2 if not is_empty(x)]\n",
    "\n",
    "    # merge two arrays into one element by element if overflow still add \n",
    "    line = [(x + \"+\" + y).replace(\"/\", \"+\") for x, y in zip(line1, line2)]\n",
    "    line.extend(line2[len(line1):])\n",
    "    slots_per_day.append(line)\n",
    "    "
   ]
  },
  {
   "cell_type": "code",
   "execution_count": 13,
   "metadata": {},
   "outputs": [
    {
     "data": {
      "text/plain": [
       "{'Monday': ['D1+L1',\n",
       "  'C1+L2',\n",
       "  'F1+TCC2+L3',\n",
       "  'TE1+L4',\n",
       "  'D2+L25',\n",
       "  'C2+L26',\n",
       "  'F2+TCC1+L27',\n",
       "  'TE2+L28',\n",
       "  'L29',\n",
       "  'L30'],\n",
       " 'Tuesday': ['B1+L5',\n",
       "  'A1+L6',\n",
       "  'C1+L7',\n",
       "  'TD1+L8',\n",
       "  'B2+L31',\n",
       "  'A2+L32',\n",
       "  'C2+L33',\n",
       "  'TD2+L34',\n",
       "  'L35',\n",
       "  'L36'],\n",
       " 'Wednesday': ['E1+L9',\n",
       "  'F1+TBB2+L10',\n",
       "  'TC1+L11',\n",
       "  'D1+L12',\n",
       "  'E2+L37',\n",
       "  'F2+TBB1+L38',\n",
       "  'TC2+L39',\n",
       "  'D2+L40',\n",
       "  'L41',\n",
       "  'L42'],\n",
       " 'Thursday': ['F1+TDD2+L13',\n",
       "  'E1+L14',\n",
       "  'TB1+L15',\n",
       "  'TA1+L16',\n",
       "  'F2+TDD1+L43',\n",
       "  'E2+L44',\n",
       "  'TB2+L45',\n",
       "  'TA2+L46',\n",
       "  'L47',\n",
       "  'L48'],\n",
       " 'Friday': ['C1+L17',\n",
       "  'D1+L18',\n",
       "  'E1+L19',\n",
       "  'TF1+TAA2+L20',\n",
       "  'C2+L49',\n",
       "  'D2+L50',\n",
       "  'E2+L51',\n",
       "  'TF2+TAA1+L52',\n",
       "  'L53',\n",
       "  'L54'],\n",
       " 'Saturday': ['B1+L21',\n",
       "  'B1+L22',\n",
       "  'A1+L23',\n",
       "  'A1+L24',\n",
       "  'B2+L55',\n",
       "  'B2+L56',\n",
       "  'A2+L57',\n",
       "  'A2+L58',\n",
       "  'L59',\n",
       "  'L60']}"
      ]
     },
     "execution_count": 13,
     "metadata": {},
     "output_type": "execute_result"
    }
   ],
   "source": [
    "days = [\"Monday\", \"Tuesday\", \"Wednesday\", \"Thursday\", \"Friday\", \"Saturday\"]\n",
    "\n",
    "# convert into a dictionary \n",
    "time_table = dict(zip(days, slots_per_day))\n",
    "time_table"
   ]
  },
  {
   "cell_type": "code",
   "execution_count": 14,
   "metadata": {},
   "outputs": [],
   "source": [
    "import json \n",
    "with open(\"./time_table.json\", \"w\") as f:\n",
    "    json.dump(time_table, f, indent=4)"
   ]
  }
 ],
 "metadata": {
  "kernelspec": {
   "display_name": "Python 3",
   "language": "python",
   "name": "python3"
  },
  "language_info": {
   "codemirror_mode": {
    "name": "ipython",
    "version": 3
   },
   "file_extension": ".py",
   "mimetype": "text/x-python",
   "name": "python",
   "nbconvert_exporter": "python",
   "pygments_lexer": "ipython3",
   "version": "3.11.3"
  },
  "orig_nbformat": 4
 },
 "nbformat": 4,
 "nbformat_minor": 2
}
