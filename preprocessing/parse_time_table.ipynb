{
 "cells": [
  {
   "cell_type": "code",
   "execution_count": 8,
   "metadata": {},
   "outputs": [],
   "source": [
    "with open(\"./data/test.txt\", \"r\") as f:\n",
    "    time_table = f.readlines()"
   ]
  },
  {
   "cell_type": "code",
   "execution_count": 12,
   "metadata": {},
   "outputs": [
    {
     "data": {
      "text/plain": [
       "['TBB TBB TAA TAA TCC TCC TD TD',\n",
       " 'L1 L2 L3 L4 L25 L26 L27 L28',\n",
       " 'TC TC TB TB TA TA D D',\n",
       " 'L5 L6 L7 L8 L29 L30 L31 L32',\n",
       " 'B B A A  C C D D',\n",
       " 'L9 L10 L11 L12 L33 L34 L35 L36',\n",
       " 'B B C C A A D D',\n",
       " 'L13 L14 L15 L16 L37 L38 L39 L40',\n",
       " 'TA TA TB TB TC TC D D',\n",
       " 'L17 L18 L19 L20 L41 L42 L43 L44',\n",
       " 'TBB TBB TCC TCC TAA TAA TD TD',\n",
       " 'L21 L22 L23 L24 L45 L46 L47 L48']"
      ]
     },
     "execution_count": 12,
     "metadata": {},
     "output_type": "execute_result"
    }
   ],
   "source": [
    "time_table = [\" \".join(x.strip().split(\",\")).replace(\"\\n\", \"\") for x in time_table]\n",
    "time_table"
   ]
  },
  {
   "cell_type": "code",
   "execution_count": 13,
   "metadata": {},
   "outputs": [],
   "source": [
    "import re\n",
    "\n",
    "def is_empty(s: str):\n",
    "    # check if all the characters are empty using regex\n",
    "    return re.match(r\"^\\s*$\", s) is not None\n"
   ]
  },
  {
   "cell_type": "code",
   "execution_count": 14,
   "metadata": {},
   "outputs": [],
   "source": [
    "slots_per_day = []\n",
    "for i in range(0, len(time_table), 2 ):\n",
    "    line1 = time_table[i]\n",
    "    line2 = time_table[i+1]\n",
    "\n",
    "    line1 = line1.split(\" \")\n",
    "    line2 = line2.split(\" \")\n",
    "\n",
    "    line1 = [x for x in line1 if not is_empty(x)]\n",
    "    # line1.insert(5, \"\")\n",
    "    line2 = [x for x in line2 if not is_empty(x)]\n",
    "\n",
    "    if len(line1) != len(line2):\n",
    "        raise Exception(\"Invalid lines\" + str(line1) + str(line2))\n",
    "\n",
    "    # merge two arrays into one element by element if overflow still add \n",
    "    line = [(x + \"+\" + y).replace(\"/\", \"+\").removeprefix(\"+\") for x, y in zip(line1, line2)]\n",
    "    line.extend(line2[len(line1):])\n",
    "    slots_per_day.append(line)\n",
    "    "
   ]
  },
  {
   "cell_type": "code",
   "execution_count": 15,
   "metadata": {},
   "outputs": [
    {
     "name": "stdout",
     "output_type": "stream",
     "text": [
      "['TBB+L1', 'TBB+L2', 'TAA+L3', 'TAA+L4', 'TCC+L25', 'TCC+L26', 'TD+L27', 'TD+L28']\n",
      "['TC+L5', 'TC+L6', 'TB+L7', 'TB+L8', 'TA+L29', 'TA+L30', 'D+L31', 'D+L32']\n",
      "['B+L9', 'B+L10', 'A+L11', 'A+L12', 'C+L33', 'C+L34', 'D+L35', 'D+L36']\n",
      "['B+L13', 'B+L14', 'C+L15', 'C+L16', 'A+L37', 'A+L38', 'D+L39', 'D+L40']\n",
      "['TA+L17', 'TA+L18', 'TB+L19', 'TB+L20', 'TC+L41', 'TC+L42', 'D+L43', 'D+L44']\n",
      "['TBB+L21', 'TBB+L22', 'TCC+L23', 'TCC+L24', 'TAA+L45', 'TAA+L46', 'TD+L47', 'TD+L48']\n"
     ]
    }
   ],
   "source": [
    "for day in slots_per_day:\n",
    "    print(day)"
   ]
  },
  {
   "cell_type": "code",
   "execution_count": 17,
   "metadata": {},
   "outputs": [
    {
     "data": {
      "text/plain": [
       "{'Monday': ['TBB+L1',\n",
       "  'TBB+L2',\n",
       "  'TAA+L3',\n",
       "  'TAA+L4',\n",
       "  'TCC+L25',\n",
       "  'TCC+L26',\n",
       "  'TD+L27',\n",
       "  'TD+L28'],\n",
       " 'Tuesday': ['TC+L5',\n",
       "  'TC+L6',\n",
       "  'TB+L7',\n",
       "  'TB+L8',\n",
       "  'TA+L29',\n",
       "  'TA+L30',\n",
       "  'D+L31',\n",
       "  'D+L32'],\n",
       " 'Wednesday': ['B+L9',\n",
       "  'B+L10',\n",
       "  'A+L11',\n",
       "  'A+L12',\n",
       "  'C+L33',\n",
       "  'C+L34',\n",
       "  'D+L35',\n",
       "  'D+L36'],\n",
       " 'Thursday': ['B+L13',\n",
       "  'B+L14',\n",
       "  'C+L15',\n",
       "  'C+L16',\n",
       "  'A+L37',\n",
       "  'A+L38',\n",
       "  'D+L39',\n",
       "  'D+L40'],\n",
       " 'Friday': ['TA+L17',\n",
       "  'TA+L18',\n",
       "  'TB+L19',\n",
       "  'TB+L20',\n",
       "  'TC+L41',\n",
       "  'TC+L42',\n",
       "  'D+L43',\n",
       "  'D+L44'],\n",
       " 'Saturday': ['TBB+L21',\n",
       "  'TBB+L22',\n",
       "  'TCC+L23',\n",
       "  'TCC+L24',\n",
       "  'TAA+L45',\n",
       "  'TAA+L46',\n",
       "  'TD+L47',\n",
       "  'TD+L48']}"
      ]
     },
     "execution_count": 17,
     "metadata": {},
     "output_type": "execute_result"
    }
   ],
   "source": [
    "days = [ \"Monday\", \"Tuesday\", \"Wednesday\", \"Thursday\", \"Friday\", \"Saturday\"]\n",
    "\n",
    "# convert into a dictionary \n",
    "time_table = dict(zip(days, slots_per_day))\n",
    "time_table"
   ]
  },
  {
   "cell_type": "code",
   "execution_count": 18,
   "metadata": {},
   "outputs": [],
   "source": [
    "import json \n",
    "with open(\"./time_table.json\", \"w\") as f:\n",
    "    json.dump(time_table, f, indent=4)"
   ]
  }
 ],
 "metadata": {
  "kernelspec": {
   "display_name": "timetablescheduler_venv",
   "language": "python",
   "name": "timetablescheduler_venv"
  },
  "language_info": {
   "codemirror_mode": {
    "name": "ipython",
    "version": 3
   },
   "file_extension": ".py",
   "mimetype": "text/x-python",
   "name": "python",
   "nbconvert_exporter": "python",
   "pygments_lexer": "ipython3",
   "version": "3.12.3"
  }
 },
 "nbformat": 4,
 "nbformat_minor": 4
}
