{
 "cells": [
  {
   "cell_type": "code",
   "execution_count": 12,
   "metadata": {},
   "outputs": [],
   "source": [
    "with open(\"./data/test.txt\", \"r\") as f:\n",
    "    time_table = f.readlines()"
   ]
  },
  {
   "cell_type": "code",
   "execution_count": 13,
   "metadata": {},
   "outputs": [
    {
     "data": {
      "text/plain": [
       "['TF1 TA1 E1/STC2 D1 B1 TA2 E2/STC1 D2 B2 TF2',\n",
       " 'L1 L2 L3 L4 L5 L6 L31 L32 L33 L34 L35 L36',\n",
       " 'TCC1 E1/STA2 G1/TFF1 TBB1 TDD1 E2/STA1 G2/TFF2 TBB2 TDD2 TCC2',\n",
       " 'L7 L8 L9 L10 L11 L12 L37 L38 L39 L40 L41 L42',\n",
       " 'TE1 C1 A1 F1 D1 C2 A2 F2 D2 TE2',\n",
       " 'L13 L14 L15 L16 L17 L18 L43 L44 L45 L46 L47 L48',\n",
       " 'TAA1 TD1 B1 G1/TEE1 C1 TD2 B2 G2/TEE2 C2 TAA2',\n",
       " 'L19 L20 L21 L22 L23 L24 L49 L50 L51 L52 L53 L54',\n",
       " 'TG1 TB1 TC1 A1 F1 TB2 TC2 A2 F2 TG2',\n",
       " 'L25 L26 L27 L28 L29 L30 L55 L56 L57 L58 L59 L60']"
      ]
     },
     "execution_count": 13,
     "metadata": {},
     "output_type": "execute_result"
    }
   ],
   "source": [
    "time_table = [x.strip().replace(\"\\n\", \"\") for x in time_table]\n",
    "time_table"
   ]
  },
  {
   "cell_type": "code",
   "execution_count": 14,
   "metadata": {},
   "outputs": [],
   "source": [
    "import re\n",
    "\n",
    "\n",
    "def is_empty(s: str):\n",
    "    # check if all the characters are empty using regex\n",
    "    return re.match(r\"^\\s*$\", s) is not None\n"
   ]
  },
  {
   "cell_type": "code",
   "execution_count": 15,
   "metadata": {},
   "outputs": [],
   "source": [
    "slots_per_day = []\n",
    "for i in range(0, len(time_table), 2 ):\n",
    "    line1 = time_table[i]\n",
    "    line2 = time_table[i+1]\n",
    "\n",
    "    line1 = line1.split(\" \")\n",
    "    line2 = line2.split(\" \")\n",
    "\n",
    "    line1 = [x for x in line1 if not is_empty(x)]\n",
    "    line1.insert(5, \"\")\n",
    "    line2 = [x for x in line2 if not is_empty(x)]\n",
    "\n",
    "    # merge two arrays into one element by element if overflow still add \n",
    "    line = [(x + \"+\" + y).replace(\"/\", \"+\").removeprefix(\"+\") for x, y in zip(line1, line2)]\n",
    "    line.extend(line2[len(line1):])\n",
    "    slots_per_day.append(line)\n",
    "    "
   ]
  },
  {
   "cell_type": "code",
   "execution_count": 16,
   "metadata": {},
   "outputs": [
    {
     "name": "stdout",
     "output_type": "stream",
     "text": [
      "['TF1+L1', 'TA1+L2', 'E1+STC2+L3', 'D1+L4', 'B1+L5', 'L6', 'TA2+L31', 'E2+STC1+L32', 'D2+L33', 'B2+L34', 'TF2+L35', 'L36']\n",
      "['TCC1+L7', 'E1+STA2+L8', 'G1+TFF1+L9', 'TBB1+L10', 'TDD1+L11', 'L12', 'E2+STA1+L37', 'G2+TFF2+L38', 'TBB2+L39', 'TDD2+L40', 'TCC2+L41', 'L42']\n",
      "['TE1+L13', 'C1+L14', 'A1+L15', 'F1+L16', 'D1+L17', 'L18', 'C2+L43', 'A2+L44', 'F2+L45', 'D2+L46', 'TE2+L47', 'L48']\n",
      "['TAA1+L19', 'TD1+L20', 'B1+L21', 'G1+TEE1+L22', 'C1+L23', 'L24', 'TD2+L49', 'B2+L50', 'G2+TEE2+L51', 'C2+L52', 'TAA2+L53', 'L54']\n",
      "['TG1+L25', 'TB1+L26', 'TC1+L27', 'A1+L28', 'F1+L29', 'L30', 'TB2+L55', 'TC2+L56', 'A2+L57', 'F2+L58', 'TG2+L59', 'L60']\n"
     ]
    }
   ],
   "source": [
    "for day in slots_per_day:\n",
    "    print(day)"
   ]
  },
  {
   "cell_type": "code",
   "execution_count": 18,
   "metadata": {},
   "outputs": [
    {
     "data": {
      "text/plain": [
       "{'Tuesday': ['TF1+L1',\n",
       "  'TA1+L2',\n",
       "  'E1+STC2+L3',\n",
       "  'D1+L4',\n",
       "  'B1+L5',\n",
       "  'L6',\n",
       "  'TA2+L31',\n",
       "  'E2+STC1+L32',\n",
       "  'D2+L33',\n",
       "  'B2+L34',\n",
       "  'TF2+L35',\n",
       "  'L36'],\n",
       " 'Wednesday': ['TCC1+L7',\n",
       "  'E1+STA2+L8',\n",
       "  'G1+TFF1+L9',\n",
       "  'TBB1+L10',\n",
       "  'TDD1+L11',\n",
       "  'L12',\n",
       "  'E2+STA1+L37',\n",
       "  'G2+TFF2+L38',\n",
       "  'TBB2+L39',\n",
       "  'TDD2+L40',\n",
       "  'TCC2+L41',\n",
       "  'L42'],\n",
       " 'Thursday': ['TE1+L13',\n",
       "  'C1+L14',\n",
       "  'A1+L15',\n",
       "  'F1+L16',\n",
       "  'D1+L17',\n",
       "  'L18',\n",
       "  'C2+L43',\n",
       "  'A2+L44',\n",
       "  'F2+L45',\n",
       "  'D2+L46',\n",
       "  'TE2+L47',\n",
       "  'L48'],\n",
       " 'Friday': ['TAA1+L19',\n",
       "  'TD1+L20',\n",
       "  'B1+L21',\n",
       "  'G1+TEE1+L22',\n",
       "  'C1+L23',\n",
       "  'L24',\n",
       "  'TD2+L49',\n",
       "  'B2+L50',\n",
       "  'G2+TEE2+L51',\n",
       "  'C2+L52',\n",
       "  'TAA2+L53',\n",
       "  'L54'],\n",
       " 'Saturday': ['TG1+L25',\n",
       "  'TB1+L26',\n",
       "  'TC1+L27',\n",
       "  'A1+L28',\n",
       "  'F1+L29',\n",
       "  'L30',\n",
       "  'TB2+L55',\n",
       "  'TC2+L56',\n",
       "  'A2+L57',\n",
       "  'F2+L58',\n",
       "  'TG2+L59',\n",
       "  'L60']}"
      ]
     },
     "execution_count": 18,
     "metadata": {},
     "output_type": "execute_result"
    }
   ],
   "source": [
    "days = [ \"Tuesday\", \"Wednesday\", \"Thursday\", \"Friday\", \"Saturday\"]\n",
    "\n",
    "# convert into a dictionary \n",
    "time_table = dict(zip(days, slots_per_day))\n",
    "time_table"
   ]
  },
  {
   "cell_type": "code",
   "execution_count": 14,
   "metadata": {},
   "outputs": [],
   "source": [
    "import json \n",
    "with open(\"./time_table.json\", \"w\") as f:\n",
    "    json.dump(time_table, f, indent=4)"
   ]
  }
 ],
 "metadata": {
  "kernelspec": {
   "display_name": "Python 3",
   "language": "python",
   "name": "python3"
  },
  "language_info": {
   "codemirror_mode": {
    "name": "ipython",
    "version": 3
   },
   "file_extension": ".py",
   "mimetype": "text/x-python",
   "name": "python",
   "nbconvert_exporter": "python",
   "pygments_lexer": "ipython3",
   "version": "3.11.4"
  },
  "orig_nbformat": 4
 },
 "nbformat": 4,
 "nbformat_minor": 2
}
